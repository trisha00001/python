{
 "cells": [
  {
   "cell_type": "markdown",
   "metadata": {},
   "source": [
    "# Типы данных"
   ]
  },
  {
   "cell_type": "markdown",
   "metadata": {},
   "source": [
    "- [Списки](#t1)\n",
    "    - [Индекс списка](#p1)\n",
    "    - [Срезы](#p0)\n",
    "    - [Добавить/изменить элементы списка](#t22)\n",
    "    - [Методы](#p1)\n",
    "    - [Удалить элементы списка](#t2)\n",
    "    - [Методы списков](#p2)\n",
    "    - [Элегантный способ создания списков](#p10)\n",
    "    - [Другие операции со списками в Python](#p9)\n",
    "   \n",
    "- [Кортежи](#t3)\n",
    "    - [Создание кортежа](#p3)\n",
    "    - [Доступ к элементам кортежа](#p4)\n",
    "- [Strings](#t4)\n",
    " - [Операции над строками](#p5)\n",
    "- [Множества](#t5)\n",
    "- [Словари](#t6)"
   ]
  },
  {
   "cell_type": "markdown",
   "metadata": {},
   "source": [
    "<a id='t1'></a>\n",
    "# Списки"
   ]
  },
  {
   "cell_type": "markdown",
   "metadata": {},
   "source": [
    "Зачем нужны списки?\n",
    "Может случиться так, что вам придется прочитать, сохранить, обработать и, наконец, напечатать десятки, а может быть, сотни, а может быть, и тысячи чисел. Что тогда? Вам нужно создать отдельную переменную для каждого значения? \n"
   ]
  },
  {
   "cell_type": "code",
   "execution_count": 1,
   "metadata": {},
   "outputs": [
    {
     "ename": "SyntaxError",
     "evalue": "invalid syntax (<ipython-input-1-a869e66e5e80>, line 7)",
     "output_type": "error",
     "traceback": [
      "\u001b[1;36m  File \u001b[1;32m\"<ipython-input-1-a869e66e5e80>\"\u001b[1;36m, line \u001b[1;32m7\u001b[0m\n\u001b[1;33m    :\u001b[0m\n\u001b[1;37m    ^\u001b[0m\n\u001b[1;31mSyntaxError\u001b[0m\u001b[1;31m:\u001b[0m invalid syntax\n"
     ]
    }
   ],
   "source": [
    "var1 = int(input())\n",
    "var2 = int(input())\n",
    "var3 = int(input())\n",
    "var4 = int(input())\n",
    "var5 = int(input())\n",
    "var6 = int(input())\n",
    ":\n",
    ":"
   ]
  },
  {
   "cell_type": "markdown",
   "metadata": {},
   "source": [
    "Списки Python — один из самых универсальных типов данных, который позволяет нам работать с несколькими элементами одновременно. "
   ]
  },
  {
   "cell_type": "markdown",
   "metadata": {},
   "source": [
    "В Python список создается путем помещения элементов в квадратные скобки [], разделенных запятыми."
   ]
  },
  {
   "cell_type": "code",
   "execution_count": null,
   "metadata": {},
   "outputs": [],
   "source": [
    "numbers = [10, 5, 7, 2, 1]"
   ]
  },
  {
   "cell_type": "markdown",
   "metadata": {},
   "source": [
    "numbers — это список, состоящий из пяти значений, и все они числа. Мы также можем сказать, что этот оператор создает список длины, равной пяти (так как внутри него пять элементов)."
   ]
  },
  {
   "cell_type": "markdown",
   "metadata": {},
   "source": [
    "Python принял соглашение о том, что элементы в списке всегда нумеруются, начиная с нуля. Это означает, что элемент, хранящийся в начале списка, будет иметь нулевой номер. Поскольку в нашем списке пять элементов, последнему из них присваивается номер четыре."
   ]
  },
  {
   "cell_type": "markdown",
   "metadata": {},
   "source": [
    "Элементы внутри списка могут иметь разные типы. Некоторые из них могут быть целыми числами, другие числами с плавающей запятой, а третьи могут быть списками."
   ]
  },
  {
   "cell_type": "code",
   "execution_count": null,
   "metadata": {},
   "outputs": [],
   "source": [
    "# list with mixed data types\n",
    "my_list = [1, \"Hello\", 3.4]"
   ]
  },
  {
   "cell_type": "code",
   "execution_count": null,
   "metadata": {},
   "outputs": [],
   "source": [
    "# пустой список\n",
    "my_list = []"
   ]
  },
  {
   "cell_type": "markdown",
   "metadata": {},
   "source": [
    "list() - конструктор"
   ]
  },
  {
   "cell_type": "markdown",
   "metadata": {},
   "source": [
    "Элементами списка могут быть другой список в качестве элемента. Этот случай  называется вложенным списком."
   ]
  },
  {
   "cell_type": "code",
   "execution_count": null,
   "metadata": {},
   "outputs": [],
   "source": [
    "# nested list\n",
    "my_list = [\"mouse\", [8, 4, 6], ['a']]"
   ]
  },
  {
   "cell_type": "code",
   "execution_count": 5,
   "metadata": {},
   "outputs": [],
   "source": [
    "n_list = [[1, 4, 2], [8, 4, 6]]"
   ]
  },
  {
   "cell_type": "code",
   "execution_count": 6,
   "metadata": {},
   "outputs": [
    {
     "name": "stdout",
     "output_type": "stream",
     "text": [
      "2\n"
     ]
    }
   ],
   "source": [
    "print(n_list[0][2])"
   ]
  },
  {
   "cell_type": "code",
   "execution_count": 7,
   "metadata": {},
   "outputs": [
    {
     "name": "stdout",
     "output_type": "stream",
     "text": [
      "8\n"
     ]
    }
   ],
   "source": [
    "print(n_list[1][0])"
   ]
  },
  {
   "cell_type": "code",
   "execution_count": 8,
   "metadata": {},
   "outputs": [
    {
     "name": "stdout",
     "output_type": "stream",
     "text": [
      "[1, 4, 2]\n"
     ]
    }
   ],
   "source": [
    "print(n_list[0])"
   ]
  },
  {
   "cell_type": "code",
   "execution_count": 9,
   "metadata": {},
   "outputs": [
    {
     "name": "stdout",
     "output_type": "stream",
     "text": [
      "[8, 4, 6]\n"
     ]
    }
   ],
   "source": [
    "print(n_list[1])"
   ]
  },
  {
   "cell_type": "markdown",
   "metadata": {},
   "source": [
    "<a id='p1'></a>\n",
    "### Индекс списка"
   ]
  },
  {
   "cell_type": "markdown",
   "metadata": {},
   "source": [
    "Значение в скобках, которое выбирает один элемент списка, называется индексом, а операция выбора элемента из списка называется индексированием."
   ]
  },
  {
   "cell_type": "markdown",
   "metadata": {},
   "source": [
    "![xkcd_python](https://cdn.programiz.com/sites/tutorial2program/files/python-list-index.png)"
   ]
  },
  {
   "cell_type": "code",
   "execution_count": null,
   "metadata": {},
   "outputs": [],
   "source": [
    "y_list = ['p', 'r', 'o', 'b', 'e']\n",
    "\n",
    "# first item\n",
    "print(my_list[0])  # p\n",
    "\n",
    "# third item\n",
    "print(my_list[2])  # o\n",
    "\n",
    "# fifth item\n",
    "print(my_list[4])  # e\n",
    "\n",
    "# Nested List\n",
    "n_list = [\"Happy\", [2, 0, 1, 5]]\n",
    "\n",
    "# Nested indexing\n",
    "print(n_list[0][1])\n",
    "\n",
    "print(n_list[1][3])\n",
    "\n",
    "# Error! Only integer can be used for indexing\n",
    "print(my_list[4.0])"
   ]
  },
  {
   "cell_type": "markdown",
   "metadata": {},
   "source": [
    "Отрицательная индексация\n",
    "Python допускает отрицательное индексирование своих последовательностей. Индекс -1 относится к последнему элементу, -2 к предпоследнему элементу и так далее."
   ]
  },
  {
   "cell_type": "code",
   "execution_count": null,
   "metadata": {},
   "outputs": [],
   "source": [
    "# Negative indexing in lists\n",
    "my_list = ['p','r','o','b','e']\n",
    "\n",
    "# last item\n",
    "print(my_list[-1])\n",
    "\n",
    "# fifth last item\n",
    "print(my_list[-5])"
   ]
  },
  {
   "cell_type": "markdown",
   "metadata": {},
   "source": [
    "Как изменить значение выбранного элемента в списке?\n",
    "\n",
    "Давайте назначим новое значение 111 первому элементу в списке. "
   ]
  },
  {
   "cell_type": "code",
   "execution_count": 10,
   "metadata": {},
   "outputs": [
    {
     "name": "stdout",
     "output_type": "stream",
     "text": [
      "Original list content: [10, 5, 7, 2, 1]\n",
      "New list content:  [111, 5, 7, 2, 1]\n"
     ]
    }
   ],
   "source": [
    "numbers = [10, 5, 7, 2, 1]\n",
    "print(\"Original list content:\", numbers)  # Printing original list content.\n",
    "\n",
    "numbers[0] = 111\n",
    "print(\"New list content: \", numbers)  # Current list content.\n"
   ]
  },
  {
   "cell_type": "markdown",
   "metadata": {},
   "source": [
    "<a id='p0'></a>\n",
    "## Срезы"
   ]
  },
  {
   "cell_type": "markdown",
   "metadata": {},
   "source": [
    "Срез — это элемент синтаксиса Python, который позволяет вам создать новую копию списка или частей списка."
   ]
  },
  {
   "cell_type": "markdown",
   "metadata": {},
   "source": [
    "my_list[start:end: шаг]"
   ]
  },
  {
   "cell_type": "code",
   "execution_count": 16,
   "metadata": {},
   "outputs": [
    {
     "name": "stdout",
     "output_type": "stream",
     "text": [
      "['o', 'g', 'r']\n",
      "['a', 'm', 'i', 'z']\n",
      "['p', 'r', 'o', 'g', 'r', 'a', 'm', 'i', 'z']\n",
      "['p', 'o', 'r', 'm', 'z']\n",
      "['a', 'g', 'r']\n",
      "['z', 'i', 'm', 'a', 'r', 'g', 'o', 'r', 'p']\n",
      "['a', 'r', 'g', 'o']\n"
     ]
    }
   ],
   "source": [
    "# List slicing in Python\n",
    "\n",
    "my_list = ['p','r','o','g','r','a','m','i','z']\n",
    "\n",
    "# elements from index 2 to index 4\n",
    "print(my_list[2:5])\n",
    "\n",
    "# elements from index 5 to end\n",
    "print(my_list[5:])\n",
    "\n",
    "# elements beginning to end\n",
    "print(my_list[:])\n",
    "\n",
    "print(my_list[::2])\n",
    "\n",
    "print(my_list[5:0:-2])\n",
    "print(my_list[::-1])\n",
    "print(my_list[5:1:-1])"
   ]
  },
  {
   "cell_type": "code",
   "execution_count": 17,
   "metadata": {},
   "outputs": [
    {
     "name": "stdout",
     "output_type": "stream",
     "text": [
      "9\n"
     ]
    }
   ],
   "source": [
    "print(len(my_list))"
   ]
  },
  {
   "cell_type": "markdown",
   "metadata": {},
   "source": [
    "Сначала выведите третий символ этой строки.\n",
    "\n",
    "Во второй строке выведите предпоследний символ этой строки.\n",
    "\n",
    "В третьей строке выведите первые пять символов этой строки.\n",
    "\n",
    "В четвертой строке выведите всю строку, кроме последних двух символов.\n",
    "\n",
    "В пятой строке выведите все символы с четными индексами (считая, что индексация начинается с 0, поэтому символы выводятся начиная с первого).\n",
    "\n",
    "В шестой строке выведите все символы с нечетными индексами, то есть начиная со второго символа строки.\n",
    "\n",
    "В седьмой строке выведите все символы в обратном порядке.\n",
    "\n",
    "В восьмой строке выведите все символы строки через один в обратном порядке, начиная с последнего.\n",
    "\n",
    "В девятой строке выведите длину данной строки."
   ]
  },
  {
   "cell_type": "code",
   "execution_count": null,
   "metadata": {},
   "outputs": [],
   "source": [
    "my_list = ['p','r','o','g','r','a','m','i','z']"
   ]
  },
  {
   "cell_type": "code",
   "execution_count": 25,
   "metadata": {},
   "outputs": [
    {
     "name": "stdout",
     "output_type": "stream",
     "text": [
      "o\n",
      "i\n",
      "['p', 'r', 'o', 'g', 'r']\n",
      "['p', 'r', 'o', 'g', 'r', 'a', 'm']\n",
      "['p', 'o', 'r', 'm', 'z']\n",
      "['r', 'g', 'a', 'i']\n",
      "['z', 'i', 'm', 'a', 'r', 'g', 'o', 'r', 'p']\n",
      "['z', 'm', 'r', 'o', 'p']\n",
      "9\n"
     ]
    }
   ],
   "source": [
    "print(my_list[2])\n",
    "print(my_list[-2])\n",
    "print(my_list[:5])\n",
    "print(my_list[:-2])\n",
    "print(my_list[::2])\n",
    "print(my_list[1::2])\n",
    "print(my_list[::-1])\n",
    "print(my_list[::-2])\n",
    "print(len(my_list))"
   ]
  },
  {
   "cell_type": "markdown",
   "metadata": {},
   "source": [
    "<a id='t22'></a>\n",
    "# Добавить/изменить элементы списка "
   ]
  },
  {
   "cell_type": "code",
   "execution_count": 28,
   "metadata": {},
   "outputs": [
    {
     "name": "stdout",
     "output_type": "stream",
     "text": [
      "2 4 6 8\n",
      "[1, 4, 6, 8]\n",
      "[1, 3, 5, 7]\n"
     ]
    }
   ],
   "source": [
    "# Correcting mistake values in a list\n",
    "odd = [2, 4, 6, 8]\n",
    "print(*odd)\n",
    "# change the 1st item    \n",
    "odd[0] = 1            \n",
    "\n",
    "print(odd)\n",
    "\n",
    "\n",
    "# change 2nd to 4th items\n",
    "odd[1:4] = [3, 5, 7]  \n",
    "\n",
    "print(odd)   "
   ]
  },
  {
   "cell_type": "markdown",
   "metadata": {},
   "source": [
    "Мы можем добавить один элемент в список с помощью append()метода или добавить несколько элементов с помощью extend()метода"
   ]
  },
  {
   "cell_type": "markdown",
   "metadata": {},
   "source": [
    "<a id='t2'></a>\n",
    "# Методы"
   ]
  },
  {
   "cell_type": "markdown",
   "metadata": {},
   "source": [
    "Функции против методов\n",
    "Метод — это особый вид функции: он ведет себя как функция и выглядит как функция, но отличается способом действия и стилем вызова.\n",
    "\n",
    "Функция не принадлежит никаким данным — она получает данные, может создавать новые данные и (обычно) выдает результат.\n",
    "\n",
    "Метод делает все это, но также может изменить состояние выбранного объекта.\n",
    "\n",
    "Метод принадлежит данным, для которых он работает, а функция принадлежит всему коду.\n",
    "\n",
    "\n",
    "Это также означает, что для вызова метода требуется некоторая спецификация данных, из которых вызывается метод.\n",
    "\n",
    "Здесь это может показаться загадочным, но мы подробно рассмотрим это, когда будем углубляться в объектно-ориентированное программирование.\n",
    "\n",
    "В общем, типичный вызов функции может выглядеть так:\n",
    "result = function(arg)\n",
    "\n",
    "Функция принимает аргумент, делает что-то и возвращает результат.\n",
    "\n",
    "\n",
    "\n",
    "Типичный вызов метода обычно выглядит так:\n",
    "\n",
    "result = data.method(arg)\n",
    "\n",
    "\n",
    "Примечание: имени метода предшествует имя данных, которым принадлежит метод. Затем вы добавляете точку, за которой следует имя метода и пара круглых скобок, заключающих аргументы.\n",
    "\n",
    "Метод будет вести себя как функция, но может делать и кое-что еще — он может изменять внутреннее состояние данных, из которых он был вызван.\n",
    "\n",
    "Вы спросите: почему мы говорим о методах, а не о списках?\n",
    "\n",
    "Сейчас это важная проблема, так как мы собираемся показать вам, как добавлять новые элементы в существующий список. Это можно сделать с помощью методов, принадлежащих всем спискам, а не функциям."
   ]
  },
  {
   "cell_type": "markdown",
   "metadata": {},
   "source": [
    "Мы также можем использовать + оператор для объединения двух списков. Это также называется конкатенацией.\n",
    "\n",
    "Оператор * повторяет список заданное количество раз.\n"
   ]
  },
  {
   "cell_type": "markdown",
   "metadata": {},
   "source": [
    "https://www.programiz.com/python-programming/methods/list"
   ]
  },
  {
   "cell_type": "code",
   "execution_count": 29,
   "metadata": {},
   "outputs": [
    {
     "name": "stdout",
     "output_type": "stream",
     "text": [
      "[1, 3, 5, 9, 7, 5]\n",
      "['re', 're', 're']\n"
     ]
    }
   ],
   "source": [
    "# Concatenating and repeating lists\n",
    "odd = [1, 3, 5]\n",
    "\n",
    "print(odd + [9, 7, 5])\n",
    "\n",
    "print([\"re\"] * 3)"
   ]
  },
  {
   "cell_type": "markdown",
   "metadata": {},
   "source": [
    "Кроме того, мы можем вставить один элемент в нужное место с помощью метода insert()или вставить несколько элементов, втиснув их в пустой фрагмент списка."
   ]
  },
  {
   "cell_type": "code",
   "execution_count": 30,
   "metadata": {},
   "outputs": [
    {
     "name": "stdout",
     "output_type": "stream",
     "text": [
      "[1, 3, 9]\n",
      "[1, 3, 5, 7, 9]\n"
     ]
    }
   ],
   "source": [
    "# Demonstration of list insert() method\n",
    "odd = [1, 9]\n",
    "odd.insert(1,3)\n",
    "\n",
    "print(odd)\n",
    "\n",
    "odd[2:2] = [5, 7]\n",
    "\n",
    "print(odd)\n"
   ]
  },
  {
   "cell_type": "markdown",
   "metadata": {},
   "source": [
    "<a id='p1'></a>\n",
    "# Удалить элементы списка"
   ]
  },
  {
   "cell_type": "markdown",
   "metadata": {},
   "source": [
    "Мы можем удалить один или несколько элементов из списка, используя оператор Python del . Он может даже полностью удалить список.\n",
    "\n"
   ]
  },
  {
   "cell_type": "code",
   "execution_count": 31,
   "metadata": {},
   "outputs": [
    {
     "name": "stdout",
     "output_type": "stream",
     "text": [
      "['p', 'r', 'b', 'l', 'e', 'm']\n",
      "['p', 'm']\n"
     ]
    },
    {
     "ename": "NameError",
     "evalue": "name 'my_list' is not defined",
     "output_type": "error",
     "traceback": [
      "\u001b[1;31m---------------------------------------------------------------------------\u001b[0m",
      "\u001b[1;31mNameError\u001b[0m                                 Traceback (most recent call last)",
      "\u001b[1;32m<ipython-input-31-ec24311e02f0>\u001b[0m in \u001b[0;36m<module>\u001b[1;34m\u001b[0m\n\u001b[0;32m     16\u001b[0m \u001b[1;33m\u001b[0m\u001b[0m\n\u001b[0;32m     17\u001b[0m \u001b[1;31m# Error: List not defined\u001b[0m\u001b[1;33m\u001b[0m\u001b[1;33m\u001b[0m\u001b[1;33m\u001b[0m\u001b[0m\n\u001b[1;32m---> 18\u001b[1;33m \u001b[0mprint\u001b[0m\u001b[1;33m(\u001b[0m\u001b[0mmy_list\u001b[0m\u001b[1;33m)\u001b[0m\u001b[1;33m\u001b[0m\u001b[1;33m\u001b[0m\u001b[0m\n\u001b[0m",
      "\u001b[1;31mNameError\u001b[0m: name 'my_list' is not defined"
     ]
    }
   ],
   "source": [
    "# Deleting list items\n",
    "my_list = ['p', 'r', 'o', 'b', 'l', 'e', 'm']\n",
    "\n",
    "# delete one item\n",
    "del my_list[2]\n",
    "\n",
    "print(my_list)\n",
    "\n",
    "# delete multiple items\n",
    "del my_list[1:5]\n",
    "\n",
    "print(my_list)\n",
    "\n",
    "# delete the entire list\n",
    "del my_list\n",
    "\n",
    "# Error: List not defined\n",
    "print(my_list)"
   ]
  },
  {
   "cell_type": "markdown",
   "metadata": {},
   "source": [
    "Мы можем использовать remove()для удаления данного элемента или pop()для удаления элемента по заданному индексу.\n",
    "\n",
    "Метод pop()удаляет и возвращает последний элемент, если индекс не указан. Это помогает нам реализовать списки в виде стеков (структура данных «первым пришел — последним вышел»).\n",
    "\n",
    "И, если нам нужно очистить весь список, мы можем использовать этот clear()метод.\n"
   ]
  },
  {
   "cell_type": "code",
   "execution_count": 33,
   "metadata": {},
   "outputs": [
    {
     "name": "stdout",
     "output_type": "stream",
     "text": [
      "['r', 'o', 'b', 'l', 'e', 'm']\n",
      "o\n",
      "['r', 'b', 'l', 'e', 'm']\n",
      "m\n",
      "['r', 'b', 'l', 'e']\n",
      "[]\n"
     ]
    }
   ],
   "source": [
    "my_list = ['p','r','o','b','l','e','m']\n",
    "my_list.remove('p')\n",
    "\n",
    "# Output: ['r', 'o', 'b', 'l', 'e', 'm']\n",
    "print(my_list)\n",
    "\n",
    "# Output: 'o'\n",
    "print(my_list.pop(1))\n",
    "\n",
    "# Output: ['r', 'b', 'l', 'e', 'm']\n",
    "print(my_list)\n",
    "\n",
    "# Output: 'm'\n",
    "print(my_list.pop())\n",
    "\n",
    "# Output: ['r', 'b', 'l', 'e']\n",
    "print(my_list)\n",
    "\n",
    "my_list.clear()\n",
    "\n",
    "# Output: []\n",
    "print(my_list)\n"
   ]
  },
  {
   "cell_type": "markdown",
   "metadata": {},
   "source": [
    "<a id='p2'></a>\n",
    "#  Методы списков"
   ]
  },
  {
   "cell_type": "code",
   "execution_count": 34,
   "metadata": {},
   "outputs": [
    {
     "name": "stdout",
     "output_type": "stream",
     "text": [
      "[3, 8, 1, 6, 8, 8, 4, 'a']\n",
      "1\n",
      "3\n"
     ]
    }
   ],
   "source": [
    "# Example on Python list methods\n",
    "\n",
    "my_list = [3, 8, 1, 6, 8, 8, 4]\n",
    "\n",
    "# Add 'a' to the end\n",
    "my_list.append('a')\n",
    "\n",
    "# Output: [3, 8, 1, 6, 0, 8, 4, 'a']\n",
    "print(my_list)\n",
    "\n",
    "# Index of first occurrence of 8\n",
    "print(my_list.index(8))   # Output: 1\n",
    "\n",
    "# Count of 8 in the list\n",
    "print(my_list.count(8))  # Output: 3 "
   ]
  },
  {
   "cell_type": "code",
   "execution_count": null,
   "metadata": {},
   "outputs": [],
   "source": []
  },
  {
   "cell_type": "markdown",
   "metadata": {},
   "source": [
    "<a id='p10'></a>\n",
    "# Элегантный способ создания списков"
   ]
  },
  {
   "cell_type": "code",
   "execution_count": 4,
   "metadata": {},
   "outputs": [
    {
     "name": "stdout",
     "output_type": "stream",
     "text": [
      "The value of x is 12.35\n",
      "The value of x is 12.3457\n"
     ]
    }
   ],
   "source": [
    "pow2 = [2 ** x for x in range(10)]\n",
    "print(pow2)\n"
   ]
  },
  {
   "cell_type": "code",
   "execution_count": null,
   "metadata": {},
   "outputs": [],
   "source": [
    "pow2 = []\n",
    "for x in range(10):\n",
    "   pow2.append(2 ** x)"
   ]
  },
  {
   "cell_type": "code",
   "execution_count": null,
   "metadata": {},
   "outputs": [],
   "source": [
    "pow2 = [2 ** x for x in range(10) if x > 5]\n",
    "pow2"
   ]
  },
  {
   "cell_type": "code",
   "execution_count": null,
   "metadata": {},
   "outputs": [],
   "source": [
    "odd = [x for x in range(20) if x % 2 == 1]\n",
    "odd"
   ]
  },
  {
   "cell_type": "markdown",
   "metadata": {},
   "source": [
    "<a id='p9'></a>\n",
    "# Другие операции со списками в Python"
   ]
  },
  {
   "cell_type": "markdown",
   "metadata": {},
   "source": [
    "### Проверка членства в списке\n",
    "Мы можем проверить, существует ли элемент в списке или нет, используя ключевое слово in\n"
   ]
  },
  {
   "cell_type": "code",
   "execution_count": 35,
   "metadata": {},
   "outputs": [
    {
     "name": "stdout",
     "output_type": "stream",
     "text": [
      "True\n",
      "False\n",
      "True\n"
     ]
    }
   ],
   "source": [
    "my_list = ['p', 'r', 'o', 'b', 'l', 'e', 'm']\n",
    "\n",
    "# Output: True\n",
    "print('p' in my_list)\n",
    "\n",
    "# Output: False\n",
    "print('a' in my_list)\n",
    "\n",
    "# Output: True\n",
    "print('c' not in my_list)"
   ]
  },
  {
   "cell_type": "markdown",
   "metadata": {},
   "source": [
    "### Итерация по списку"
   ]
  },
  {
   "cell_type": "code",
   "execution_count": null,
   "metadata": {},
   "outputs": [],
   "source": []
  },
  {
   "cell_type": "code",
   "execution_count": null,
   "metadata": {},
   "outputs": [],
   "source": [
    "for fruit in ['apple','banana','mango']:\n",
    "    print(\"I like\",fruit)\n",
    "\n"
   ]
  },
  {
   "cell_type": "code",
   "execution_count": null,
   "metadata": {},
   "outputs": [],
   "source": [
    "my_list = [17, 3, 11, 5, 1, 9, 7, 15, 13]\n",
    "largest = my_list[0]\n",
    "\n",
    "for i in my_list:\n",
    "    if i > largest:\n",
    "        largest = i\n",
    "\n",
    "print(largest)"
   ]
  },
  {
   "cell_type": "code",
   "execution_count": 8,
   "metadata": {},
   "outputs": [
    {
     "name": "stdout",
     "output_type": "stream",
     "text": [
      "uyuuu\n",
      "u*y*u*u*u\n"
     ]
    }
   ],
   "source": [
    "a = [1, 2, 3, 4, 5]\n",
    "for i in range(len(a)):\n",
    "    print(a[i])"
   ]
  },
  {
   "cell_type": "code",
   "execution_count": null,
   "metadata": {},
   "outputs": [],
   "source": []
  },
  {
   "cell_type": "code",
   "execution_count": null,
   "metadata": {},
   "outputs": [],
   "source": []
  },
  {
   "cell_type": "code",
   "execution_count": null,
   "metadata": {},
   "outputs": [],
   "source": []
  },
  {
   "cell_type": "code",
   "execution_count": null,
   "metadata": {},
   "outputs": [],
   "source": []
  },
  {
   "cell_type": "code",
   "execution_count": null,
   "metadata": {},
   "outputs": [],
   "source": []
  },
  {
   "cell_type": "code",
   "execution_count": null,
   "metadata": {},
   "outputs": [],
   "source": []
  },
  {
   "cell_type": "code",
   "execution_count": null,
   "metadata": {},
   "outputs": [],
   "source": []
  },
  {
   "cell_type": "markdown",
   "metadata": {},
   "source": [
    "<a id='t3'></a>\n",
    "# Кортежи"
   ]
  },
  {
   "cell_type": "markdown",
   "metadata": {},
   "source": [
    "<a id='p3'></a>\n",
    "# Создание кортежа"
   ]
  },
  {
   "cell_type": "markdown",
   "metadata": {},
   "source": [
    "Кортеж создается путем помещения всех элементов (элементов) в круглые скобки (), разделенных запятыми. Скобки необязательны, однако рекомендуется их использовать.\n",
    "\n",
    "Кортеж может иметь любое количество элементов, и они могут быть разных типов (целое число, число с плавающей запятой, список, строка и т. д .)."
   ]
  },
  {
   "cell_type": "code",
   "execution_count": null,
   "metadata": {},
   "outputs": [],
   "source": [
    "# Different types of tuples\n",
    "\n",
    "# Empty tuple\n",
    "my_tuple = ()\n",
    "print(my_tuple)\n",
    "\n",
    "# Tuple having integers\n",
    "my_tuple = (1, 2, 3)\n",
    "print(my_tuple)\n",
    "\n",
    "# tuple with mixed datatypes\n",
    "my_tuple = (1, \"Hello\", 3.4)\n",
    "print(my_tuple)\n",
    "\n",
    "# nested tuple\n",
    "my_tuple = (\"mouse\", [8, 4, 6], (1, 2, 3))\n",
    "print(my_tuple)"
   ]
  },
  {
   "cell_type": "markdown",
   "metadata": {},
   "source": [
    "Кортеж также можно создать без использования круглых скобок. Это известно как упаковка кортежей."
   ]
  },
  {
   "cell_type": "code",
   "execution_count": null,
   "metadata": {},
   "outputs": [],
   "source": [
    "my_tuple = 3, 4.6, \"dog\"\n",
    "print(my_tuple)\n",
    "\n",
    "# tuple unpacking is also possible\n",
    "a, b, c = my_tuple\n",
    "\n",
    "print(a)      # 3\n",
    "print(b)      # 4.6\n",
    "print(c)      # dog"
   ]
  },
  {
   "cell_type": "markdown",
   "metadata": {},
   "source": [
    "Создать кортеж с одним элементом немного сложно.\n",
    "\n",
    "Наличие одного элемента в круглых скобках недостаточно. Нам понадобится запятая в конце, чтобы указать, что это, по сути, кортеж."
   ]
  },
  {
   "cell_type": "code",
   "execution_count": 15,
   "metadata": {},
   "outputs": [
    {
     "name": "stdout",
     "output_type": "stream",
     "text": [
      "True\n",
      "False\n"
     ]
    }
   ],
   "source": [
    "my_tuple = (\"hello\")\n",
    "print(type(my_tuple))  # <class 'str'>\n",
    "\n",
    "# Creating a tuple having one element\n",
    "my_tuple = (\"hello\",)\n",
    "print(type(my_tuple))  # <class 'tuple'>\n",
    "\n",
    "# Parentheses is optional\n",
    "my_tuple = \"hello\",\n",
    "print(type(my_tuple))  # <class 'tuple'>"
   ]
  },
  {
   "cell_type": "markdown",
   "metadata": {},
   "source": [
    "<a id='p4'></a>\n",
    "## Доступ к элементам кортежа"
   ]
  },
  {
   "cell_type": "markdown",
   "metadata": {},
   "source": [
    "Существуют различные способы доступа к элементам кортежа.\n",
    "\n",
    "## 1. Индексация\n",
    "Мы можем использовать оператор индекса []для доступа к элементу в кортеже, где индекс начинается с 0.\n",
    "\n",
    "Таким образом, кортеж из 6 элементов будет иметь индексы от 0 до 5. Попытка доступа к индексу за пределами диапазона индексов кортежа (6,7,... в этом примере) вызовет ошибку IndexError.\n",
    "\n",
    "Индекс должен быть целым числом, поэтому мы не можем использовать число с плавающей запятой или другие типы. Это приведет к TypeError.\n",
    "\n",
    "Аналогичным образом доступ к вложенным кортежам осуществляется с помощью вложенной индексации, как показано в примере ниже."
   ]
  },
  {
   "cell_type": "code",
   "execution_count": 16,
   "metadata": {},
   "outputs": [
    {
     "name": "stdout",
     "output_type": "stream",
     "text": [
      "False\n",
      "True\n"
     ]
    }
   ],
   "source": [
    "# Accessing tuple elements using indexing\n",
    "my_tuple = ('p','e','r','m','i','t')\n",
    "\n",
    "print(my_tuple[0])   # 'p' \n",
    "print(my_tuple[5])   # 't'\n",
    "\n",
    "# IndexError: list index out of range\n",
    "# print(my_tuple[6])\n",
    "\n",
    "# Index must be an integer\n",
    "# TypeError: list indices must be integers, not float\n",
    "# my_tuple[2.0]\n",
    "\n",
    "# nested tuple\n",
    "n_tuple = (\"mouse\", [8, 4, 6], (1, 2, 3))\n",
    "\n",
    "# nested index\n",
    "print(n_tuple[0][3])       # 's'\n",
    "print(n_tuple[1][1])       # 4"
   ]
  },
  {
   "cell_type": "markdown",
   "metadata": {},
   "source": [
    "## 2. Отрицательное индексирование"
   ]
  },
  {
   "cell_type": "markdown",
   "metadata": {},
   "source": [
    "Python допускает отрицательное индексирование своих последовательностей.\n",
    "\n",
    "Индекс -1 относится к последнему элементу, -2 к предпоследнему элементу и так далее."
   ]
  },
  {
   "cell_type": "code",
   "execution_count": 17,
   "metadata": {},
   "outputs": [
    {
     "name": "stdout",
     "output_type": "stream",
     "text": [
      "55\n",
      "False\n"
     ]
    }
   ],
   "source": [
    "# Negative indexing for accessing tuple elements\n",
    "my_tuple = ('p', 'e', 'r', 'm', 'i', 't')\n",
    "\n",
    "# Output: 't'\n",
    "print(my_tuple[-1])\n",
    "\n",
    "# Output: 'p'\n",
    "print(my_tuple[-6])"
   ]
  },
  {
   "cell_type": "markdown",
   "metadata": {},
   "source": [
    "### Срезы"
   ]
  },
  {
   "cell_type": "code",
   "execution_count": null,
   "metadata": {},
   "outputs": [],
   "source": [
    "# Accessing tuple elements using slicing\n",
    "my_tuple = ('p','r','o','g','r','a','m','i','z')\n",
    "\n",
    "# elements 2nd to 4th\n",
    "# Output: ('r', 'o', 'g')\n",
    "print(my_tuple[1:4])\n",
    "\n",
    "# elements beginning to 2nd\n",
    "# Output: ('p', 'r')\n",
    "print(my_tuple[:-7])\n",
    "\n",
    "# elements 8th to end\n",
    "# Output: ('i', 'z')\n",
    "print(my_tuple[7:])\n",
    "\n",
    "# elements beginning to end\n",
    "# Output: ('p', 'r', 'o', 'g', 'r', 'a', 'm', 'i', 'z')\n",
    "print(my_tuple[:])"
   ]
  },
  {
   "cell_type": "markdown",
   "metadata": {},
   "source": [
    "<a id='t4'></a>\n",
    "#  Strings"
   ]
  },
  {
   "cell_type": "markdown",
   "metadata": {},
   "source": [
    "![xkcd_python](https://cdn.programiz.com/sites/tutorial2program/files/element-slicling.jpg)"
   ]
  },
  {
   "cell_type": "code",
   "execution_count": null,
   "metadata": {},
   "outputs": [],
   "source": [
    "# defining strings in Python\n",
    "# all of the following are equivalent\n",
    "my_string = 'Hello'\n",
    "print(my_string)\n",
    "\n",
    "my_string = \"Hello\"\n",
    "print(my_string)\n",
    "\n",
    "my_string = '''Hello'''\n",
    "print(my_string)\n",
    "\n",
    "# triple quotes string can extend multiple lines\n",
    "my_string = \"\"\"Hello, welcome to\n",
    "           the world of Python\"\"\"\n",
    "print(my_string)"
   ]
  },
  {
   "cell_type": "markdown",
   "metadata": {},
   "source": [
    "Доступ"
   ]
  },
  {
   "cell_type": "code",
   "execution_count": null,
   "metadata": {},
   "outputs": [],
   "source": [
    "#Accessing string characters in Python\n",
    "str = 'programiz'\n",
    "print('str = ', str)\n",
    "\n",
    "#first character\n",
    "print('str[0] = ', str[0])\n",
    "\n",
    "#last character\n",
    "print('str[-1] = ', str[-1])\n",
    "\n",
    "#slicing 2nd to 5th character\n",
    "print('str[1:5] = ', str[1:5])\n",
    "\n",
    "#slicing 6th to 2nd last character\n",
    "print('str[5:-2] = ', str[5:-2])"
   ]
  },
  {
   "cell_type": "code",
   "execution_count": null,
   "metadata": {},
   "outputs": [],
   "source": [
    "# index must be in range\n",
    ">>> my_string[15]  \n",
    "...\n",
    "IndexError: string index out of range\n",
    "\n",
    "# index must be an integer\n",
    ">>> my_string[1.5] \n",
    "...\n",
    "TypeError: string indices must be integers"
   ]
  },
  {
   "cell_type": "markdown",
   "metadata": {},
   "source": [
    "<a id='p5'></a>\n",
    "## Операции над строками в Python"
   ]
  },
  {
   "cell_type": "markdown",
   "metadata": {},
   "source": [
    "Оператор + и *"
   ]
  },
  {
   "cell_type": "code",
   "execution_count": null,
   "metadata": {},
   "outputs": [],
   "source": [
    "# Python String Operations\n",
    "str1 = 'Hello'\n",
    "str2 ='World!'\n",
    "\n",
    "# using +\n",
    "print('str1 + str2 = ', str1 + str2)\n",
    "\n",
    "# using *\n",
    "print('str1 * 3 =', str1 * 3)"
   ]
  },
  {
   "cell_type": "markdown",
   "metadata": {},
   "source": [
    "Итерация по строке"
   ]
  },
  {
   "cell_type": "code",
   "execution_count": null,
   "metadata": {},
   "outputs": [],
   "source": [
    "# Iterating through a string\n",
    "count = 0\n",
    "for letter in 'Hello World':\n",
    "    if(letter == 'l'):\n",
    "        count += 1\n",
    "print(count,'letters found')"
   ]
  },
  {
   "cell_type": "markdown",
   "metadata": {},
   "source": [
    "Вхождение в строку"
   ]
  },
  {
   "cell_type": "code",
   "execution_count": null,
   "metadata": {},
   "outputs": [],
   "source": [
    "'a' in 'program'"
   ]
  },
  {
   "cell_type": "code",
   "execution_count": null,
   "metadata": {},
   "outputs": [],
   "source": [
    "'at' not in 'battle'"
   ]
  },
  {
   "cell_type": "markdown",
   "metadata": {},
   "source": [
    "### Специальные символы\n"
   ]
  },
  {
   "cell_type": "markdown",
   "metadata": {},
   "source": [
    "![xkcd_python](https://office-guru.ru/wp-content/uploads/2021/02/2.jpg)"
   ]
  },
  {
   "cell_type": "code",
   "execution_count": null,
   "metadata": {},
   "outputs": [],
   "source": [
    " print(\"C:\\\\Python32\\\\Lib\")"
   ]
  },
  {
   "cell_type": "code",
   "execution_count": null,
   "metadata": {},
   "outputs": [],
   "source": [
    "https://www.programiz.com/python-programming/methods/string"
   ]
  },
  {
   "cell_type": "markdown",
   "metadata": {},
   "source": [
    "<a id='t5'></a>\n",
    "# Множества"
   ]
  },
  {
   "cell_type": "markdown",
   "metadata": {},
   "source": [
    "это неупорядоченная коллекция элементов. Каждый элемент set уникален и должен быть неизменяемым "
   ]
  },
  {
   "cell_type": "code",
   "execution_count": null,
   "metadata": {},
   "outputs": [],
   "source": [
    "my_set = {1, 2, 3}\n",
    "print(my_set)\n",
    "\n",
    "# set of mixed datatypes\n",
    "my_set = {1.0, \"Hello\", (1, 2, 3)}\n",
    "print(my_set)"
   ]
  },
  {
   "cell_type": "markdown",
   "metadata": {},
   "source": [
    "Добавление элементов"
   ]
  },
  {
   "cell_type": "code",
   "execution_count": null,
   "metadata": {},
   "outputs": [],
   "source": [
    "# initialize my_set\n",
    "my_set = {1, 3}\n",
    "print(my_set)\n",
    "\n",
    "# my_set[0]\n",
    "# if you uncomment the above line\n",
    "# you will get an error\n",
    "# TypeError: 'set' object does not support indexing\n",
    "\n",
    "# add an element\n",
    "# Output: {1, 2, 3}\n",
    "my_set.add(2)\n",
    "print(my_set)\n",
    "\n",
    "# add multiple elements\n",
    "# Output: {1, 2, 3, 4}\n",
    "my_set.update([2, 3, 4])\n",
    "print(my_set)\n",
    "\n",
    "# add list and set\n",
    "# Output: {1, 2, 3, 4, 5, 6, 8}\n",
    "my_set.update([4, 5], {1, 6, 8})\n",
    "print(my_set)"
   ]
  },
  {
   "cell_type": "markdown",
   "metadata": {},
   "source": [
    "Удаление элемнтов списка"
   ]
  },
  {
   "cell_type": "code",
   "execution_count": null,
   "metadata": {},
   "outputs": [],
   "source": [
    "# Difference between discard() and remove()\n",
    "\n",
    "# initialize my_set\n",
    "my_set = {1, 3, 4, 5, 6}\n",
    "print(my_set)\n",
    "\n",
    "# discard an element\n",
    "# Output: {1, 3, 5, 6}\n",
    "my_set.discard(4)\n",
    "print(my_set)\n",
    "\n",
    "# remove an element\n",
    "# Output: {1, 3, 5}\n",
    "my_set.remove(6)\n",
    "print(my_set)\n",
    "\n",
    "# discard an element\n",
    "# not present in my_set\n",
    "# Output: {1, 3, 5}\n",
    "my_set.discard(2)\n",
    "print(my_set)\n",
    "\n",
    "# remove an element\n",
    "# not present in my_set\n",
    "# you will get an error.\n",
    "# Output: KeyError\n",
    "\n",
    "my_set.remove(2)"
   ]
  },
  {
   "cell_type": "markdown",
   "metadata": {},
   "source": [
    "### Операции над множествами\n"
   ]
  },
  {
   "cell_type": "markdown",
   "metadata": {},
   "source": [
    "### Объединение"
   ]
  },
  {
   "cell_type": "markdown",
   "metadata": {},
   "source": [
    "![xkcd_python](https://cdn.programiz.com/sites/tutorial2program/files/set-union.jpg)"
   ]
  },
  {
   "cell_type": "code",
   "execution_count": null,
   "metadata": {},
   "outputs": [],
   "source": [
    "A = {1, 2, 3, 4, 5}\n",
    "B = {4, 5, 6, 7, 8}\n",
    "\n",
    "# use | operator\n",
    "# Output: {1, 2, 3, 4, 5, 6, 7, 8}\n",
    "print(A | B)"
   ]
  },
  {
   "cell_type": "code",
   "execution_count": null,
   "metadata": {},
   "outputs": [],
   "source": [
    "# use union function\n",
    ">>> A.union(B)\n",
    "{1, 2, 3, 4, 5, 6, 7, 8}\n",
    "\n",
    "# use union function on B\n",
    ">>> B.union(A)\n",
    "{1, 2, 3, 4, 5, 6, 7, 8}"
   ]
  },
  {
   "cell_type": "markdown",
   "metadata": {},
   "source": [
    "### Пересечение"
   ]
  },
  {
   "cell_type": "markdown",
   "metadata": {},
   "source": [
    "![xkcd_python](https://cdn.programiz.com/sites/tutorial2program/files/set-intersection.jpg)"
   ]
  },
  {
   "cell_type": "code",
   "execution_count": null,
   "metadata": {},
   "outputs": [],
   "source": [
    "A = {1, 2, 3, 4, 5}\n",
    "B = {4, 5, 6, 7, 8}\n",
    "\n",
    "# use & operator\n",
    "# Output: {4, 5}\n",
    "print(A & B)"
   ]
  },
  {
   "cell_type": "code",
   "execution_count": null,
   "metadata": {},
   "outputs": [],
   "source": [
    "# use intersection function on A\n",
    ">>> A.intersection(B)\n",
    "{4, 5}\n",
    "\n",
    "# use intersection function on B\n",
    ">>> B.intersection(A)\n",
    "{4, 5}"
   ]
  },
  {
   "cell_type": "markdown",
   "metadata": {},
   "source": [
    "### Вычитание "
   ]
  },
  {
   "cell_type": "markdown",
   "metadata": {},
   "source": [
    "![xkcd_python](https://cdn.programiz.com/sites/tutorial2program/files/set-difference.jpg)"
   ]
  },
  {
   "cell_type": "code",
   "execution_count": null,
   "metadata": {},
   "outputs": [],
   "source": [
    "# Difference of two sets\n",
    "# initialize A and B\n",
    "A = {1, 2, 3, 4, 5}\n",
    "B = {4, 5, 6, 7, 8}\n",
    "\n",
    "# use - operator on A\n",
    "# Output: {1, 2, 3}\n",
    "print(A - B)"
   ]
  },
  {
   "cell_type": "code",
   "execution_count": null,
   "metadata": {},
   "outputs": [],
   "source": [
    "# use difference function on A\n",
    ">>> A.difference(B)\n",
    "{1, 2, 3}\n",
    "\n",
    "# use - operator on B\n",
    ">>> B - A\n",
    "{8, 6, 7}\n",
    "\n",
    "# use difference function on B\n",
    ">>> B.difference(A)\n",
    "{8, 6, 7}"
   ]
  },
  {
   "cell_type": "markdown",
   "metadata": {},
   "source": [
    "### Симмитричная разность"
   ]
  },
  {
   "cell_type": "markdown",
   "metadata": {},
   "source": [
    "![xkcd_python](https://cdn.programiz.com/sites/tutorial2program/files/set-symmetric-difference.jpg)"
   ]
  },
  {
   "cell_type": "code",
   "execution_count": null,
   "metadata": {},
   "outputs": [],
   "source": [
    "# Symmetric difference of two sets\n",
    "# initialize A and B\n",
    "A = {1, 2, 3, 4, 5}\n",
    "B = {4, 5, 6, 7, 8}\n",
    "\n",
    "# use ^ operator\n",
    "# Output: {1, 2, 3, 6, 7, 8}\n",
    "print(A ^ B)"
   ]
  },
  {
   "cell_type": "code",
   "execution_count": null,
   "metadata": {},
   "outputs": [],
   "source": [
    "# use symmetric_difference function on A\n",
    "A.symmetric_difference(B)\n",
    "{1, 2, 3, 6, 7, 8}\n",
    "\n",
    "# use symmetric_difference function on B\n",
    " B.symmetric_difference(A)\n",
    "{1, 2, 3, 6, 7, 8}"
   ]
  },
  {
   "cell_type": "markdown",
   "metadata": {},
   "source": [
    "https://www.programiz.com/python-programming/methods/set/issubset"
   ]
  },
  {
   "cell_type": "code",
   "execution_count": null,
   "metadata": {},
   "outputs": [],
   "source": [
    "for letter in set(\"apple\"):\n",
    "    print(letter)"
   ]
  },
  {
   "cell_type": "markdown",
   "metadata": {},
   "source": [
    "###  Включение"
   ]
  },
  {
   "cell_type": "code",
   "execution_count": null,
   "metadata": {},
   "outputs": [],
   "source": [
    "# in keyword in a set\n",
    "# initialize my_set\n",
    "my_set = set(\"apple\")\n",
    "\n",
    "# check if 'a' is present\n",
    "# Output: True\n",
    "print('a' in my_set)\n",
    "\n",
    "# check if 'p' is present\n",
    "# Output: False\n",
    "print('p' not in my_set)"
   ]
  },
  {
   "cell_type": "markdown",
   "metadata": {},
   "source": [
    "## frozenset()"
   ]
  },
  {
   "cell_type": "code",
   "execution_count": null,
   "metadata": {},
   "outputs": [],
   "source": [
    "# Frozensets\n",
    "# initialize A and B\n",
    "A = frozenset([1, 2, 3, 4])\n",
    "B = frozenset([3, 4, 5, 6])"
   ]
  },
  {
   "cell_type": "markdown",
   "metadata": {},
   "source": [
    "Нет методов, которые добавляют или удаляют элементы.copy()difference()intersection()isdisjoint()issubset()issuperset()symmetric_difference()union()"
   ]
  },
  {
   "cell_type": "code",
   "execution_count": 7,
   "metadata": {},
   "outputs": [
    {
     "ename": "NameError",
     "evalue": "name 'A' is not defined",
     "output_type": "error",
     "traceback": [
      "\u001b[1;31m---------------------------------------------------------------------------\u001b[0m",
      "\u001b[1;31mNameError\u001b[0m                                 Traceback (most recent call last)",
      "\u001b[1;32m<ipython-input-7-08933f137a14>\u001b[0m in \u001b[0;36m<module>\u001b[1;34m\u001b[0m\n\u001b[1;32m----> 1\u001b[1;33m \u001b[0mA\u001b[0m\u001b[1;33m.\u001b[0m\u001b[0misdisjoint\u001b[0m\u001b[1;33m(\u001b[0m\u001b[0mB\u001b[0m\u001b[1;33m)\u001b[0m\u001b[1;33m\u001b[0m\u001b[1;33m\u001b[0m\u001b[0m\n\u001b[0m\u001b[0;32m      2\u001b[0m \u001b[0mA\u001b[0m\u001b[1;33m.\u001b[0m\u001b[0mdifference\u001b[0m\u001b[1;33m(\u001b[0m\u001b[0mB\u001b[0m\u001b[1;33m)\u001b[0m\u001b[1;33m\u001b[0m\u001b[1;33m\u001b[0m\u001b[0m\n\u001b[0;32m      3\u001b[0m \u001b[0mfrozenset\u001b[0m\u001b[1;33m(\u001b[0m\u001b[1;33m{\u001b[0m\u001b[1;36m1\u001b[0m\u001b[1;33m,\u001b[0m \u001b[1;36m2\u001b[0m\u001b[1;33m}\u001b[0m\u001b[1;33m)\u001b[0m\u001b[1;33m\u001b[0m\u001b[1;33m\u001b[0m\u001b[0m\n\u001b[0;32m      4\u001b[0m \u001b[0mA\u001b[0m \u001b[1;33m|\u001b[0m \u001b[0mB\u001b[0m\u001b[1;33m\u001b[0m\u001b[1;33m\u001b[0m\u001b[0m\n\u001b[0;32m      5\u001b[0m \u001b[0mfrozenset\u001b[0m\u001b[1;33m(\u001b[0m\u001b[1;33m{\u001b[0m\u001b[1;36m1\u001b[0m\u001b[1;33m,\u001b[0m \u001b[1;36m2\u001b[0m\u001b[1;33m,\u001b[0m \u001b[1;36m3\u001b[0m\u001b[1;33m,\u001b[0m \u001b[1;36m4\u001b[0m\u001b[1;33m,\u001b[0m \u001b[1;36m5\u001b[0m\u001b[1;33m,\u001b[0m \u001b[1;36m6\u001b[0m\u001b[1;33m}\u001b[0m\u001b[1;33m)\u001b[0m\u001b[1;33m\u001b[0m\u001b[1;33m\u001b[0m\u001b[0m\n",
      "\u001b[1;31mNameError\u001b[0m: name 'A' is not defined"
     ]
    }
   ],
   "source": [
    "A.isdisjoint(B)\n",
    "A.difference(B)\n",
    "frozenset({1, 2})\n",
    "A | B\n",
    "frozenset({1, 2, 3, 4, 5, 6})\n",
    "A.add(3)"
   ]
  },
  {
   "cell_type": "markdown",
   "metadata": {},
   "source": [
    "<a id='t6'></a>\n",
    "# Словари"
   ]
  },
  {
   "cell_type": "code",
   "execution_count": null,
   "metadata": {},
   "outputs": [],
   "source": [
    "# empty dictionary\n",
    "my_dict = {}\n",
    "\n",
    "# dictionary with integer keys\n",
    "my_dict = {1: 'apple', 2: 'ball'}\n",
    "\n",
    "# dictionary with mixed keys\n",
    "my_dict = {'name': 'John', 1: [2, 4, 3]}\n",
    "\n",
    "# using dict()\n",
    "my_dict = dict({1:'apple', 2:'ball'})\n",
    "\n",
    "# from sequence having each item as a pair\n",
    "my_dict = dict([(1,'apple'), (2,'ball')])"
   ]
  },
  {
   "cell_type": "markdown",
   "metadata": {},
   "source": [
    "Доступ к элементам из словаря"
   ]
  },
  {
   "cell_type": "code",
   "execution_count": null,
   "metadata": {},
   "outputs": [],
   "source": [
    "# get vs [] for retrieving elements\n",
    "my_dict = {'name': 'Jack', 'age': 26}\n",
    "\n",
    "# Output: Jack\n",
    "print(my_dict['name'])\n",
    "\n",
    "# Output: 26\n",
    "print(my_dict.get('age'))\n",
    "\n",
    "# Trying to access keys which doesn't exist throws error\n",
    "# Output None\n",
    "print(my_dict.get('address'))\n",
    "\n",
    "# KeyError\n",
    "print(my_dict['address'])"
   ]
  },
  {
   "cell_type": "code",
   "execution_count": null,
   "metadata": {},
   "outputs": [],
   "source": [
    "# Changing and adding Dictionary Elements\n",
    "my_dict = {'name': 'Jack', 'age': 26}\n",
    "\n",
    "# update value\n",
    "my_dict['age'] = 27\n",
    "\n",
    "#Output: {'age': 27, 'name': 'Jack'}\n",
    "print(my_dict)\n",
    "\n",
    "# add item\n",
    "my_dict['address'] = 'Downtown'\n",
    "\n",
    "# Output: {'address': 'Downtown', 'age': 27, 'name': 'Jack'}\n",
    "print(my_dict)"
   ]
  },
  {
   "cell_type": "code",
   "execution_count": null,
   "metadata": {},
   "outputs": [],
   "source": [
    "# Dictionary Methods\n",
    "marks = {}.fromkeys(['Math', 'English', 'Science'], 0)\n",
    "\n",
    "# Output: {'English': 0, 'Math': 0, 'Science': 0}\n",
    "print(marks)\n",
    "\n",
    "for item in marks.items():\n",
    "    print(item)\n",
    "\n",
    "# Output: ['English', 'Math', 'Science']\n",
    "print(list(sorted(marks.keys())))"
   ]
  },
  {
   "cell_type": "markdown",
   "metadata": {},
   "source": [
    "Использование генератора"
   ]
  },
  {
   "cell_type": "code",
   "execution_count": null,
   "metadata": {},
   "outputs": [],
   "source": [
    "squares = {x: x*x for x in range(6)}\n",
    "\n",
    "print(squares)"
   ]
  },
  {
   "cell_type": "code",
   "execution_count": null,
   "metadata": {},
   "outputs": [],
   "source": [
    "squares = {}\n",
    "for x in range(6):\n",
    "    squares[x] = x*x\n",
    "print(squares)"
   ]
  },
  {
   "cell_type": "markdown",
   "metadata": {},
   "source": [
    "Принадлежность"
   ]
  },
  {
   "cell_type": "code",
   "execution_count": null,
   "metadata": {},
   "outputs": [],
   "source": [
    "# Membership Test for Dictionary Keys\n",
    "squares = {1: 1, 3: 9, 5: 25, 7: 49, 9: 81}\n",
    "\n",
    "# Output: True\n",
    "print(1 in squares)\n",
    "\n",
    "# Output: True\n",
    "print(2 not in squares)\n",
    "\n",
    "# membership tests for key only not value\n",
    "# Output: False\n",
    "print(49 in squares)"
   ]
  },
  {
   "cell_type": "code",
   "execution_count": null,
   "metadata": {},
   "outputs": [],
   "source": [
    "# Iterating through a Dictionary\n",
    "squares = {1: 1, 3: 9, 5: 25, 7: 49, 9: 81}\n",
    "for i in squares:\n",
    "    print(squares[i])"
   ]
  },
  {
   "cell_type": "code",
   "execution_count": null,
   "metadata": {},
   "outputs": [],
   "source": [
    "# Dictionary Built-in Functions\n",
    "squares = {0: 0, 1: 1, 3: 9, 5: 25, 7: 49, 9: 81}\n",
    "\n",
    "# Output: False\n",
    "print(all(squares))\n",
    "\n",
    "# Output: True\n",
    "print(any(squares))\n",
    "\n",
    "# Output: 6\n",
    "print(len(squares))\n",
    "\n",
    "# Output: [0, 1, 3, 5, 7, 9]\n",
    "print(sorted(squares))"
   ]
  },
  {
   "cell_type": "code",
   "execution_count": null,
   "metadata": {},
   "outputs": [],
   "source": []
  }
 ],
 "metadata": {
  "kernelspec": {
   "display_name": "Python 3",
   "language": "python",
   "name": "python3"
  },
  "language_info": {
   "codemirror_mode": {
    "name": "ipython",
    "version": 3
   },
   "file_extension": ".py",
   "mimetype": "text/x-python",
   "name": "python",
   "nbconvert_exporter": "python",
   "pygments_lexer": "ipython3",
   "version": "3.8.3"
  }
 },
 "nbformat": 4,
 "nbformat_minor": 4
}

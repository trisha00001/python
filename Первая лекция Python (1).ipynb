{
 "cells": [
  {
   "cell_type": "markdown",
   "metadata": {},
   "source": [
    "- [1.Введение в Python и компьютерное программирование](#t1)\n",
    "    - [Основные понятия языков программирования](#p0)\n",
    "    - [Почему  Python?!](#p1)\n",
    "    - [Рейтинг популярности языков программирования  индекс TIOBE ](#p2)\n",
    "    - [История возникновения языка программирования Python](#p3)\n",
    "    - [Характеристики языка программирования Python](#p4)\n",
    "    - [Читаемость кода программ написанных на Python](#p5)\n",
    "    - [Особенности языка программирования Python](#p6)\n",
    "    - [Компиляция против интерпретации](#p7)\n",
    "    - [Причины использования Python](#p8)\n",
    "    - [Реализации Python](#p9)\n",
    "    - [Среда исполнения Python](#p10)\n",
    "    - [Область применения](#p11)\n",
    "    - [Функциональные возможности](#p16)\n",
    "- [2.Основы языка программирования Python ](#t2)\n",
    "- [3.Ввод-вывод данных](#t3)"
   ]
  },
  {
   "cell_type": "markdown",
   "metadata": {
    "id": "eWlrabHclzra"
   },
   "source": [
    "# Почему  Python?!"
   ]
  },
  {
   "cell_type": "markdown",
   "metadata": {
    "id": "b8UK5MPWlzra"
   },
   "source": [
    "### 1. Легок в изучении "
   ]
  },
  {
   "cell_type": "markdown",
   "metadata": {
    "id": "gJql5stRlzrb"
   },
   "source": [
    "### 2. Python динамично развивающийся язык"
   ]
  },
  {
   "cell_type": "markdown",
   "metadata": {
    "id": "RYYAHuvjlzrb"
   },
   "source": [
    "# <a> Рейтинг популярности языков программирования  индекс TIOBE </a>"
   ]
  },
  {
   "cell_type": "markdown",
   "metadata": {
    "id": "5GymVS1xlzrb"
   },
   "source": [
    "Впервые за более чем 20 лет у рейтинга языков программирования TIOBE появился новый лидер — Python. Давняя гегемония Java и C закончилась. Python, который начинался как простой язык сценариев и альтернатива Perl, достиг своей вершины. Простота обучения, огромное количество библиотек и широкое использование во всех областях сделали его самым популярным языком программирования на сегодняшний день."
   ]
  },
  {
   "cell_type": "markdown",
   "metadata": {
    "id": "bO5ZWzZflzrc"
   },
   "source": [
    "![xkcd_python](https://i1.wp.com/apptractor.ru/wp-content/uploads/2021/10/image2-1.png?resize=768%2C364&ssl=1)\n"
   ]
  },
  {
   "cell_type": "markdown",
   "metadata": {
    "id": "Z81ddMjRlzrh"
   },
   "source": [
    "# История возникновения языка программирования Python"
   ]
  },
  {
   "cell_type": "markdown",
   "metadata": {
    "id": "nHTIaRUylzri"
   },
   "source": [
    "Python (Питон или Пайтон)- это мощный объектно-ориентированный язык \n",
    "программирования высокого уровня с открытым исходным кодом."
   ]
  },
  {
   "cell_type": "markdown",
   "metadata": {
    "id": "soWo3fYklzri"
   },
   "source": [
    "![xkcd_python](https://avatars.mds.yandex.net/get-zen_doc/1878668/pub_5e932955984e257a1970d593_5e932c399c87a00d2d7d4a2f/scale_1200)\n"
   ]
  },
  {
   "cell_type": "markdown",
   "metadata": {
    "id": "sOgSRhX-lzri"
   },
   "source": [
    "Разработан нидерландским программистом \n",
    "Гвидо ван Россумом (Guido van Rossum).\n",
    "Начало разработки конец 80-х годов, назван в честь \n",
    "шоу Монти Пайтона.В феврале 1991 года исходный текст опубликован \n",
    "в группе новостей alt.sources. В 1994 году, благодаря росту числа пользователей, \n",
    "была создана группа comp.lang.python\n",
    "<br>\n",
    "Релизы:<br>\n",
    "   <center> 1994 v. 1.0 – 2000 v. 1.6 <br>\n",
    "    2000 v. 2.0 – 2010 v. 2.7<br>\n",
    "    2008 v. 3.0 – 2021 v. 3.9<br>\n",
    "    </center>"
   ]
  },
  {
   "cell_type": "markdown",
   "metadata": {
    "id": "wkZvGqp0lzri"
   },
   "source": [
    "# Характеристики языка программирования Python"
   ]
  },
  {
   "cell_type": "markdown",
   "metadata": {
    "id": "8ljRfKa8lzri"
   },
   "source": [
    "- Низкий порог вхождения, уже после одного дня изучения можно начать писать простые программы;\n",
    "- Минималистичный язык, с небольшим количеством конструкций;\n",
    "- Краткий код;\n",
    "- Поддерживается импорт Си-библиотек;\n",
    "- Существует большое количество реализаций: CPython (основная реализация); Jython (реализация для JVM); IronPython (CLR); PyPy;\n",
    "- Поддержка математических вычислений (библиотеки NumPy, SciPy);\n",
    "- Используется для обработки естественных языков (NLTK);\n",
    "- Большое количество развитых web-фреймворков (Django, TurboGear, CherryPy, Flask)."
   ]
  },
  {
   "cell_type": "markdown",
   "metadata": {
    "id": "upfHGn7ylzri"
   },
   "source": [
    "# Читаемость кода программ                                                написанных на Python"
   ]
  },
  {
   "cell_type": "markdown",
   "metadata": {
    "id": "B5mUBJ69lzrj"
   },
   "source": [
    "### Программа Python:"
   ]
  },
  {
   "cell_type": "code",
   "execution_count": 1,
   "metadata": {
    "id": "33JxDApUlzrj"
   },
   "outputs": [
    {
     "name": "stdout",
     "output_type": "stream",
     "text": [
      "Hello World\n"
     ]
    }
   ],
   "source": [
    "print ( \"Hello World\")"
   ]
  },
  {
   "cell_type": "markdown",
   "metadata": {
    "id": "giNmMskulzrk"
   },
   "source": [
    "### Программа на Java:"
   ]
  },
  {
   "cell_type": "code",
   "execution_count": 1,
   "metadata": {
    "id": "nh5pExfblzrk"
   },
   "outputs": [
    {
     "ename": "SyntaxError",
     "evalue": "invalid syntax (<ipython-input-1-946a1f42c4e0>, line 1)",
     "output_type": "error",
     "traceback": [
      "\u001b[1;36m  File \u001b[1;32m\"<ipython-input-1-946a1f42c4e0>\"\u001b[1;36m, line \u001b[1;32m1\u001b[0m\n\u001b[1;33m    public class Hello\u001b[0m\n\u001b[1;37m           ^\u001b[0m\n\u001b[1;31mSyntaxError\u001b[0m\u001b[1;31m:\u001b[0m invalid syntax\n"
     ]
    }
   ],
   "source": [
    "public class Hello\n",
    " {\n",
    "   public static void main(String argv[])\n",
    "      {\n",
    "        System.out.println(“Hello, World!”);\n",
    "      }\n",
    " }"
   ]
  },
  {
   "cell_type": "markdown",
   "metadata": {
    "id": "J7abi4cWlzrk"
   },
   "source": [
    "### Программа C ++:"
   ]
  },
  {
   "cell_type": "code",
   "execution_count": null,
   "metadata": {
    "id": "FYNuetTFlzrk"
   },
   "outputs": [],
   "source": [
    "#include <iostream>\n",
    "int main() \n",
    "  {\n",
    "    std::cout << \"Hello World\" << std::endl;\n",
    "    return 0;\n",
    "  }"
   ]
  },
  {
   "cell_type": "markdown",
   "metadata": {
    "id": "almmGikwlzrk"
   },
   "source": [
    "# Особенности языка программирования Python"
   ]
  },
  {
   "cell_type": "markdown",
   "metadata": {
    "id": "TY5JPA63lzrk"
   },
   "source": [
    "- Открытый исходный код\n",
    "- Сверхвысокоуровневый язык программирования - принцип «что нужно сделать»\n",
    "- Кроссплатформенный язык\n",
    "- Интерпретируемый\n",
    "- Поддерживает различные парадигмы программирования: модульное программирование, объектно-ориентированное программирование, функциональное программирование\n",
    "- Расширяемый и встраиваемый\n",
    "- Библиотеки:  базы данных, веб-службы, сети, числовые пакеты, графические пользовательские интерфейсы, трехмерная графика и другие.  https://pypi.python.org/pypi\n",
    "- Поддержка онлайн-сообщества Python\n",
    "- Оформлении программ  PEP 8 - Python Enhanced Proposal.  (предложения по развитию Python)  https://pep8.ru/doc/pep8/"
   ]
  },
  {
   "cell_type": "code",
   "execution_count": null,
   "metadata": {},
   "outputs": [],
   "source": [
    "a = 8"
   ]
  },
  {
   "cell_type": "markdown",
   "metadata": {},
   "source": [
    "# Недостатки языка программирования Python"
   ]
  },
  {
   "cell_type": "markdown",
   "metadata": {
    "id": "_t4pKwIjlzrl"
   },
   "source": [
    "К <b>недостаткам</b> языка программирования Python \n",
    "является его скорость. Если рассматривать только \n",
    "скорость выполнения кода, то становится ясно, что\n",
    "Python уступает другим языкам \n",
    "программирования, таким как C. Действительно, \n",
    "динамическая типизация, интерпретируемость и \n",
    "другие особенности, облегчающие работу \n",
    "программиста, приводят к ухудшению \n",
    "производительности.<br>\n",
    "<b>Отрицательной </b>стороной является высокий \n",
    "уровень зависимости от системных библиотек. В \n",
    "результате затрудняется перенос на другие \n",
    "системы."
   ]
  },
  {
   "cell_type": "markdown",
   "metadata": {
    "id": "EXw1vojflzrl"
   },
   "source": [
    "- Python уступает другим языкам программирования в скорости\n",
    "- Зависим от системных библиотек\n",
    "- Невозможность модификации встроенных классов"
   ]
  },
  {
   "cell_type": "markdown",
   "metadata": {
    "id": "UgrJKIxglzrm"
   },
   "source": [
    "# Причины использования Python"
   ]
  },
  {
   "cell_type": "markdown",
   "metadata": {
    "id": "0CoQK6zmlzrm"
   },
   "source": [
    "- Качество программного обеспечения: поддерживает самые современные механизмы многократного использования программного кода\n",
    "- Высокая скорость разработки: объем программного кода на языке Python обычно составляет треть или даже пятую часть эквивалентного программного кода на языке C++ или Java.\n",
    "- Переносимость программ: большая часть программ на языке Python выполняется без изменений на всех основных платформах\n",
    "- Поддержка библиотек\n",
    "- Интеграция компонентов: взаимодействовать с другими частями приложения благодаря различным механизмам интеграции"
   ]
  },
  {
   "cell_type": "markdown",
   "metadata": {
    "id": "kMWpD17flzrm"
   },
   "source": [
    "<b>Альтернативы CPython</b><br>\n",
    "<b>CPython</b> является стандартной реализацией, но существуют и другие реализации, созданные для специфических целей и задач.\n",
    "<br>\n",
    "<b>Jython</b><br>\n",
    "Основная цель данный реализации — тесная интеграция с языком Java. Работает следующим образом:\n",
    "\n",
    "Java-классы выполняют компиляцию программного кода на языке Python в байт-код Java.\n",
    "Полученный байт-код запускается на виртуальной машине Java (JVM).\n",
    "Jython позволить Python-программам управлять Java-приложениями. Во время выполнения такая программа ведет себя точно так же, как настоящая программа на языке Java.\n",
    "\n",
    "<b>IronPython</b>\n",
    "Предназначена для обеспечения интеграции Python-программ с C# приложениями на Microsoft .NET Framework или Mono. Принцип работы такой же, как и у Jython.\n",
    "\n",
    "<b>PyPy</b><br>\n",
    "PyPy — это интерпретатор Python, написанный на Python (если быть точнее, то на RPython).\n",
    "\n",
    "Особенностью PyPy является использование трассирующего JIT-компилятора (just-in-time), который на лету транслирует некоторые элементы в машинный код. Благодаря этому, при выполнении некоторых операций PyPy обгоняет CPython в несколько раз. Но плата за такую производительность — более высокое потребление памяти.\n",
    "\n",
    "<b>Stackless</b> - также написанная на Си реализация Python. Это не полноценная реализация, а патчи к CPython. Предоставляет возможности многопоточного программирования и большую глубину рекурсии."
   ]
  },
  {
   "cell_type": "markdown",
   "metadata": {
    "id": "csV4CWuZlzrm"
   },
   "source": [
    "# Среда исполнения Python"
   ]
  },
  {
   "cell_type": "markdown",
   "metadata": {
    "id": "f0zh4Werlzrm"
   },
   "source": [
    "Все кросс-платформенные языки программирования построены по одной модели:\n",
    "Исходный код(является переносимым между платформами);\n",
    "Среда исполнения, она же - Runtime Environment(не является переносимой и специфична для каждой конкретной платформы).\n",
    "Например, в среду исполнения Java дополнительно входит компилятор, так как исходный код необходимо скомпилировать в байт-код для виртуальной Java-машины. В среду исполнения Python входит только интерпретатор, который одновременно является и компилятором, однако компилирует исходный код Python непосредственно в машинный код целевой платформы.\n",
    "\n",
    "Когда вы пишете программу на языке Python, интерпретатор читает вашу программу и выполняет содержащиеся в ней инструкции. В действительности, интерпретатор - это слой программной логики между вашим программным кодом и аппаратурой вашего компьютера."
   ]
  },
  {
   "cell_type": "markdown",
   "metadata": {
    "id": "ULQVHiAUlzrn"
   },
   "source": [
    "![xkcd_python](https://thumb.tildacdn.com/tild6637-6430-4535-b733-663562373532/-/format/webp/Smartiqa_Python_inte.png)"
   ]
  },
  {
   "cell_type": "markdown",
   "metadata": {
    "id": "p51CaB1Xlzrn"
   },
   "source": [
    "Соответственно, прежде чем начать использовать Python, необходимо настроить его среду исполнения. Здесь возможны варианты:\n",
    "1. Воспользоваться онлайн интерпретатором.\n",
    "2. Установить интерпретатор Python у себя на машине. Вызывать его из консоли.\n",
    "3. Установить интерпретатор Python у себя на машине. \n",
    "4. Установить интегрированную среду разработки (IDE). Например, PyCharm. Писать и запускать скрипты внутри IDE."
   ]
  },
  {
   "cell_type": "markdown",
   "metadata": {
    "id": "3hUXfML6lzrp"
   },
   "source": [
    "# Среда разработки языка программирования  Python"
   ]
  },
  {
   "cell_type": "markdown",
   "metadata": {
    "id": "NnzTNjoylzrp"
   },
   "source": [
    "Онлайн-интерпретаторы:  http://ideone.com/, http://codepad.org/  и др.<br>\n",
    "IDLE<br>\n",
    "\thttps://docs.python.org/3/library/idle.html Простейшая интегрированная среда разработки. <br>\n",
    "    Поставляется вместе с Python.<br>\n",
    "PyCharm<br>\n",
    "\thttps://www.jetbrains.com/pycharm/download<br>\n",
    "Wing 101<br>\n",
    "\thttps://wingware.com/downloads/wing-101<br>\n",
    "Anaconda <br>\n",
    "\thttps://www.continuum.io/downloads Python + IDE Spyder с набором библиотек (numpy, scipy, ...) для научных вычислений <br>"
   ]
  },
  {
   "cell_type": "markdown",
   "metadata": {
    "id": "x3pg-GS9lzrp"
   },
   "source": [
    "# Выводы"
   ]
  },
  {
   "cell_type": "markdown",
   "metadata": {
    "id": "Zxn75AXSlzrp"
   },
   "source": [
    "Начнём с того, что Python – это \n",
    "многоцелевой язык. Его можно одинаково хорошо \n",
    "использовать для разработки любых программ и \n",
    "их тестирования. Так, например, компания Google \n",
    "широко использует язык Python для своей \n",
    "поисковой системы. Большая часть популярного \n",
    "видеохостинга YouTube была написана на \n",
    "языке Python. Также язык Python применяется в \n",
    "анимационной графике, научных вычислениях и \n",
    "тестировании аппаратного обеспечения.\n",
    "\n",
    "Таким образом, Python подходит для решения\n",
    "львиной доли повседневных задач, будь то\n",
    "резервное копирование, чтение электронной\n",
    "почты, либо же какая-нибудь игрушка. Язык\n",
    "программирования Python практически ничем\n",
    "не ограничен, поэтому также может\n",
    "использоваться в крупных проектах. К\n",
    "примеру, Python интенсивно применяется IT\u0002гигантами, такими как, например, Google и\n",
    "Yandex. "
   ]
  },
  {
   "cell_type": "markdown",
   "metadata": {},
   "source": [
    "## Байт код"
   ]
  },
  {
   "cell_type": "markdown",
   "metadata": {
    "id": "s7avCzqhlzrl"
   },
   "source": [
    "Python - интерпретируемый язык программирования. Он не конвертирует свой код в машинный, который понимает железо (в отличие от С и С++). Вместо этого, Python-интерпретатор переводит код программы в байт-код, который запускается на виртуальной машине Python (PVM). "
   ]
  },
  {
   "cell_type": "markdown",
   "metadata": {
    "id": "YEU7kSP3lzrl"
   },
   "source": [
    "![xkcd_python](https://pythonchik.ru/pic/lb1/intext_630d6d5f-9f11-467b-afbb-73fc6c7f01df_original.svg)"
   ]
  },
  {
   "cell_type": "markdown",
   "metadata": {
    "id": "u10nCtgplzrl"
   },
   "source": [
    "Байт код - система из компилятора и интерпретатора. Компилятор переводит исходный код программы в промежуточное представление (байт-код), а интерпретатор (виртуальная машина) выполняет этот байт-код."
   ]
  },
  {
   "cell_type": "markdown",
   "metadata": {
    "id": "e4OsfLjQlzrl"
   },
   "source": [
    "Этап #1. Инициализация\n",
    "После запуска вашей программы, Python-интерпретатор читает код, проверяет форматирование и синтаксис. При обнаружении ошибки он незамедлительно останавливается и показывает сообщение об ошибке. \n",
    "\n",
    "Помимо этого, происходит ряд подготовительных процессов:\n",
    "\n",
    "- анализ аргументов командной строки;\n",
    "- установка флагов программы;\n",
    "- чтение переменных среды и т.д.\n"
   ]
  },
  {
   "cell_type": "markdown",
   "metadata": {
    "id": "pYsHh5iYlzrl"
   },
   "source": [
    "Этап #2. Компиляция\n",
    "Интерпретатор транслирует (переводит) исходные инструкции вашей программы в байт-код (низкоуровневое, платформонезависимое представление исходного текста). Такая трансляция необходима в первую очередь для повышения скорости — байт-код выполняется в разы быстрее, чем исходные инструкции."
   ]
  },
  {
   "cell_type": "markdown",
   "metadata": {
    "id": "oKe6iqBVlzrm"
   },
   "source": [
    "![xkcd_python](https://pythonchik.ru/pic/lb1/intext_77d40039-3934-4cbd-a2b8-8ceb818ef641_original.svg)"
   ]
  },
  {
   "cell_type": "markdown",
   "metadata": {
    "id": "VDY43G-Klzrm"
   },
   "source": [
    "Этап #3. Выполнения\n",
    "Как только байт-код скомпилирован, он отправляется на виртуальную машину Python (PVM). Здесь выполняется байт-код на PVM. Если во время этого выполнения возникает ошибка, то выполнение останавливается с сообщением об ошибке.\n",
    "\n",
    "PVM является частью Python-интерпретатора. По сути это просто большой цикл, который выполняет перебор инструкций в байт-коде и выполняет соответствующие им операции."
   ]
  },
  {
   "cell_type": "markdown",
   "metadata": {
    "id": "0PHG0pl2lzrp"
   },
   "source": [
    "# Синтаксис языка"
   ]
  },
  {
   "cell_type": "markdown",
   "metadata": {
    "id": "U8Qpxx-6lzrq"
   },
   "source": [
    "1. Конец строки выражения является окончанием инструкции, никаких знаков на конце не требуется, исключением являются вложенные инструкции.\n",
    "\n",
    "2. Вложенные инструкции объединяются в блоки по величине отступов. Отступ может быть любым, главное, чтобы в пределах одного вложенного блока отступ был одинаков.\n"
   ]
  },
  {
   "cell_type": "code",
   "execution_count": 1,
   "metadata": {
    "id": "Tr_f8P8ylzrq",
    "outputId": "b215daa6-f396-4e61-e7fc-47e918b67c6d"
   },
   "outputs": [
    {
     "name": "stdout",
     "output_type": "stream",
     "text": [
      "Hello, world!\n"
     ]
    }
   ],
   "source": [
    "print('Hello, world!')"
   ]
  },
  {
   "cell_type": "code",
   "execution_count": 2,
   "metadata": {
    "id": "sl2LjWpIlzrq",
    "outputId": "ca745de5-5c1b-4f5a-ebaf-1be9cb3ade37"
   },
   "outputs": [
    {
     "name": "stdout",
     "output_type": "stream",
     "text": [
      "ello, world!\n"
     ]
    }
   ],
   "source": [
    "print(\"\"\"ello, world!\"\"\")"
   ]
  },
  {
   "cell_type": "code",
   "execution_count": 3,
   "metadata": {
    "id": "lmhwMJWllzrr",
    "outputId": "57271545-1e3b-4552-f6cb-5e0967eacd22"
   },
   "outputs": [
    {
     "name": "stdout",
     "output_type": "stream",
     "text": [
      "Hello, world!\n"
     ]
    }
   ],
   "source": [
    "print(\"Hello, world!\")"
   ]
  },
  {
   "cell_type": "code",
   "execution_count": 3,
   "metadata": {
    "id": "okBtgAbElzrr",
    "outputId": "9abd0b33-9caf-4e27-b3c9-f9e2a192ddd3"
   },
   "outputs": [
    {
     "name": "stdout",
     "output_type": "stream",
     "text": [
      "3.141592653589793\n",
      "2.0\n"
     ]
    }
   ],
   "source": [
    "import math\n",
    "print(math.pi)\n",
    "print(math.sqrt(4))"
   ]
  },
  {
   "cell_type": "code",
   "execution_count": 1,
   "metadata": {
    "id": "QKz3czfElzrr",
    "outputId": "7f5b1b13-08e8-4751-b0d9-31163ca54206"
   },
   "outputs": [
    {
     "name": "stdout",
     "output_type": "stream",
     "text": [
      "2+2=?\n"
     ]
    }
   ],
   "source": [
    "# вывод на экран \n",
    "print ( \"2+2=?\" )\n"
   ]
  },
  {
   "cell_type": "code",
   "execution_count": 2,
   "metadata": {
    "id": "fTnqZLTnlzrr",
    "outputId": "1ea0206c-1ad4-47f2-d91c-7c39775b703a"
   },
   "outputs": [
    {
     "name": "stdout",
     "output_type": "stream",
     "text": [
      "4\n"
     ]
    }
   ],
   "source": [
    "print(2+2)"
   ]
  },
  {
   "cell_type": "code",
   "execution_count": 7,
   "metadata": {
    "id": "XcdHjDfulzrr",
    "outputId": "a04b564f-b3a1-4433-9047-ff877f5f9381"
   },
   "outputs": [
    {
     "name": "stdout",
     "output_type": "stream",
     "text": [
      "2 + 2 = 4\n"
     ]
    }
   ],
   "source": [
    "print('2 + 2 =',2+2)"
   ]
  },
  {
   "cell_type": "code",
   "execution_count": 1,
   "metadata": {},
   "outputs": [
    {
     "name": "stdout",
     "output_type": "stream",
     "text": [
      "0.625\n"
     ]
    }
   ],
   "source": [
    "# Пример 5/8\n",
    "print(5 / 8)\n",
    "\n",
    "# Распечатайте сумму 7 и 10\n"
   ]
  },
  {
   "cell_type": "markdown",
   "metadata": {},
   "source": [
    " добавить комментарий к print(7 + 10)"
   ]
  },
  {
   "cell_type": "code",
   "execution_count": 3,
   "metadata": {},
   "outputs": [
    {
     "name": "stdout",
     "output_type": "stream",
     "text": [
      "15\n",
      "21 120\n",
      "65536\n",
      "12.333333333333334\n",
      "12\n",
      "1\n",
      "The history saving thread hit an unexpected error (OperationalError('database or disk is full')).History will not be written to the database.\n"
     ]
    }
   ],
   "source": [
    "print(5 + 10)  \n",
    "print(3 * 7, (17 - 2) * 8) \n",
    "print(2 ** 16)  \n",
    "print(37 / 3)    \n",
    "print(37 // 3)\n",
    "print(37 % 3) "
   ]
  },
  {
   "cell_type": "markdown",
   "metadata": {},
   "source": [
    "### Викторина\n",
    "Python является довольно универсальным языком. Для каких целей можно использовать Python?\n",
    "1. Вы хотите сделать несколько быстрых вычислений.\n",
    "2. Для вашего нового бизнеса вы хотите разработать веб-сайт, управляемый базой данных.\n",
    "3. Вас очистить и проанализировать результаты последнего опроса удовлетворенности.\n",
    "4. Все вышеперечисленное."
   ]
  },
  {
   "cell_type": "code",
   "execution_count": 7,
   "metadata": {},
   "outputs": [],
   "source": [
    "a = 2\n",
    "b = 3.2\n",
    "\n",
    "s= 'ghjk'"
   ]
  },
  {
   "cell_type": "code",
   "execution_count": 8,
   "metadata": {},
   "outputs": [
    {
     "name": "stdout",
     "output_type": "stream",
     "text": [
      "3.2\n"
     ]
    }
   ],
   "source": [
    "print(b)"
   ]
  },
  {
   "cell_type": "code",
   "execution_count": 5,
   "metadata": {},
   "outputs": [
    {
     "name": "stdout",
     "output_type": "stream",
     "text": [
      "23\n"
     ]
    }
   ],
   "source": [
    "print('2'+'3')"
   ]
  },
  {
   "cell_type": "markdown",
   "metadata": {
    "id": "GH_5Q_CQlzrs"
   },
   "source": [
    "# Переменные\n",
    "- Переменная - это место в памяти, где храниться значение \n",
    "- Переменные создаются при первом упоминании\n",
    "- Значение, хранящееся в переменной, может быть доступно или обновлено позже\n",
    "- Объявление переменных не требуется\n",
    "- Тип данных переменной определяется автоматически\n",
    "- Интерпретатор выделяет память на основе типа данных переменной\n",
    "\n",
    "Одно из основных различий в python по сравнению с другими языками, с которыми вы, возможно, знакомы, заключается в том, что переменные не объявляются и не типизированы строго."
   ]
  },
  {
   "cell_type": "code",
   "execution_count": 4,
   "metadata": {},
   "outputs": [
    {
     "name": "stdout",
     "output_type": "stream",
     "text": [
      "1\n",
      "4\n",
      "15.0\n"
     ]
    }
   ],
   "source": [
    "number1 = float(input())\n",
    "number2 = float(input())\n",
    "number2 = number2 + number1 \n",
    "print(3*number2)"
   ]
  },
  {
   "cell_type": "markdown",
   "metadata": {
    "id": "wcZJ_CLLlzrs"
   },
   "source": [
    "![xkcd_python](https://cf2.ppt-online.org/files2/slide/8/8I2ZPiV3L1pBoHcKWQdAXsCfmvyhYg7t9U6OkM/slide-7.jpg)"
   ]
  },
  {
   "cell_type": "code",
   "execution_count": 6,
   "metadata": {},
   "outputs": [],
   "source": [
    "Вася = 5"
   ]
  },
  {
   "cell_type": "markdown",
   "metadata": {
    "id": "Q8rNK0T1lzrs"
   },
   "source": [
    "![xkcd_python](https://russianblogs.com/images/490/0cb971579765ca44ba9947b03a08063a.png)"
   ]
  },
  {
   "cell_type": "code",
   "execution_count": 9,
   "metadata": {},
   "outputs": [],
   "source": [
    "a = 0\n",
    "n = \"L\""
   ]
  },
  {
   "cell_type": "code",
   "execution_count": 12,
   "metadata": {},
   "outputs": [
    {
     "name": "stdout",
     "output_type": "stream",
     "text": [
      "<class 'str'>\n"
     ]
    }
   ],
   "source": [
    "print(type(n))"
   ]
  },
  {
   "cell_type": "markdown",
   "metadata": {},
   "source": [
    "Чтобы узнать тип значения или переменной, которая ссылается на это значение, можно использовать функцию type(). "
   ]
  },
  {
   "cell_type": "code",
   "execution_count": null,
   "metadata": {
    "id": "yYrzQPrrlzrs",
    "outputId": "b2eec04d-3e84-4502-9926-9521694988bd"
   },
   "outputs": [
    {
     "name": "stdout",
     "output_type": "stream",
     "text": [
      "1\n"
     ]
    }
   ],
   "source": [
    "x = 1\n",
    "print(x)"
   ]
  },
  {
   "cell_type": "code",
   "execution_count": null,
   "metadata": {
    "id": "jy3Wg1Jhlzrs"
   },
   "outputs": [],
   "source": [
    "y = \"test\""
   ]
  },
  {
   "cell_type": "code",
   "execution_count": null,
   "metadata": {
    "id": "Y4gJT2MGlzrs",
    "outputId": "2f02b1c2-3862-4a74-e973-7c0cc24d87cd"
   },
   "outputs": [
    {
     "name": "stdout",
     "output_type": "stream",
     "text": [
      "test\n"
     ]
    }
   ],
   "source": [
    "print(y)"
   ]
  },
  {
   "cell_type": "code",
   "execution_count": null,
   "metadata": {
    "id": "SE8rODfqlzrt",
    "outputId": "89e0ef2a-e31e-45f2-df05-96189901133c"
   },
   "outputs": [
    {
     "name": "stdout",
     "output_type": "stream",
     "text": [
      "string\n"
     ]
    }
   ],
   "source": [
    "x = 1\n",
    "x = \"string\"\n",
    "print(x)"
   ]
  },
  {
   "cell_type": "code",
   "execution_count": 5,
   "metadata": {},
   "outputs": [
    {
     "name": "stdout",
     "output_type": "stream",
     "text": [
      "5\n"
     ]
    }
   ],
   "source": [
    "_x=5\n",
    "print(_x)"
   ]
  },
  {
   "cell_type": "code",
   "execution_count": null,
   "metadata": {
    "id": "7NlmOOsXlzrt",
    "outputId": "f1636930-62d8-4694-eaad-49ea171feef5"
   },
   "outputs": [
    {
     "name": "stdout",
     "output_type": "stream",
     "text": [
      "<class 'int'>\n"
     ]
    }
   ],
   "source": [
    "x = 1\n",
    "print(type(x))"
   ]
  },
  {
   "cell_type": "code",
   "execution_count": null,
   "metadata": {
    "id": "Ty15Z2bklzrt",
    "outputId": "a5dfd533-6da9-4e51-f96c-600fccd31722"
   },
   "outputs": [
    {
     "name": "stdout",
     "output_type": "stream",
     "text": [
      "<class 'str'>\n"
     ]
    }
   ],
   "source": [
    "x = \"string\"\n",
    "print(type(x))"
   ]
  },
  {
   "cell_type": "code",
   "execution_count": null,
   "metadata": {
    "id": "I0NGzGTZlzrt",
    "outputId": "d5375f7c-f696-42ec-b241-24e9ba141f54"
   },
   "outputs": [
    {
     "name": "stdout",
     "output_type": "stream",
     "text": [
      "<class 'float'>\n"
     ]
    }
   ],
   "source": [
    "x = 0.1\n",
    "print(type(x))"
   ]
  },
  {
   "cell_type": "code",
   "execution_count": null,
   "metadata": {
    "id": "e37v97LLlzru",
    "outputId": "d5054b62-5aa8-4601-9784-00f5712b6c75"
   },
   "outputs": [
    {
     "data": {
      "text/plain": [
       "float"
      ]
     },
     "execution_count": 25,
     "metadata": {},
     "output_type": "execute_result"
    }
   ],
   "source": [
    "x = 0.1\n",
    "type(x)"
   ]
  },
  {
   "cell_type": "code",
   "execution_count": null,
   "metadata": {
    "id": "oHFM5o_-lzru"
   },
   "outputs": [],
   "source": [
    "x"
   ]
  },
  {
   "cell_type": "code",
   "execution_count": null,
   "metadata": {
    "id": "1OuB7Qbwlzru",
    "outputId": "66f04a19-87e3-4f11-dbfe-9ca4c1234d77"
   },
   "outputs": [
    {
     "data": {
      "text/plain": [
       "True"
      ]
     },
     "execution_count": 26,
     "metadata": {},
     "output_type": "execute_result"
    }
   ],
   "source": [
    "'a' == \"a\""
   ]
  },
  {
   "cell_type": "markdown",
   "metadata": {},
   "source": [
    "В Python переменная позволяет ссылаться на значение с именем. Для создания переменной используйте , как показано в следующем примере: x = 5\n",
    "Теперь можно использовать имя этой переменной,  вместо фактического значения 5"
   ]
  },
  {
   "cell_type": "markdown",
   "metadata": {},
   "source": [
    "Создайте переменную savings со значением 100.\n",
    "Проверьте эту переменную, введя print(savings)"
   ]
  },
  {
   "cell_type": "code",
   "execution_count": null,
   "metadata": {},
   "outputs": [],
   "source": [
    "# Create a variable savings\n",
    "\n",
    "savings=100\n",
    "# Print out savings\n",
    "print(savings)"
   ]
  },
  {
   "cell_type": "markdown",
   "metadata": {},
   "source": [
    "Помните, как вы рассчитали деньги, которые вы получили после 7 лет инвестирования 100 долларов? Вы сделали что-то вроде этого:\n",
    "\n",
    "100 * 1.1 ** 7\n",
    "Вместо вычисления с фактическими значениями можно использовать переменные. Переменная, созданная в предыдущем упражнении, представляет собой 100 долларов США, с которых вы начали. Вам предстоит создать новую переменную для представления, а затем переделать вычисления!savings1.1"
   ]
  },
  {
   "cell_type": "markdown",
   "metadata": {},
   "source": [
    "Создайте переменную growth_multiplier, равную 1.1\n",
    "Создайте переменную, равную сумме денег, которую вы сэкономили через годы. result7\n",
    "Распечатайте значение .result"
   ]
  },
  {
   "cell_type": "code",
   "execution_count": 4,
   "metadata": {},
   "outputs": [
    {
     "name": "stdout",
     "output_type": "stream",
     "text": [
      "194.87171000000012\n"
     ]
    }
   ],
   "source": [
    "# Create a variable savings\n",
    "savings = 100\n",
    "\n",
    "# Create a variable growth_multiplier\n",
    "\n",
    "growth_multiplier=1.1\n",
    "# Calculate result\n",
    "result=100* growth_multiplier**7\n",
    "\n",
    "# Print out result\n",
    "print(result)"
   ]
  },
  {
   "cell_type": "markdown",
   "metadata": {},
   "source": [
    "Другие типы переменных\n",
    "В предыдущем упражнении вы работали с двумя типами данных Python:\n",
    "\n",
    "int, или целое число: число без дробной части. , со значением , является примером целого числа.savings100\n",
    "float, или с плавающей запятой: число, имеющее как целое число, так и дробную часть, разделенное точкой. , со значением , является примером плавающей точки.growth_multiplier1.1\n",
    "Помимо числовых типов данных, существуют два других очень распространенных типа данных:\n",
    "\n",
    "str, или строка: тип для представления текста. Для построения строки можно использовать одинарные или двойные кавычки.\n",
    "bool, или логический: тип для представления логических значений. Может быть только или (капитализация важна!).TrueFalse\n",
    "Резолюция\n",
    "100 ОПЫТ\n",
    "Создайте новую строку , со значением .desc\"compound interest\"\n",
    "Создайте новую логическую среду, , со значением .profitableTrue"
   ]
  },
  {
   "cell_type": "code",
   "execution_count": null,
   "metadata": {},
   "outputs": [],
   "source": [
    "# Create a variable \n",
    "desc=\"compound interest\"\n",
    "\n",
    "\n",
    "# Create a variable profitable\n",
    "profitable=True"
   ]
  },
  {
   "cell_type": "code",
   "execution_count": null,
   "metadata": {},
   "outputs": [],
   "source": [
    "Операции с другими типами\n",
    "Хьюго упомянул, что разные типы ведут себя по-разному в Python.\n",
    "\n",
    "Например, при суммировании двух строк поведение будет отличаться от при суммировании двух целых чисел или двух логических значений.\n",
    "\n",
    "В скрипте уже созданы некоторые переменные с разными типами. Это зависит от вас, чтобы использовать их.\n",
    "\n",
    "Резолюция\n",
    "100 ОПЫТ\n",
    "Рассчитайте произведение и . Сохраните результат в .savingsgrowth_multiplieryear1\n",
    "Как вы думаете, каким будет результирующий тип? Узнайте, распечатав тип .year1\n",
    "Вычислите сумму и сохраните результат в новой переменной.descdescdoubledesc\n",
    "Распечатать . Вы ожидали этого?doubledesc"
   ]
  },
  {
   "cell_type": "code",
   "execution_count": null,
   "metadata": {},
   "outputs": [],
   "source": [
    "savings = 100\n",
    "growth_multiplier = 1.1\n",
    "desc = \"compound interest\"\n",
    "\n",
    "# Assign product of growth_multiplier and savings to year1\n",
    "\n",
    "\n",
    "# Print the type of year1\n",
    "\n",
    "\n",
    "# Assign sum of desc and desc to doubledesc\n",
    "\n",
    "\n",
    "# Print out doubledesc\n"
   ]
  },
  {
   "cell_type": "code",
   "execution_count": null,
   "metadata": {},
   "outputs": [],
   "source": [
    "savings = 100\n",
    "growth_multiplier = 1.1\n",
    "desc = \"compound interest\"\n",
    "\n",
    "# Assign product of growth_multiplier and savings to year1\n",
    "year1=growth_multiplier*savings\n",
    "\n",
    "# Print the type of year1\n",
    "print(type(year1))\n",
    "\n",
    "# Assign sum of desc and desc to doubledesc\n",
    "doubledesc=desc+desc\n",
    "\n",
    "# Print out doubledesc\n",
    "print( doubledesc)\n"
   ]
  },
  {
   "cell_type": "code",
   "execution_count": null,
   "metadata": {},
   "outputs": [],
   "source": []
  },
  {
   "cell_type": "markdown",
   "metadata": {
    "id": "5mTR8_BFlzru"
   },
   "source": [
    "# Операторы в Python"
   ]
  },
  {
   "cell_type": "markdown",
   "metadata": {
    "id": "AjrHMYSdlzru"
   },
   "source": [
    "<b>Оператор</b> в Python — это символ, который выполняет операцию над одним или несколькими операндами.<br>\n",
    "<b>Операндом </b>выступает переменная или значение, над которыми проводится операция.\n",
    "\n",
    "- Арифметические операторы\n",
    "- Операторы сравнения\n",
    "- Операторы присваивания\n",
    "- Логические операторы\n",
    "- Операторы принадлежности\n",
    "- Операторы тождественности\n",
    "- Битовые операторы"
   ]
  },
  {
   "cell_type": "markdown",
   "metadata": {},
   "source": [
    "### арифметические операции"
   ]
  },
  {
   "cell_type": "markdown",
   "metadata": {},
   "source": [
    "В математике\tВ Python\n",
    "\n",
    "Сложение\t     +\n",
    "\n",
    "Вычитание\t     -\n",
    "\n",
    "Умножение        *\n",
    "\n",
    "Деление\t         /\n",
    "\n",
    "Степень         **"
   ]
  },
  {
   "cell_type": "code",
   "execution_count": 4,
   "metadata": {},
   "outputs": [
    {
     "name": "stdout",
     "output_type": "stream",
     "text": [
      "2\n"
     ]
    }
   ],
   "source": [
    "print(7//3) # целая часть"
   ]
  },
  {
   "cell_type": "code",
   "execution_count": 5,
   "metadata": {},
   "outputs": [
    {
     "name": "stdout",
     "output_type": "stream",
     "text": [
      "1\n"
     ]
    }
   ],
   "source": [
    "print(7%3) #остаток"
   ]
  },
  {
   "cell_type": "markdown",
   "metadata": {},
   "source": [
    "Предположим, у вас есть 100 долларов, которые вы можете инвестировать с доходностью 10% каждый год. Через год это <i>100 * 1,1=110</i> долларов, а через два года это <i>100 * 1,1 * 1.1=121</i>. Добавьте код, чтобы рассчитать, сколько денег вы получите через 7 лет, и распечатайте результат."
   ]
  },
  {
   "cell_type": "code",
   "execution_count": 13,
   "metadata": {},
   "outputs": [
    {
     "name": "stdout",
     "output_type": "stream",
     "text": [
      "10\n",
      "0\n",
      "15\n",
      "5.0\n",
      "4\n",
      "16\n",
      "194.87171000000012\n"
     ]
    }
   ],
   "source": [
    "# Addition, subtraction\n",
    "print(5 + 5)\n",
    "print(5 - 5)\n",
    "\n",
    "# Multiplication, division, modulo, and exponentiation\n",
    "print(3 * 5)\n",
    "print(10 / 2)\n",
    "print(18 % 7)\n",
    "print(4 ** 2)\n",
    "\n",
    "# How much is your $100 worth after 7 years?\n",
    "print(100 * 1.1 ** 7)"
   ]
  },
  {
   "cell_type": "markdown",
   "metadata": {},
   "source": [
    "Другие типы переменных\n",
    "В предыдущем упражнении вы работали с двумя типами данных Python:\n",
    "\n",
    "int, или целое число: число без дробной части. , со значением , является примером целого числа.savings100\n",
    "float, или с плавающей запятой: число, имеющее как целое число, так и дробную часть, разделенное точкой. , со значением , является примером плавающей точки.growth_multiplier1.1\n",
    "Помимо числовых типов данных, существуют два других очень распространенных типа данных:\n",
    "\n",
    "str, или строка: тип для представления текста. Для построения строки можно использовать одинарные или двойные кавычки.\n",
    "bool, или логический: тип для представления логических значений. Может быть только или (капитализация важна!).TrueFalse\n",
    "Резолюция\n",
    "100 ОПЫТ\n",
    "Создайте новую строку , со значением .desc\"compound interest\"\n",
    "Создайте новую логическую среду, , со значением .profitableTrue"
   ]
  },
  {
   "cell_type": "code",
   "execution_count": null,
   "metadata": {},
   "outputs": [],
   "source": [
    "# Create a variable desc\n",
    "\n",
    "\n",
    "# Create a variable profitable"
   ]
  },
  {
   "cell_type": "code",
   "execution_count": 3,
   "metadata": {},
   "outputs": [],
   "source": [
    "# Create a variable \n",
    "desc=\"compound interest\"\n",
    "\n",
    "\n",
    "# Create a variable profitable\n",
    "profitable=True"
   ]
  },
  {
   "cell_type": "markdown",
   "metadata": {
    "id": "IsU_1lCXlzru"
   },
   "source": [
    "# Базовые операции\n",
    "\n",
    "Для целого типа integers:\n",
    "`+ - * / // % **`\n",
    "\n",
    "для типа  floats:\n",
    "`+ - * / **`\n",
    "\n",
    "Boolean Логические:\n",
    "* keywords: `True` and `False` (note capitalization)\n",
    "* `==` равенство: `5 == 5` выдает `True`\n",
    "* `!=` не равно: `5 != 5` выдает `False`\n",
    "* `>` greater than: `5 > 4` выдает `True`\n",
    "* `>=`меньше: `5 >= 5` дает `True`\n",
    "* Similarly, we have `<` and `<=`.\n",
    "\n",
    "Logical operators:\n",
    "* `and`, `or`, and `not`\n",
    "* `True and False`\n",
    "* `True or False`\n",
    "* `not True`"
   ]
  },
  {
   "cell_type": "code",
   "execution_count": 4,
   "metadata": {},
   "outputs": [
    {
     "name": "stdout",
     "output_type": "stream",
     "text": [
      "True\n"
     ]
    }
   ],
   "source": [
    "print(2<3)"
   ]
  },
  {
   "cell_type": "code",
   "execution_count": 6,
   "metadata": {},
   "outputs": [
    {
     "name": "stdout",
     "output_type": "stream",
     "text": [
      "False\n"
     ]
    }
   ],
   "source": [
    "print(2>=3)"
   ]
  },
  {
   "cell_type": "code",
   "execution_count": null,
   "metadata": {
    "id": "pBXKKFwFlzru",
    "outputId": "7c53f25b-f30f-46d7-b38d-514c097d82d3"
   },
   "outputs": [
    {
     "data": {
      "text/plain": [
       "False"
      ]
     },
     "execution_count": 34,
     "metadata": {},
     "output_type": "execute_result"
    }
   ],
   "source": [
    "not (5 == 5.0) #equivalent to 5 != 5.0"
   ]
  },
  {
   "cell_type": "code",
   "execution_count": null,
   "metadata": {
    "id": "Fhwbkg3Zlzrv",
    "outputId": "5dd44606-a91a-4ddc-d077-762373cb1078"
   },
   "outputs": [
    {
     "data": {
      "text/plain": [
       "False"
      ]
     },
     "execution_count": 36,
     "metadata": {},
     "output_type": "execute_result"
    }
   ],
   "source": [
    "not (8%2==0)"
   ]
  },
  {
   "cell_type": "code",
   "execution_count": null,
   "metadata": {
    "id": "wMELH3Kylzrv",
    "outputId": "b84191c7-be7f-453c-c4b9-faea251cebd6"
   },
   "outputs": [
    {
     "name": "stdout",
     "output_type": "stream",
     "text": [
      "6\n",
      "yes\n"
     ]
    }
   ],
   "source": [
    "x=int(input())\n",
    "if x>=2 and x<10:\n",
    "    print('yes')\n",
    "else:\n",
    "    print('no')"
   ]
  },
  {
   "cell_type": "code",
   "execution_count": null,
   "metadata": {
    "id": "Vz-2zDJRlzrv"
   },
   "outputs": [],
   "source": [
    "if x%2==0:\n",
    "    x=x*10 # x*=10\n",
    "    print('hkjkk hhjjj')\n",
    "print('end')"
   ]
  },
  {
   "cell_type": "code",
   "execution_count": null,
   "metadata": {
    "id": "eMzsa0RGlzrv"
   },
   "outputs": [],
   "source": [
    "True and True"
   ]
  },
  {
   "cell_type": "code",
   "execution_count": null,
   "metadata": {
    "id": "vsEWsn8Olzrv"
   },
   "outputs": [],
   "source": [
    "type(4/2)"
   ]
  },
  {
   "cell_type": "code",
   "execution_count": null,
   "metadata": {
    "id": "cQWw1UCClzrv"
   },
   "outputs": [],
   "source": [
    "type(4//2)"
   ]
  },
  {
   "cell_type": "code",
   "execution_count": null,
   "metadata": {
    "id": "Tpa3ne8plzrv"
   },
   "outputs": [],
   "source": [
    "4//2"
   ]
  },
  {
   "cell_type": "code",
   "execution_count": null,
   "metadata": {
    "id": "Y_16qJCNlzrw"
   },
   "outputs": [],
   "source": [
    "4.0//2.0"
   ]
  },
  {
   "cell_type": "code",
   "execution_count": null,
   "metadata": {
    "id": "_59gMum1lzrw"
   },
   "outputs": [],
   "source": [
    "5//3 #=1 remainder 2"
   ]
  },
  {
   "cell_type": "code",
   "execution_count": null,
   "metadata": {
    "id": "nockXP0-lzrw"
   },
   "outputs": [],
   "source": [
    "6%3"
   ]
  },
  {
   "cell_type": "code",
   "execution_count": null,
   "metadata": {
    "id": "48yoLO9zlzrw"
   },
   "outputs": [],
   "source": [
    "5%3"
   ]
  },
  {
   "cell_type": "code",
   "execution_count": null,
   "metadata": {
    "id": "c3L0s_tllzrw"
   },
   "outputs": [],
   "source": [
    "4**3"
   ]
  },
  {
   "cell_type": "markdown",
   "metadata": {
    "id": "PXOKnT4qlzrw"
   },
   "source": [
    "### Операторы присваивания\n",
    "<Переменная>= выражение"
   ]
  },
  {
   "cell_type": "code",
   "execution_count": null,
   "metadata": {
    "id": "GqQ5_nY5lzrw"
   },
   "outputs": [],
   "source": [
    "x = 2 + 5"
   ]
  },
  {
   "cell_type": "code",
   "execution_count": 15,
   "metadata": {
    "id": "_3wvNEN8lzrw"
   },
   "outputs": [
    {
     "name": "stdout",
     "output_type": "stream",
     "text": [
      "4\n",
      "4\n"
     ]
    }
   ],
   "source": [
    "# Множественное наследование\n",
    "x = y = 4\n",
    "print(x)\n",
    "print(y)"
   ]
  },
  {
   "cell_type": "code",
   "execution_count": 14,
   "metadata": {
    "id": "0VPmhTwwlzrw",
    "outputId": "fa3518f1-2482-4ed3-d8e5-33cec84e132b"
   },
   "outputs": [
    {
     "name": "stdout",
     "output_type": "stream",
     "text": [
      "2\n",
      "F\n"
     ]
    }
   ],
   "source": [
    "#Изменение значений переменных\n",
    "x = 2\n",
    "print(x)\n",
    "x = 'F'\n",
    "print(x)"
   ]
  },
  {
   "cell_type": "code",
   "execution_count": null,
   "metadata": {
    "id": "Ya3JO83Tlzrx",
    "outputId": "35740368-cf98-4616-ca0e-acca20bee779"
   },
   "outputs": [
    {
     "name": "stdout",
     "output_type": "stream",
     "text": [
      "x 3\n",
      "y 2\n"
     ]
    }
   ],
   "source": [
    "# Поменять значения переменных\n",
    "x=2\n",
    "y=3\n",
    "x,y=y,x\n",
    "print('x', x)\n",
    "print('y',y)"
   ]
  },
  {
   "cell_type": "markdown",
   "metadata": {
    "id": "WTZ3bkPmlzrx"
   },
   "source": [
    "# Преобразование типов Python и приведение типов"
   ]
  },
  {
   "cell_type": "markdown",
   "metadata": {
    "id": "OS22R2rglzrx"
   },
   "source": [
    "1. Неявное преобразование типов\n",
    "\n",
    "2. Явное преобразование типов"
   ]
  },
  {
   "cell_type": "markdown",
   "metadata": {
    "id": "QGQqIXM9lzrx"
   },
   "source": [
    "![xkcd_python](https://s0.slide-share.ru/s_slide/9d6c5af8802a11bc13585fc38039007e/f7bb40d3-59f0-4e3e-b551-e4fdaf343a34.jpeg)"
   ]
  },
  {
   "cell_type": "code",
   "execution_count": 9,
   "metadata": {},
   "outputs": [],
   "source": [
    "s = 5\n",
    "r = 4"
   ]
  },
  {
   "cell_type": "code",
   "execution_count": 13,
   "metadata": {},
   "outputs": [
    {
     "name": "stdout",
     "output_type": "stream",
     "text": [
      "I started with  5𝑎𝑛𝑑𝑛𝑜𝑤ℎ𝑎𝑣𝑒 4. Awesome!\n"
     ]
    }
   ],
   "source": [
    "print(\"I started with  \"+str(𝑠)+\"𝑎𝑛𝑑𝑛𝑜𝑤ℎ𝑎𝑣𝑒 \" + str(r) + \". Awesome!\")"
   ]
  },
  {
   "cell_type": "markdown",
   "metadata": {},
   "source": [
    "Преобразование типов\n",
    "Использование оператора для вставки двух строк может быть очень полезно при создании пользовательских сообщений.+\n",
    "\n",
    "Предположим, например, что вы рассчитали возврат инвестиций и хотите обобщить результаты в строке. Предполагая, что целое число и плавающая точка определены, вы можете попробовать что-то вроде этого:savingsresult\n",
    "\n",
    "print(\"I started with $\" + savings + \" and now have $\" + result + \". Awesome!\")\n",
    "Однако это не сработает, так как вы не можете просто суммировать строки и целые числа / плавающие числа.\n",
    "\n",
    "Чтобы исправить ошибку, необходимо явно преобразовать типы переменных. В частности, вам понадобится str(), чтобы преобразовать значение в строку. , например, преобразует целое число в строку.str(savings)savings\n",
    "\n",
    "Подобные функции, такие как int(), float() и bool(), помогут вам преобразовать значения Python в любой тип.\n",
    "\n",
    "\n",
    "Исправьте код таким образом, чтобы распечатка выполнялась без ошибок; используйте функцию str() для преобразования переменных в строки.\n",
    "Преобразуйте переменную в float и сохраните эту float как новую переменную, .pi_stringpi_float"
   ]
  },
  {
   "cell_type": "code",
   "execution_count": null,
   "metadata": {},
   "outputs": [],
   "source": [
    "# Definition of savings and result\n",
    "savings = 100\n",
    "result = 100 * 1.10 ** 7\n",
    "\n",
    "# Fix the printout\n",
    "print(\"I started with $\" + savings + \" and now have $\" + result + \". Awesome!\")\n",
    "\n",
    "# Definition of pi_string\n",
    "pi_string = \"3.1415926\"\n",
    "\n",
    "# Convert pi_string into float: pi_float\n"
   ]
  },
  {
   "cell_type": "code",
   "execution_count": null,
   "metadata": {},
   "outputs": [],
   "source": [
    "# Definition of savings and result\n",
    "savings = 100\n",
    "result = 100 * 1.10 ** 7\n",
    "\n",
    "# Fix the printout\n",
    "print(\"I started with $\" + str(savings )+  \" and now have $\" +str( result )+ \". Awesome!\")\n",
    "\n",
    "# Definition of pi_string\n",
    "pi_string = \"3.1415926\"\n",
    "\n",
    "# Convert pi_string into float: pi_float\n",
    "pi_float=float(pi_string)"
   ]
  },
  {
   "cell_type": "markdown",
   "metadata": {
    "id": "0rUvbf6Dlzrx"
   },
   "source": [
    "# Решение задач"
   ]
  },
  {
   "cell_type": "code",
   "execution_count": null,
   "metadata": {
    "id": "S2jGiTLrlzrx"
   },
   "outputs": [],
   "source": [
    "# сложить 2 числа"
   ]
  },
  {
   "cell_type": "code",
   "execution_count": null,
   "metadata": {
    "id": "1DuqpJhSlzry"
   },
   "outputs": [],
   "source": [
    "# сложить 3 числа"
   ]
  },
  {
   "cell_type": "code",
   "execution_count": null,
   "metadata": {
    "id": "wvuCuSjGlzry"
   },
   "outputs": [],
   "source": [
    "# Найти площадь треугольника по значению высоты и основания"
   ]
  },
  {
   "cell_type": "markdown",
   "metadata": {},
   "source": [
    "Какой из кодов  вызовет ошибку?"
   ]
  },
  {
   "cell_type": "markdown",
   "metadata": {},
   "source": [
    "\n",
    "1. \"I can add integers, like \" + str(5) + \" to strings.\"\n",
    "\n",
    "2. \"I said \" + (\"Hey \" * 2) + \"Hey!\"\n",
    "\n",
    "3. **\"The correct answer to this multiple choice exercise is answer number \" + 2\n",
    "\n",
    "4. True + False"
   ]
  },
  {
   "cell_type": "markdown",
   "metadata": {
    "id": "-Wc0_soolzry"
   },
   "source": [
    "# Управление памятью и сборщик мусора"
   ]
  },
  {
   "cell_type": "markdown",
   "metadata": {
    "id": "u17d2VbVlzry"
   },
   "source": [
    "Сборка мусора - технология, позволяющая, с одной стороны, упростить программирование, избавив программиста от необходимости вручную удалять объекты, созданные в динамической памяти, с другой - устранить ошибки, вызванные неправильным ручным управлением памятью.<br> Алгоритм, используемый сборщиком мусора называется подсчетом ссылок. Python хранит журнал ссылок на каждый объект и автоматически уничтожает объект, как только на него больше нет ссылок. "
   ]
  },
  {
   "cell_type": "markdown",
   "metadata": {
    "id": "o5ZcFN4Ilzry"
   },
   "source": [
    "![xkcd_python](https://www.yuripetrov.ru/edu/python/_images/03_01_02.gif)"
   ]
  },
  {
   "cell_type": "markdown",
   "metadata": {
    "id": "_kVzTKAxlzr0"
   },
   "source": [
    "# if\n",
    "\n",
    "If statements:"
   ]
  },
  {
   "cell_type": "code",
   "execution_count": null,
   "metadata": {
    "id": "NsHmJvhClzr0",
    "outputId": "a5923170-f1b6-4797-d0ba-facefe2a0d6c"
   },
   "outputs": [
    {
     "name": "stdout",
     "output_type": "stream",
     "text": [
      "8\n",
      "pol\n"
     ]
    }
   ],
   "source": [
    "x=int(input())\n",
    "if x>0:\n",
    "    print('pol')"
   ]
  },
  {
   "cell_type": "code",
   "execution_count": null,
   "metadata": {
    "id": "2_NC0BD7lzr0",
    "outputId": "c47833ca-1b40-4ad2-d613-36954c9a136b"
   },
   "outputs": [
    {
     "name": "stdout",
     "output_type": "stream",
     "text": [
      "x is 3\n"
     ]
    }
   ],
   "source": [
    "x = 3\n",
    "y = 2\n",
    "z = 1\n",
    "if x == y:\n",
    "    print(\"Hello\")\n",
    "elif x == z:\n",
    "    print(\"Goodbye\")\n",
    "elif x == 3:\n",
    "    print(\"x is 3\")\n",
    "else:\n",
    "    print(\"???\")"
   ]
  },
  {
   "cell_type": "code",
   "execution_count": null,
   "metadata": {
    "id": "V965CsTilzr0"
   },
   "outputs": [],
   "source": [
    "if 1 == 2:\n",
    "    print(\"this runs\")\n",
    "print(\"this runs too\")"
   ]
  },
  {
   "cell_type": "markdown",
   "metadata": {
    "id": "13ywLuoPlzr0"
   },
   "source": [
    "**For loops**\n"
   ]
  },
  {
   "cell_type": "code",
   "execution_count": null,
   "metadata": {
    "id": "eg_wxuHLlzr1"
   },
   "outputs": [],
   "source": [
    "print(\"loop 1\")\n",
    "for i in range(5): # default - start at 0, increment by 1\n",
    "    print(i)\n",
    "    \n",
    "print(\"\\nloop 2\")\n",
    "for i in range(10, 2, -2): # inputs are start, stop, step\n",
    "    print(i)\n"
   ]
  },
  {
   "cell_type": "markdown",
   "metadata": {
    "id": "qgsUIBV6lzr1"
   },
   "source": [
    "**while loops**"
   ]
  },
  {
   "cell_type": "code",
   "execution_count": null,
   "metadata": {
    "id": "nePdeQ7rlzr1"
   },
   "outputs": [],
   "source": [
    "i = 1\n",
    "while i < 100:\n",
    "    print(i**2)\n",
    "    i += i**2  # a += b is short for a = a + b\n"
   ]
  },
  {
   "cell_type": "markdown",
   "metadata": {
    "id": "VR-Orkv7lzr1"
   },
   "source": [
    "**continue** - skip the rest of a loop\n",
    "\n",
    "**break** - exit from the loop"
   ]
  },
  {
   "cell_type": "code",
   "execution_count": null,
   "metadata": {
    "id": "eeHB8Ep8lzr1"
   },
   "outputs": [],
   "source": [
    "for num in range(2, 10):\n",
    "    if num % 2 == 0:\n",
    "        continue # this jumps us back to the top\n",
    "    print(f\"Found {num}, an odd number\")"
   ]
  },
  {
   "cell_type": "code",
   "execution_count": null,
   "metadata": {
    "id": "9XIJ-syrlzr1"
   },
   "outputs": [],
   "source": [
    "n = 64\n",
    "for x in range(2, n):\n",
    "    if n % x == 0: # if n divisible by x\n",
    "        print(f'{n} equals {x} * {n // x}')\n",
    "        break"
   ]
  },
  {
   "cell_type": "code",
   "execution_count": null,
   "metadata": {
    "id": "-MYOLcJhlzr1"
   },
   "outputs": [],
   "source": [
    "for i in range(5):\n",
    "    for j in range(5*i):\n",
    "        if j == 10:\n",
    "            print(j)\n",
    "            break   \n",
    "    #break exits to here"
   ]
  },
  {
   "cell_type": "markdown",
   "metadata": {
    "id": "AHgQZ5G3lzr2"
   },
   "source": [
    "**pass** does nothing"
   ]
  },
  {
   "cell_type": "code",
   "execution_count": null,
   "metadata": {
    "id": "gQp2TuUglzr2"
   },
   "outputs": [],
   "source": [
    "if False:\n",
    "    pass #do nothing\n",
    "else:\n",
    "    print('True!')"
   ]
  }
 ],
 "metadata": {
  "colab": {
   "name": "Первая лекция Python.ipynb",
   "provenance": []
  },
  "kernelspec": {
   "display_name": "Python 3",
   "language": "python",
   "name": "python3"
  },
  "language_info": {
   "codemirror_mode": {
    "name": "ipython",
    "version": 3
   },
   "file_extension": ".py",
   "mimetype": "text/x-python",
   "name": "python",
   "nbconvert_exporter": "python",
   "pygments_lexer": "ipython3",
   "version": "3.8.3"
  }
 },
 "nbformat": 4,
 "nbformat_minor": 1
}

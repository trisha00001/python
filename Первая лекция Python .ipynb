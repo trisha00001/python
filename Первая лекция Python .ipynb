{
 "cells": [
  {
   "cell_type": "markdown",
   "metadata": {},
   "source": [
    "# Модуль 1.  Введение в Python и компьютерное программирование"
   ]
  },
  {
   "cell_type": "markdown",
   "metadata": {},
   "source": [
    "В этом модуле вы узнаете о:\n",
    "\n",
    "- основы компьютерного программирования, то есть того, как работает компьютер, как выполняется программа, как определяется и строится язык программирования;\n",
    "- в чем разница между компиляцией и интерпретацией;\n",
    "- что такое Python, как он позиционируется среди других языков программирования и что отличает разные версии Python."
   ]
  },
  {
   "cell_type": "markdown",
   "metadata": {
    "id": "eWlrabHclzra"
   },
   "source": [
    "# Почему  Python?!"
   ]
  },
  {
   "cell_type": "markdown",
   "metadata": {},
   "source": [
    "- Легко читаемый код\n",
    "- Ускоренный цикл разработки (проподает стадия кампиляции)\n",
    "- Переносимы язык (запуск под разными платформами)\n",
    "- Множество пакетов (библиотеки)\n",
    "- Поддерживает все стили программирования"
   ]
  },
  {
   "cell_type": "markdown",
   "metadata": {
    "id": "b8UK5MPWlzra"
   },
   "source": [
    "### 1. Легок в изучении "
   ]
  },
  {
   "cell_type": "markdown",
   "metadata": {
    "id": "gJql5stRlzrb"
   },
   "source": [
    "### 2. Python динамично развивающийся язык"
   ]
  },
  {
   "cell_type": "markdown",
   "metadata": {
    "id": "RYYAHuvjlzrb"
   },
   "source": [
    "# <a> Рейтинг популярности языков программирования  индекс TIOBE </a>"
   ]
  },
  {
   "cell_type": "markdown",
   "metadata": {
    "id": "5GymVS1xlzrb"
   },
   "source": [
    "Впервые за более чем 20 лет у рейтинга языков программирования TIOBE появился новый лидер — Python. Давняя гегемония Java и C закончилась. Python, который начинался как простой язык сценариев и альтернатива Perl, достиг своей вершины. Простота обучения, огромное количество библиотек и широкое использование во всех областях сделали его самым популярным языком программирования на сегодняшний день."
   ]
  },
  {
   "cell_type": "markdown",
   "metadata": {
    "id": "bO5ZWzZflzrc"
   },
   "source": [
    "![xkcd_python](https://i1.wp.com/apptractor.ru/wp-content/uploads/2021/10/image2-1.png?resize=768%2C364&ssl=1)\n"
   ]
  },
  {
   "cell_type": "markdown",
   "metadata": {
    "id": "ADxradOulzrg"
   },
   "source": [
    "# Дополнительный материал"
   ]
  },
  {
   "cell_type": "markdown",
   "metadata": {
    "id": "oA7Xs85Olzrg"
   },
   "source": [
    "https://pythontutor.ru/"
   ]
  },
  {
   "cell_type": "markdown",
   "metadata": {
    "id": "rAhBg75Slzrg"
   },
   "source": [
    "https://stepik.org/course/575/promo"
   ]
  },
  {
   "cell_type": "markdown",
   "metadata": {
    "id": "DObuKXELlzrg"
   },
   "source": [
    "https://www.programiz.com/"
   ]
  },
  {
   "cell_type": "markdown",
   "metadata": {
    "id": "Gq0-t8Q2lzrh"
   },
   "source": [
    "https://www.youtube.com/watch?v=iEmv_nIvFp4"
   ]
  },
  {
   "cell_type": "markdown",
   "metadata": {
    "id": "ajOfy_bElzrh"
   },
   "source": [
    "https://youtu.be/2-EBSIRs0H4"
   ]
  },
  {
   "cell_type": "markdown",
   "metadata": {
    "id": "j1Bvj5N_lzrh"
   },
   "source": [
    "https://informatics.msk.ru/mod/statements/view.php?id=276#1"
   ]
  },
  {
   "cell_type": "markdown",
   "metadata": {
    "id": "Z81ddMjRlzrh"
   },
   "source": [
    "# История возникновения языка программирования Python"
   ]
  },
  {
   "cell_type": "markdown",
   "metadata": {
    "id": "nHTIaRUylzri"
   },
   "source": [
    "Python (Питон или Пайтон)- это мощный объектно-ориентированный язык \n",
    "программирования высокого уровня с открытым исходным кодом."
   ]
  },
  {
   "cell_type": "markdown",
   "metadata": {
    "id": "soWo3fYklzri"
   },
   "source": [
    "![xkcd_python](https://avatars.mds.yandex.net/get-zen_doc/1878668/pub_5e932955984e257a1970d593_5e932c399c87a00d2d7d4a2f/scale_1200)\n"
   ]
  },
  {
   "cell_type": "markdown",
   "metadata": {
    "id": "sOgSRhX-lzri"
   },
   "source": [
    "Разработан нидерландским программистом \n",
    "Гвидо ван Россумом (Guido van Rossum).\n",
    "Начало разработки конец 80-х годов, назван в честь \n",
    "шоу Монти Пайтона.В феврале 1991 года исходный текст опубликован \n",
    "в группе новостей alt.sources. В 1994 году, благодаря росту числа пользователей, \n",
    "была создана группа comp.lang.python\n",
    "<br>\n",
    "Релизы:<br>\n",
    "   <center> 1994 v. 1.0 – 2000 v. 1.6 <br>\n",
    "    2000 v. 2.0 – 2010 v. 2.7<br>\n",
    "    2008 v. 3.0 – 2021 v. 3.9<br>\n",
    "    </center>"
   ]
  },
  {
   "cell_type": "markdown",
   "metadata": {},
   "source": [
    "Python 2 - это более старая версия исходного Python. С тех пор его разработка намеренно приостановлена, хотя это не означает, что для него нет обновлений. Напротив, обновления выпускаются регулярно, но они не предназначены для значительного изменения языка. Они скорее исправляют недавно обнаруженные ошибки и дыры в безопасности. Путь разработки Python 2 уже зашел в тупик, но сам Python 2 все еще жив."
   ]
  },
  {
   "cell_type": "markdown",
   "metadata": {
    "id": "wkZvGqp0lzri"
   },
   "source": [
    "# Характеристики языка программирования Python"
   ]
  },
  {
   "cell_type": "markdown",
   "metadata": {
    "id": "8ljRfKa8lzri"
   },
   "source": [
    "- Низкий порог вхождения, уже после одного дня изучения можно начать писать простые программы;\n",
    "- Минималистичный язык, с небольшим количеством конструкций;\n",
    "- Краткий код;\n",
    "- Поддерживается импорт Си-библиотек;\n",
    "- Существует большое количество реализаций: CPython (основная реализация); Jython (реализация для JVM); IronPython (CLR); PyPy;\n",
    "- Поддержка математических вычислений (библиотеки NumPy, SciPy);\n",
    "- Используется для обработки естественных языков (NLTK);\n",
    "- Большое количество развитых web-фреймворков (Django, TurboGear, CherryPy, Flask)."
   ]
  },
  {
   "cell_type": "markdown",
   "metadata": {
    "id": "upfHGn7ylzri"
   },
   "source": [
    "# Читаемость кода программ                                                написанных на Python"
   ]
  },
  {
   "cell_type": "markdown",
   "metadata": {
    "id": "B5mUBJ69lzrj"
   },
   "source": [
    "### Программа Python:"
   ]
  },
  {
   "cell_type": "code",
   "execution_count": null,
   "metadata": {
    "id": "33JxDApUlzrj"
   },
   "outputs": [],
   "source": [
    "print ( \"Hello World\")"
   ]
  },
  {
   "cell_type": "markdown",
   "metadata": {
    "id": "giNmMskulzrk"
   },
   "source": [
    "### Программа на Java:"
   ]
  },
  {
   "cell_type": "code",
   "execution_count": null,
   "metadata": {
    "id": "nh5pExfblzrk"
   },
   "outputs": [],
   "source": [
    "public class Hello\n",
    " {\n",
    "   public static void main(String argv[])\n",
    "      {\n",
    "        System.out.println(“Hello, World!”);\n",
    "      }\n",
    " }"
   ]
  },
  {
   "cell_type": "markdown",
   "metadata": {
    "id": "J7abi4cWlzrk"
   },
   "source": [
    "### Программа C ++:"
   ]
  },
  {
   "cell_type": "code",
   "execution_count": null,
   "metadata": {
    "id": "FYNuetTFlzrk"
   },
   "outputs": [],
   "source": [
    "#include <iostream>\n",
    "int main() \n",
    "  {\n",
    "    std::cout << \"Hello World\" << std::endl;\n",
    "    return 0;\n",
    "  }"
   ]
  },
  {
   "cell_type": "markdown",
   "metadata": {
    "id": "almmGikwlzrk"
   },
   "source": [
    "# Особенности языка программирования Python"
   ]
  },
  {
   "cell_type": "markdown",
   "metadata": {
    "id": "TY5JPA63lzrk"
   },
   "source": [
    "- Открытый исходный код\n",
    "- Сверхвысокоуровневый язык программирования - принцип «что нужно сделать»\n",
    "- Кроссплатформенный язык\n",
    "- Интерпретируемый\n",
    "- Поддерживает различные парадигмы программирования: модульное программирование, объектно-ориентированное программирование, функциональное программирование\n",
    "- Расширяемый и встраиваемый\n",
    "- Библиотеки:  базы данных, веб-службы, сети, числовые пакеты, графические пользовательские интерфейсы, трехмерная графика и другие.  https://pypi.python.org/pypi\n",
    "- Поддержка онлайн-сообщества Python\n",
    "- Оформлении программ  PEP 8 - Python Enhanced Proposal.  (предложения по развитию Python)  https://pep8.ru/doc/pep8/"
   ]
  },
  {
   "cell_type": "markdown",
   "metadata": {
    "id": "_t4pKwIjlzrl"
   },
   "source": [
    "К <b>недостаткам</b> языка программирования Python \n",
    "является его скорость. Если рассматривать только \n",
    "скорость выполнения кода, то становится ясно, что\n",
    "Python уступает другим языкам \n",
    "программирования, таким как C. Действительно, \n",
    "динамическая типизация, интерпретируемость и \n",
    "другие особенности, облегчающие работу \n",
    "программиста, приводят к ухудшению \n",
    "производительности.<br>\n",
    "<b>Отрицательной </b>стороной является высокий \n",
    "уровень зависимости от системных библиотек. В \n",
    "результате затрудняется перенос на другие \n",
    "системы."
   ]
  },
  {
   "cell_type": "markdown",
   "metadata": {
    "id": "EXw1vojflzrl"
   },
   "source": [
    "- Python уступает другим языкам программирования в скорости\n",
    "- в некоторых случаях он может быть устойчивым к некоторым более простым методам тестирования - это может означать, что отладка кода Python может быть более сложной, чем с другими языками\n",
    "- Зависим от системных библиотек\n",
    "- Невозможность модификации встроенных классов"
   ]
  },
  {
   "cell_type": "markdown",
   "metadata": {},
   "source": [
    "Если вы хотите реализовать чрезвычайно эффективный драйвер или графический движок, вы не будете использовать Python. Приложения для мобильных устройств: хотя эта территория все еще ждет своего покорения Python, скорее всего, когда-нибудь это произойдет."
   ]
  },
  {
   "cell_type": "markdown",
   "metadata": {},
   "source": [
    "## Компиляция против интерпретации"
   ]
  },
  {
   "cell_type": "markdown",
   "metadata": {},
   "source": [
    "Компьютерное программирование - это процесс компоновки элементов выбранного языка программирования в том порядке, который приведет к результату."
   ]
  },
  {
   "cell_type": "markdown",
   "metadata": {},
   "source": [
    "Предположим, вы успешно написали программу. Как убедить компьютер выполнить его? Вы должны перевести вашу программу на машинный язык. К счастью, перевод может быть выполнен самим компьютером, что делает весь процесс быстрым и эффективным."
   ]
  },
  {
   "cell_type": "markdown",
   "metadata": {},
   "source": [
    "Есть два разных способа преобразования программы с языка программирования высокого уровня в машинный язык:\n",
    "\n",
    "КОМПИЛЯЦИЯ - исходная программа транслируется один раз (однако это действие необходимо повторять каждый раз, когда вы изменяете исходный код) путем получения файла (например, файла .exe, если код предназначен для запуска под MS Windows), содержащего компьютер. код; теперь вы можете распространять файл по всему миру; программа, выполняющая этот перевод, называется компилятором или транслятором;\n",
    "\n",
    "ИНТЕРПРЕТАЦИЯ - вы (или любой пользователь кода) можете переводить исходную программу каждый раз, когда она должна быть запущена; программа, выполняющая такое преобразование, называется интерпретатором, поскольку она интерпретирует код каждый раз, когда он предназначен для выполнения; это также означает, что вы не можете просто распространять исходный код как есть, потому что конечному пользователю также нужен интерпретатор для его выполнения.\n",
    "\n",
    "По некоторым очень фундаментальным причинам конкретный язык программирования высокого уровня спроектирован так, чтобы попасть в одну из этих двух категорий.\n",
    "\n",
    "Очень мало языков, которые можно как компилировать, так и интерпретировать. Обычно язык программирования проектируется с учетом этого фактора в умах его конструкторов - будет ли он компилироваться или интерпретироваться?"
   ]
  },
  {
   "cell_type": "markdown",
   "metadata": {},
   "source": [
    "У обоих есть свои преимущества и свои недостатки."
   ]
  },
  {
   "cell_type": "markdown",
   "metadata": {},
   "source": [
    "<table style=\"table-layout:fixed; width:100%; min-width:700px;\">\n",
    "  <colgroup>\n",
    "    <col style=\"width:115px;\">\n",
    "    <col style=\"width:33%\">\n",
    "    <col style=\"width:33%\">\n",
    "    <col style=\"width:33%\">\n",
    "  </colgroup>\n",
    "<tbody>\n",
    "<tr>\n",
    "<td align=\"center\"><b><font style=\"vertical-align: inherit;\"><font style=\"vertical-align: inherit;\"></font></font></b></td>\n",
    "<td align=\"center\"><font style=\"vertical-align: inherit;\"><font style=\"vertical-align: inherit;\">КОМПИЛЯЦИЯ</font></font></td>\n",
    "<td align=\"center\"><font style=\"vertical-align: inherit;\"><font style=\"vertical-align: inherit;\">ИНТЕРПРЕТАЦИЯ</font></font></td>\n",
    "\n",
    "</tr>\n",
    "\n",
    "\n",
    "\n",
    "\n",
    "<tr>\n",
    "<td align=\"center\"><b><font style=\"vertical-align: inherit;\"><font style=\"vertical-align: inherit;\">Плюсы</font></font></b></td>\n",
    "<td align=\"left\"> • выполнение переведенного кода обычно происходит быстрее;<br> \n",
    "   • компилятор должен быть только у пользователя - конечный пользователь может использовать код без него ( exe);<br> \n",
    "    • переведенный код хранится с использованием машинного языка - так как его очень сложно понять, ваши собственные изобретения и уловки программирования, вероятно, останутся вашим секретом.</td>\n",
    "<td >  • вы можете запускать код сразу после его завершения - дополнительных этапов перевода нет;<br>\n",
    " • код хранится на языке программирования, а не на машинном - это означает, что его можно запускать на компьютерах, использующих разные машинные языки; вы не компилируете свой код отдельно для каждой платформы.</td>\n",
    "\n",
    "</tr>\n",
    "\n",
    "\n",
    "<tr>\n",
    "<td align=\"center\"><b><font style=\"vertical-align: inherit;\"><font style=\"vertical-align: inherit;\">Минусы</font></font></b></td>\n",
    "<td ><font style=\"vertical-align: inherit;\">• сама компиляция может занять очень много времени - возможно, вы не сможете запустить свой код сразу после внесения каких-либо поправок;<br>\n",
    "• \n",
    "у вас должно быть столько же компиляторов, сколько аппаратных платформ, на которых вы хотите, чтобы ваш код запускался</td>\n",
    "<td ><font align=\"left\">• \n",
    "не ожидайте, что интерпретация приведет к увеличению скорости вашего кода - ваш код будет делить мощность компьютера с интерпретатором,  поэтому он не может быть действительно быстрым;\n",
    "<br>\n",
    "• и у вас, и у конечного пользователя должен быть интерпретатор для запуска вашего кода.</td>\n",
    "\n",
    "</tr>\n",
    "\n",
    "</tbody>\n",
    "</table>"
   ]
  },
  {
   "cell_type": "markdown",
   "metadata": {
    "id": "s7avCzqhlzrl"
   },
   "source": [
    "Python - интерпретируемый язык программирования. Он не конвертирует свой код в машинный, который понимает железо (в отличие от С и С++). Вместо этого, Python-интерпретатор переводит код программы в байт-код, который запускается на виртуальной машине Python (PVM). "
   ]
  },
  {
   "cell_type": "markdown",
   "metadata": {
    "id": "YEU7kSP3lzrl"
   },
   "source": [
    "![xkcd_python](https://pythonchik.ru/pic/lb1/intext_630d6d5f-9f11-467b-afbb-73fc6c7f01df_original.svg)"
   ]
  },
  {
   "cell_type": "markdown",
   "metadata": {
    "id": "u10nCtgplzrl"
   },
   "source": [
    "Байт код - система из компилятора и интерпретатора. Компилятор переводит исходный код программы в промежуточное представление (байт-код), а интерпретатор (виртуальная машина) выполняет этот байт-код."
   ]
  },
  {
   "cell_type": "markdown",
   "metadata": {
    "id": "e4OsfLjQlzrl"
   },
   "source": [
    "Этап #1. Инициализация\n",
    "После запуска вашей программы, Python-интерпретатор читает код, проверяет форматирование и синтаксис. При обнаружении ошибки он незамедлительно останавливается и показывает сообщение об ошибке. \n",
    "\n",
    "Помимо этого, происходит ряд подготовительных процессов:\n",
    "\n",
    "- анализ аргументов командной строки;\n",
    "- установка флагов программы;\n",
    "- чтение переменных среды и т.д.\n"
   ]
  },
  {
   "cell_type": "markdown",
   "metadata": {
    "id": "pYsHh5iYlzrl"
   },
   "source": [
    "Этап #2. Компиляция\n",
    "Интерпретатор транслирует (переводит) исходные инструкции вашей программы в байт-код (низкоуровневое, платформонезависимое представление исходного текста). Такая трансляция необходима в первую очередь для повышения скорости — байт-код выполняется в разы быстрее, чем исходные инструкции."
   ]
  },
  {
   "cell_type": "markdown",
   "metadata": {
    "id": "oKe6iqBVlzrm"
   },
   "source": [
    "![xkcd_python](https://pythonchik.ru/pic/lb1/intext_77d40039-3934-4cbd-a2b8-8ceb818ef641_original.svg)"
   ]
  },
  {
   "cell_type": "markdown",
   "metadata": {
    "id": "VDY43G-Klzrm"
   },
   "source": [
    "Этап #3. Выполнения\n",
    "Как только байт-код скомпилирован, он отправляется на виртуальную машину Python (PVM). Здесь выполняется байт-код на PVM. Если во время этого выполнения возникает ошибка, то выполнение останавливается с сообщением об ошибке.\n",
    "\n",
    "PVM является частью Python-интерпретатора. По сути это просто большой цикл, который выполняет перебор инструкций в байт-коде и выполняет соответствующие им операции."
   ]
  },
  {
   "cell_type": "markdown",
   "metadata": {
    "id": "UgrJKIxglzrm"
   },
   "source": [
    "# Причины использования Python"
   ]
  },
  {
   "cell_type": "markdown",
   "metadata": {
    "id": "0CoQK6zmlzrm"
   },
   "source": [
    "- Качество программного обеспечения: поддерживает самые современные механизмы многократного использования программного кода\n",
    "- Высокая скорость разработки: объем программного кода на языке Python обычно составляет треть или даже пятую часть эквивалентного программного кода на языке C++ или Java.\n",
    "- Переносимость программ: большая часть программ на языке Python выполняется без изменений на всех основных платформах\n",
    "- Поддержка библиотек\n",
    "- Интеграция компонентов: взаимодействовать с другими частями приложения благодаря различным механизмам интеграции"
   ]
  },
  {
   "cell_type": "markdown",
   "metadata": {
    "id": "kMWpD17flzrm"
   },
   "source": [
    "<b>Альтернативы CPython</b><br>\n",
    "<b>CPython</b> является стандартной реализацией, но существуют и другие реализации, созданные для специфических целей и задач.\n",
    "<br>\n",
    "<b>Jython</b><br>\n",
    "Основная цель данный реализации — тесная интеграция с языком Java. Работает следующим образом:\n",
    "\n",
    "Java-классы выполняют компиляцию программного кода на языке Python в байт-код Java.\n",
    "Полученный байт-код запускается на виртуальной машине Java (JVM).\n",
    "Jython позволить Python-программам управлять Java-приложениями. Во время выполнения такая программа ведет себя точно так же, как настоящая программа на языке Java.\n",
    "\n",
    "<b>IronPython</b>\n",
    "Предназначена для обеспечения интеграции Python-программ с C# приложениями на Microsoft .NET Framework или Mono. Принцип работы такой же, как и у Jython.\n",
    "\n",
    "<b>PyPy</b><br>\n",
    "PyPy — это интерпретатор Python, написанный на Python (если быть точнее, то на RPython).\n",
    "\n",
    "Особенностью PyPy является использование трассирующего JIT-компилятора (just-in-time), который на лету транслирует некоторые элементы в машинный код. Благодаря этому, при выполнении некоторых операций PyPy обгоняет CPython в несколько раз. Но плата за такую производительность — более высокое потребление памяти.\n",
    "\n",
    "<b>Stackless</b> - также написанная на Си реализация Python. Это не полноценная реализация, а патчи к CPython. Предоставляет возможности многопоточного программирования и большую глубину рекурсии."
   ]
  },
  {
   "cell_type": "markdown",
   "metadata": {
    "id": "csV4CWuZlzrm"
   },
   "source": [
    "# Среда исполнения Python"
   ]
  },
  {
   "cell_type": "markdown",
   "metadata": {
    "id": "f0zh4Werlzrm"
   },
   "source": [
    "Все кросс-платформенные языки программирования построены по одной модели:\n",
    "Исходный код(является переносимым между платформами);\n",
    "Среда исполнения, она же - Runtime Environment(не является переносимой и специфична для каждой конкретной платформы).\n",
    "Например, в среду исполнения Java дополнительно входит компилятор, так как исходный код необходимо скомпилировать в байт-код для виртуальной Java-машины. В среду исполнения Python входит только интерпретатор, который одновременно является и компилятором, однако компилирует исходный код Python непосредственно в машинный код целевой платформы.\n",
    "\n",
    "Когда вы пишете программу на языке Python, интерпретатор читает вашу программу и выполняет содержащиеся в ней инструкции. В действительности, интерпретатор - это слой программной логики между вашим программным кодом и аппаратурой вашего компьютера."
   ]
  },
  {
   "cell_type": "markdown",
   "metadata": {
    "id": "ULQVHiAUlzrn"
   },
   "source": [
    "![xkcd_python](https://thumb.tildacdn.com/tild6637-6430-4535-b733-663562373532/-/format/webp/Smartiqa_Python_inte.png)"
   ]
  },
  {
   "cell_type": "markdown",
   "metadata": {
    "id": "p51CaB1Xlzrn"
   },
   "source": [
    "Соответственно, прежде чем начать использовать Python, необходимо настроить его среду исполнения. Здесь возможны варианты:\n",
    "1. Воспользоваться онлайн интерпретатором.\n",
    "2. Установить интерпретатор Python у себя на машине. Вызывать его из консоли.\n",
    "3. Установить интерпретатор Python у себя на машине. \n",
    "4. Установить интегрированную среду разработки (IDE). Например, PyCharm. Писать и запускать скрипты внутри IDE."
   ]
  },
  {
   "cell_type": "markdown",
   "metadata": {
    "id": "3hUXfML6lzrp"
   },
   "source": [
    "# Среда разработки языка программирования  Python"
   ]
  },
  {
   "cell_type": "markdown",
   "metadata": {
    "id": "NnzTNjoylzrp"
   },
   "source": [
    "Онлайн-интерпретаторы:  http://ideone.com/, http://codepad.org/  и др.<br>\n",
    "IDLE<br>\n",
    "\thttps://docs.python.org/3/library/idle.html Простейшая интегрированная среда разработки. <br>\n",
    "    Поставляется вместе с Python.<br>\n",
    "PyCharm<br>\n",
    "\thttps://www.jetbrains.com/pycharm/download<br>\n",
    "Wing 101<br>\n",
    "\thttps://wingware.com/downloads/wing-101<br>\n",
    "Anaconda <br>\n",
    "\thttps://www.continuum.io/downloads Python + IDE Spyder с набором библиотек (numpy, scipy, ...) для научных вычислений <br>"
   ]
  },
  {
   "cell_type": "markdown",
   "metadata": {
    "id": "x3pg-GS9lzrp"
   },
   "source": [
    "# Выводы"
   ]
  },
  {
   "cell_type": "markdown",
   "metadata": {
    "id": "Zxn75AXSlzrp"
   },
   "source": [
    "Начнём с того, что Python – это \n",
    "многоцелевой язык. Его можно одинаково хорошо \n",
    "использовать для разработки любых программ и \n",
    "их тестирования. Так, например, компания Google \n",
    "широко использует язык Python для своей \n",
    "поисковой системы. Большая часть популярного \n",
    "видеохостинга YouTube была написана на \n",
    "языке Python. Также язык Python применяется в \n",
    "анимационной графике, научных вычислениях и \n",
    "тестировании аппаратного обеспечения.\n",
    "\n",
    "Таким образом, Python подходит для решения\n",
    "львиной доли повседневных задач, будь то\n",
    "резервное копирование, чтение электронной\n",
    "почты, либо же какая-нибудь игрушка. Язык\n",
    "программирования Python практически ничем\n",
    "не ограничен, поэтому также может\n",
    "использоваться в крупных проектах. К\n",
    "примеру, Python интенсивно применяется IT\u0002гигантами, такими как, например, Google и\n",
    "Yandex. "
   ]
  },
  {
   "cell_type": "markdown",
   "metadata": {},
   "source": [
    "# Модуль 2 Типы данных, переменные, базовые операции ввода-вывода, базовые операторы\n",
    "\n",
    "В этом модуле вы узнаете:\n",
    "\n",
    "- как писать и запускать простые программы на Python;\n",
    "- что такое литералы, операторы и выражения Python;\n",
    "- что такое переменные и каковы правила, которые ими управляют;\n",
    "- как выполнять основные операции ввода и вывода."
   ]
  },
  {
   "cell_type": "markdown",
   "metadata": {
    "id": "0PHG0pl2lzrp"
   },
   "source": [
    "# Синтаксис языка"
   ]
  },
  {
   "cell_type": "markdown",
   "metadata": {
    "id": "U8Qpxx-6lzrq"
   },
   "source": [
    "1. Конец строки выражения является окончанием инструкции, никаких знаков на конце не требуется, исключением являются вложенные инструкции.\n",
    "\n",
    "2. Вложенные инструкции объединяются в блоки по величине отступов. Отступ может быть любым, главное, чтобы в пределах одного вложенного блока отступ был одинаков.\n"
   ]
  },
  {
   "cell_type": "markdown",
   "metadata": {},
   "source": [
    "Первая программа. Запустите код в окне редактора или  запустите IDLE, создайте новый исходный файл Python, заполните его этим кодом, назовите файл и сохраните его. Теперь запустите его. Если все пойдет хорошо, вы увидите строку  окне консоли IDLE. "
   ]
  },
  {
   "cell_type": "code",
   "execution_count": null,
   "metadata": {
    "id": "Tr_f8P8ylzrq",
    "outputId": "b215daa6-f396-4e61-e7fc-47e918b67c6d"
   },
   "outputs": [
    {
     "name": "stdout",
     "output_type": "stream",
     "text": [
      "Hello, world!\n"
     ]
    }
   ],
   "source": [
    "print('Hello, world!')"
   ]
  },
  {
   "cell_type": "code",
   "execution_count": null,
   "metadata": {
    "id": "sl2LjWpIlzrq",
    "outputId": "ca745de5-5c1b-4f5a-ebaf-1be9cb3ade37"
   },
   "outputs": [
    {
     "name": "stdout",
     "output_type": "stream",
     "text": [
      "ello, world!\n"
     ]
    }
   ],
   "source": [
    "print(\"\"\"ello, world!\"\"\")"
   ]
  },
  {
   "cell_type": "code",
   "execution_count": null,
   "metadata": {
    "id": "lmhwMJWllzrr",
    "outputId": "57271545-1e3b-4552-f6cb-5e0967eacd22"
   },
   "outputs": [
    {
     "name": "stdout",
     "output_type": "stream",
     "text": [
      "Hello, world!\n"
     ]
    }
   ],
   "source": [
    "print(\"Hello, world!\")"
   ]
  },
  {
   "cell_type": "code",
   "execution_count": null,
   "metadata": {
    "id": "okBtgAbElzrr",
    "outputId": "9abd0b33-9caf-4e27-b3c9-f9e2a192ddd3"
   },
   "outputs": [
    {
     "name": "stdout",
     "output_type": "stream",
     "text": [
      "3.141592653589793\n"
     ]
    }
   ],
   "source": [
    "import math\n",
    "print(math.pi)"
   ]
  },
  {
   "cell_type": "code",
   "execution_count": null,
   "metadata": {
    "id": "QKz3czfElzrr",
    "outputId": "7f5b1b13-08e8-4751-b0d9-31163ca54206"
   },
   "outputs": [
    {
     "name": "stdout",
     "output_type": "stream",
     "text": [
      "2+2=?\n"
     ]
    }
   ],
   "source": [
    "# вывод на экран \n",
    "print ( \"2+2=?\" )\n"
   ]
  },
  {
   "cell_type": "code",
   "execution_count": null,
   "metadata": {
    "id": "fTnqZLTnlzrr",
    "outputId": "1ea0206c-1ad4-47f2-d91c-7c39775b703a"
   },
   "outputs": [
    {
     "name": "stdout",
     "output_type": "stream",
     "text": [
      "4\n"
     ]
    }
   ],
   "source": [
    "print(2+2)"
   ]
  },
  {
   "cell_type": "code",
   "execution_count": null,
   "metadata": {
    "id": "XcdHjDfulzrr",
    "outputId": "a04b564f-b3a1-4433-9047-ff877f5f9381"
   },
   "outputs": [
    {
     "name": "stdout",
     "output_type": "stream",
     "text": [
      "2+2= 4\n"
     ]
    }
   ],
   "source": [
    "print('2+2 =',2+2)"
   ]
  },
  {
   "cell_type": "code",
   "execution_count": 1,
   "metadata": {},
   "outputs": [
    {
     "name": "stdout",
     "output_type": "stream",
     "text": [
      "0.625\n"
     ]
    }
   ],
   "source": [
    "# Пример 5/8\n",
    "print(5 / 8)\n",
    "\n",
    "# Распечатайте сумму 7 и 10\n"
   ]
  },
  {
   "cell_type": "markdown",
   "metadata": {},
   "source": [
    " добавить комментарий к print(7 + 10)"
   ]
  },
  {
   "cell_type": "markdown",
   "metadata": {},
   "source": [
    "### Викторина\n",
    "Python является довольно универсальным языком. Для каких целей можно использовать Python?\n",
    "1. Вы хотите сделать несколько быстрых вычислений.\n",
    "2. Для вашего нового бизнеса вы хотите разработать веб-сайт, управляемый базой данных.\n",
    "3. Вас очистить и проанализировать результаты последнего опроса удовлетворенности.\n",
    "4. Все вышеперечисленное."
   ]
  },
  {
   "cell_type": "markdown",
   "metadata": {
    "id": "GH_5Q_CQlzrs"
   },
   "source": [
    "# Переменные\n",
    "- Переменная - это место в памяти, где храниться значение \n",
    "- Переменные создаются при первом упоминании\n",
    "- Значение, хранящееся в переменной, может быть доступно или обновлено позже\n",
    "- Объявление переменных не требуется\n",
    "- Тип данных переменной определяется автоматически\n",
    "- Интерпретатор выделяет память на основе типа данных переменной\n",
    "\n",
    "Одно из основных различий в python по сравнению с другими языками, с которыми вы, возможно, знакомы, заключается в том, что переменные не объявляются и не типизированы строго."
   ]
  },
  {
   "cell_type": "markdown",
   "metadata": {},
   "source": [
    "What are variables?\n",
    "It seems fairly obvious that Python should allow you to encode literals carrying number and text values.\n",
    "\n",
    "You already know that you can do some arithmetic operations with these numbers: add, subtract, etc. You'll be doing that many times.\n",
    "\n",
    "But it's quite a normal question to ask how to store the results of these operations, in order to use them in other operations, and so on.\n",
    "\n",
    "How do you save the intermediate results, and use them again to produce subsequent ones?\n",
    "\n",
    "Python will help you with that. It offers special \"boxes\" (containers) for that purpose, and these boxes are called variables - the name itself suggests that the content of these containers can be varied in (almost) any way.\n",
    "\n",
    "What does every Python variable have?\n",
    "\n",
    "a name;\n",
    "a value (the content of the container)\n",
    "Let's start with the issues related to a variable's name.\n",
    "\n",
    "Variables do not appear in a program automatically. As developer, you must decide how many and which variables to use in your programs.\n",
    "\n",
    "You must also name them.\n",
    "\n",
    "\n",
    "If you want to give a name to a variable, you must follow some strict rules:\n",
    "\n",
    "the name of the variable must be composed of upper-case or lower-case letters, digits, and the character _ (underscore)\n",
    "the name of the variable must begin with a letter;\n",
    "the underscore character is a letter;\n",
    "upper- and lower-case letters are treated as different (a little differently than in the real world - Alice and ALICE are the same first names, but in Python they are two different variable names, and consequently, two different variables);\n",
    "the name of the variable must not be any of Python's reserved words (the keywords - we'll explain more about this soon).\n"
   ]
  },
  {
   "cell_type": "markdown",
   "metadata": {
    "id": "wcZJ_CLLlzrs"
   },
   "source": [
    "![xkcd_python](https://cf2.ppt-online.org/files2/slide/8/8I2ZPiV3L1pBoHcKWQdAXsCfmvyhYg7t9U6OkM/slide-7.jpg)"
   ]
  },
  {
   "cell_type": "markdown",
   "metadata": {},
   "source": [
    "Correct and incorrect variable names\n",
    "Note that the same restrictions apply to function names.\n",
    "\n",
    "Python does not impose restrictions on the length of variable names, but that doesn't mean that a long variable name is always better than a short one.\n",
    "\n",
    "Here are some correct, but not always convenient variable names:\n",
    "\n",
    "MyVariable, i, t34, Exchange_Rate, counter, days_to_christmas, TheNameIsSoLongThatYouWillMakeMistakesWithIt, _.\n",
    "\n",
    "\n",
    "Moreover, Python lets you use not only Latin letters but also characters specific to languages that use other alphabets.\n",
    "\n",
    "These variable names are also correct:\n",
    "\n",
    "Adiós_Señora, sûr_la_mer, Einbahnstraße, переменная.\n",
    "\n",
    "And now for some incorrect names:\n",
    "\n",
    "10t (does not begin with a letter), Exchange Rate (contains a space)\n",
    "\n",
    "\n",
    "NOTE\n",
    "\n",
    "The PEP 8 -- Style Guide for Python Code recommends the following naming convention for variables and functions in Python:\n",
    "\n",
    "variable names should be lowercase, with words separated by underscores to improve readability (e.g., var, my_variable)\n",
    "function names follow the same convention as variable names (e.g., fun, my_function)\n",
    "it's also possible to use mixed case (e.g., myVariable), but only in contexts where that's already the prevailing style, to retain backwards compatibility with the adopted convention.\n",
    "\n",
    "Keywords\n",
    "Take a look at the list of words that play a very special role in every Python program.\n",
    "\n",
    "['False', 'None', 'True', 'and', 'as', 'assert', 'break', 'class', 'continue', 'def', 'del', 'elif', 'else', 'except', 'finally', 'for', 'from', 'global', 'if', 'import', 'in', 'is', 'lambda', 'nonlocal', 'not', 'or', 'pass', 'raise', 'return', 'try', 'while', 'with', 'yield']\n",
    "\n",
    "They are called keywords or (more precisely) reserved keywords. They are reserved because you mustn't use them as names: neither for your variables, nor functions, nor any other named entities you want to create.\n",
    "\n",
    "The meaning of the reserved word is predefined, and mustn't be changed in any way.\n",
    "\n",
    "Fortunately, due to the fact that Python is case-sensitive, you can modify any of these words by changing the case of any letter, thus creating a new word, which is not reserved anymore.\n",
    "\n",
    "For example - you can't name your variable like this:\n",
    "\n",
    "import\n",
    "\n",
    "You mustn't have a variable named in such a way - it is prohibited. But you can do this instead:\n",
    "\n",
    "Import\n",
    "\n",
    "These words might be a mystery to you now, but you'll soon learn the meaning of them.\n",
    "\n"
   ]
  },
  {
   "cell_type": "markdown",
   "metadata": {
    "id": "Q8rNK0T1lzrs"
   },
   "source": [
    "![xkcd_python](https://russianblogs.com/images/490/0cb971579765ca44ba9947b03a08063a.png)"
   ]
  },
  {
   "cell_type": "markdown",
   "metadata": {},
   "source": [
    "Creating variables\n",
    "What can you put inside a variable?\n",
    "\n",
    "Anything.\n",
    "\n",
    "You can use a variable to store any value of any of the already presented kinds, and many more of the ones we haven't shown you yet.\n",
    "\n",
    "The value of a variable is what you have put into it. It can vary as often as you need or want. It can be an integer one moment, and a float a moment later, eventually becoming a string.\n",
    "\n",
    "Let's talk now about two important things - how variables are created, and how to put values inside them (or rather - how to give or pass values to them).\n",
    "\n",
    "REMEMBER\n",
    "\n",
    "A variable comes into existence as a result of assigning a value to it. Unlike in other languages, you don't need to declare it in any special way.\n",
    "\n",
    "If you assign any value to a nonexistent variable, the variable will be automatically created. You don't need to do anything else.\n",
    "\n",
    "The creation (or otherwise - its syntax) is extremely simple: just use the name of the desired variable, then the equal sign (=) and the value you want to put into the variable.\n",
    "\n",
    "\n",
    "\n",
    "The concept of 'you can put anything inside a variable'\n",
    "\n",
    "Take a look at the snippet:\n",
    "\n",
    "var = 1\n",
    "print(var)\n",
    "\n",
    "\n",
    "It consists of two simple instructions:\n",
    "\n",
    "The first of them creates a variable named var, and assigns a literal with an integer value equal to 1.\n",
    "The second prints the value of the newly created variable to the console.\n",
    "\n",
    "Note: print() has yet another side to it - it can handle variables too. Do you know what the output of the snippet will be?\n",
    "\n",
    "Check\n",
    "1\n"
   ]
  },
  {
   "cell_type": "code",
   "execution_count": null,
   "metadata": {},
   "outputs": [],
   "source": [
    "Using variables\n",
    "You're allowed to use as many variable declarations as you need to achieve your goal, like this:\n",
    "\n",
    "var = 1\n",
    "account_balance = 1000.0\n",
    "client_name = 'John Doe'\n",
    "print(var, account_balance, client_name)\n",
    "print(var)\n",
    "\n",
    "\n",
    "You're not allowed to use a variable which doesn't exist (in other words, a variable that was not assigned a value).\n",
    "\n",
    "This example will cause an error:\n",
    "\n",
    "var = 1\n",
    "print(Var)\n",
    "\n",
    "\n",
    "We've tried to use a variable named Var, which doesn't have any value (note: var and Var are different entities, and have nothing in common as far as Python's concerned).\n",
    "\n",
    "\n",
    "REMEMBER\n",
    "\n",
    "You can use the print() function and combine text and variables using the + operator to output strings and variables, e.g.:\n",
    "\n",
    "var = \"3.8.5\"\n",
    "print(\"Python version: \" + var)\n",
    "\n",
    "\n",
    "Can you guess the output of the snippet above?\n",
    "\n",
    "Check\n",
    "Python version: 3.8.5\n"
   ]
  },
  {
   "cell_type": "markdown",
   "metadata": {},
   "source": [
    "Assigning a new value to an already existing variable\n",
    "How do you assign a new value to an already created variable? In the same way. You just need to use the equal sign.\n",
    "\n",
    "The equal sign is in fact an assignment operator. Although this may sound strange, the operator has a simple syntax and unambiguous interpretation.\n",
    "\n",
    "It assigns the value of its right argument to the left, while the right argument may be an arbitrarily complex expression involving literals, operators and already defined variables.\n",
    "\n",
    "Look at the code below:\n",
    "\n",
    "var = 1\n",
    "print(var)\n",
    "var = var + 1\n",
    "print(var)\n",
    "\n",
    "\n",
    "The code sends two lines to the console:\n",
    "\n",
    "1\n",
    "2\n",
    "output\n",
    "\n",
    "\n",
    "The first line of the snippet creates a new variable named var and assigns 1 to it.\n",
    "\n",
    "\n",
    "\n",
    "The statement reads: assign a value of 1 to a variable named var.\n",
    "\n",
    "We can say it shorter: assign 1 to var.\n",
    "\n",
    "Some prefer to read such a statement as: var becomes 1.\n",
    "\n",
    "The third line assigns the same variable with the new value taken from the variable itself, summed with 1. Seeing a record like that, a mathematician would probably protest - no value may be equal to itself plus one. This is a contradiction. But Python treats the sign = not as equal to, but as assign a value.\n",
    "\n",
    "So how do you read such a record in the program?\n",
    "\n",
    "Take the current value of the variable var, add 1 to it and store the result in the variable var.\n",
    "\n",
    "In effect, the value of variable var has been incremented by one, which has nothing to do with comparing the variable with any value.\n",
    "\n",
    "\n",
    "Do you know what the output of the following snippet will be?\n",
    "\n",
    "var = 100\n",
    "var = 200 + 300\n",
    "print(var)\n",
    "\n",
    "\n",
    "Check\n",
    "500 - why? Well, first, the var variable is created and assigned a value of 100. Then, the same variable is assigned a new value: the result of adding 200 to 300, which is 500."
   ]
  },
  {
   "cell_type": "markdown",
   "metadata": {},
   "source": [
    "Solving simple mathematical problems\n",
    "Now you should be able to construct a short program solving simple mathematical problems such as the Pythagorean theorem:\n",
    "\n",
    "The square of the hypotenuse is equal to the sum of the squares of the other two sides.\n",
    "\n",
    "The following code evaluates the length of the hypotenuse (i.e., the longest side of a right-angled triangle, the one opposite of the right angle) using the Pythagorean theorem:\n",
    "\n",
    "a = 3.0\n",
    "b = 4.0\n",
    "c = (a ** 2 + b ** 2) ** 0.5\n",
    "print(\"c =\", c)\n",
    "\n",
    "\n",
    "Note: we need to make use of the ** operator to evaluate the square root as:\n",
    "\n",
    "√ (x)  = x(½) корень\n",
    "\n",
    "and\n",
    "\n",
    "c = √ a2 + b2 \n",
    "\n",
    "Can you guess the output of the code?\n",
    "\n",
    "Check below and run the code in the editor to confirm your predictions.\n",
    "\n",
    "Check"
   ]
  },
  {
   "cell_type": "code",
   "execution_count": null,
   "metadata": {},
   "outputs": [],
   "source": [
    "a = 3.0\n",
    "b = 4.0\n",
    "c = (a ** 2 + b ** 2) ** 0.5\n",
    "print(\"c =\", c)\n"
   ]
  },
  {
   "cell_type": "markdown",
   "metadata": {},
   "source": [
    "Objectives\n",
    "becoming familiar with the concept of storing and working with different data types in Python;\n",
    "experimenting with Python code.\n",
    "Scenario\n",
    "Here is a short story:\n",
    "\n",
    "Once upon a time in Appleland, John had three apples, Mary had five apples, and Adam had six apples. They were all very happy and lived for a long time. End of story.\n",
    "\n",
    "Your task is to:\n",
    "\n",
    "create the variables: john, mary, and adam;\n",
    "assign values to the variables. The values must be equal to the numbers of fruit possessed by John, Mary, and Adam respectively;\n",
    "having stored the numbers in the variables, print the variables on one line, and separate each of them with a comma;\n",
    "now create a new variable named total_apples equal to addition of the three former variables.\n",
    "print the value stored in total_apples to the console;\n",
    "experiment with your code: create new variables, assign different values to them, and perform various arithmetic operations on them (e.g., +, -, *, /, //, etc.). Try to print a string and an integer together on one line, e.g., \"Total number of apples:\" and total_apples."
   ]
  },
  {
   "cell_type": "markdown",
   "metadata": {},
   "source": [
    "Shortcut operators\n",
    "It's time for the next set of operators that make a developer's life easier.\n",
    "\n",
    "Very often, we want to use one and the same variable both to the right and left sides of the = operator.\n",
    "\n",
    "For example, if we need to calculate a series of successive values of powers of 2, we may use a piece like this:\n",
    "\n",
    "x = x * 2\n",
    "\n",
    "You may use an expression like this if you can't fall asleep and you're trying to deal with it using some good, old-fashioned methods:\n",
    "\n",
    "sheep = sheep + 1\n",
    "\n",
    "Python offers you a shortened way of writing operations like these, which can be coded as follows:\n",
    "\n",
    "x *= 2\n",
    "sheep += 1\n",
    "\n",
    "Let's try to present a general description for these operations.\n",
    "\n",
    "If op is a two-argument operator (this is a very important condition) and the operator is used in the following context:\n",
    "\n",
    "variable = variable op expression\n",
    "\n",
    "It can be simplified and shown as follows:\n",
    "\n",
    "variable op= expression\n",
    "\n",
    "Take a look at the examples below. Make sure you understand them all.\n",
    "\n",
    "i = i + 2 * j ⇒ i += 2 * j\n",
    "\n",
    "var = var / 2 ⇒ var /= 2\n",
    "\n",
    "rem = rem % 10 ⇒ rem %= 10\n",
    "\n",
    "j = j - (i + var + rem) ⇒ j -= (i + var + rem)\n",
    "\n",
    "x = x ** 2 ⇒ x **= 2\n",
    "\n"
   ]
  },
  {
   "cell_type": "markdown",
   "metadata": {},
   "source": [
    "Objectives\n",
    "becoming familiar with the concept of, and working with, variables;\n",
    "performing basic computations and conversions;\n",
    "experimenting with Python code.\n",
    "Scenario\n",
    "Miles and kilometers are units of length or distance.\n",
    "\n",
    "Bearing in mind that 1 mile is equal to approximately 1.61 kilometers, complete the program in the editor so that it converts:\n",
    "\n",
    "miles to kilometers;\n",
    "kilometers to miles.\n",
    "Do not change anything in the existing code. Write your code in the places indicated by ###. Test your program with the data we've provided in the source code.\n",
    "\n",
    "\n",
    "Pay particular attention to what is going on inside the print() function. Analyze how we provide multiple arguments to the function, and how we output the expected data.\n",
    "\n",
    "Note that some of the arguments inside the print() function are strings (e.g., \"miles is\", whereas some other are variables (e.g., miles).\n",
    "\n",
    "TIP\n",
    "\n",
    "There's one more interesting thing happening there. Can you see another function inside the print() function? It's the round() function. Its job is to round the outputted result to the number of decimal places specified in the parentheses, and return a float (inside the round() function you can find the variable name, a comma, and the number of decimal places we're aiming for). We're going to talk about functions very soon, so don't worry that everything may not be fully clear yet. We just want to spark your curiosity.\n",
    "\n",
    "\n",
    "After completing the lab, open Sandbox, and experiment more. Try to write different converters, e.g., a USD to EUR converter, a temperature converter, etc. - let your imagination fly! Try to output the results by combining strings and variables. Try to use and experiment with the round() function to round your results to one, two, or three decimal places. Check out what happens if you don't provide any number of digits. Remember to test your programs.\n",
    "\n",
    "Experiment, draw conclusions, and learn. Be curious.\n",
    "\n",
    "\n",
    "Expected output\n",
    "7.38 miles is 11.88 kilometers\n",
    "12.25 kilometers is 7.61 miles\n"
   ]
  },
  {
   "cell_type": "code",
   "execution_count": null,
   "metadata": {},
   "outputs": [],
   "source": [
    "kilometers = 12.25\n",
    "miles = 7.38\n",
    "\n",
    "miles_to_kilometers = ###\n",
    "kilometers_to_miles = ###\n",
    "\n",
    "print(miles, \"miles is\", round(miles_to_kilometers, 2), \"kilometers\")\n",
    "print(kilometers, \"kilometers is\", round(kilometers_to_miles, 2), \"miles\")"
   ]
  },
  {
   "cell_type": "markdown",
   "metadata": {},
   "source": [
    "Estimated time\n",
    "10-15 minutes\n",
    "\n",
    "Level of difficulty\n",
    "Easy\n",
    "\n",
    "Objectives\n",
    "becoming familiar with the concept of numbers, operators, and arithmetic operations in Python;\n",
    "performing basic calculations.\n",
    "Scenario\n",
    "Take a look at the code in the editor: it reads a float value, puts it into a variable named x, and prints the value of a variable named y. Your task is to complete the code in order to evaluate the following expression:\n",
    "\n",
    "3x3 - 2x2 + 3x - 1\n",
    "\n",
    "The result should be assigned to y.\n",
    "\n",
    "Remember that classical algebraic notation likes to omit the multiplication operator - you need to use it explicitly. Note how we change data type to make sure that x is of type float.\n",
    "\n",
    "Keep your code clean and readable, and test it using the data we've provided, each time assigning it to the x variable (by hardcoding it). Don't be discouraged by any initial failures. Be persistent and inquisitive.\n",
    "\n",
    "\n",
    "Test Data\n",
    "Sample input\n",
    "\n",
    "x = 0\n",
    "x = 1\n",
    "x = -1\n",
    "\n",
    "Expected Output\n",
    "\n",
    "y = -1.0\n",
    "y = 3.0\n",
    "y = -9.0\n"
   ]
  },
  {
   "cell_type": "code",
   "execution_count": null,
   "metadata": {},
   "outputs": [],
   "source": [
    "x =  # hardcode your test data here\n",
    "x = float(x)\n",
    "# write your code here\n",
    "print(\"y =\", y)\n"
   ]
  },
  {
   "cell_type": "markdown",
   "metadata": {},
   "source": [
    "Key takeaways\n",
    "\n",
    "1. A variable is a named location reserved to store values in the memory. A variable is created or initialized automatically when you assign a value to it for the first time. (2.1.4.1)\n",
    "\n",
    "2. Each variable must have a unique name - an identifier. A legal identifier name must be a non-empty sequence of characters, must begin with the underscore(_), or a letter, and it cannot be a Python keyword. The first character may be followed by underscores, letters, and digits. Identifiers in Python are case-sensitive. (2.1.4.1)\n",
    "\n",
    "3. Python is a dynamically-typed language, which means you don't need to declare variables in it. (2.1.4.3) To assign values to variables, you can use a simple assignment operator in the form of the equal (=) sign, i.e., var = 1.\n",
    "\n",
    "4. You can also use compound assignment operators (shortcut operators) to modify values assigned to variables, e.g., var += 1, or var /= 5 * 2. (2.1.4.8)\n",
    "\n",
    "5. You can assign new values to already existing variables using the assignment operator or one of the compound operators, e.g.: (2.1.4.5)\n",
    "\n",
    "var = 2\n",
    "print(var)\n",
    "\n",
    "var = 3\n",
    "print(var)\n",
    "\n",
    "var += 1\n",
    "print(var)\n",
    "\n",
    "\n",
    "6. You can combine text and variables using the + operator, and use the print() function to output strings and variables, e.g.: (2.1.4.4)\n",
    "\n",
    "var = \"007\"\n",
    "print(\"Agent \" + var)\n",
    "\n",
    "\n",
    "\n",
    "\n",
    "\n",
    "Exercise 1\n",
    "\n",
    "What is the output of the following snippet?\n",
    "\n",
    "var = 2\n",
    "var = 3\n",
    "print(var)\n",
    "\n",
    "\n",
    "Check\n",
    "3\n",
    "\n",
    "Exercise 2\n",
    "\n",
    "Which of the following variable names are illegal in Python?\n",
    "\n",
    "my_var\n",
    "m\n",
    "101\n",
    "averylongvariablename\n",
    "m101\n",
    "m 101\n",
    "Del\n",
    "del\n",
    "\n",
    "Check\n",
    "my_var\n",
    "m\n",
    "101 # incorrect (starts with a digit)\n",
    "averylongvariablename\n",
    "m101\n",
    "m 101 # incorrect (contains a space)\n",
    "Del\n",
    "del # incorrect (is a keyword)\n",
    "\n",
    "Exercise 3\n",
    "\n",
    "What is the output of the following snippet?\n",
    "\n",
    "a = '1'\n",
    "b = \"1\"\n",
    "print(a + b)\n",
    "\n",
    "\n",
    "Check\n",
    "11\n",
    "\n",
    "Exercise 4\n",
    "\n",
    "What is the output of the following snippet?\n",
    "\n",
    "a = 6\n",
    "b = 3\n",
    "a /= 2 * b\n",
    "print(a)\n",
    "\n",
    "\n",
    "Check\n",
    "1.0\n",
    "\n",
    "2 * b = 6\n",
    "a = 6 → 6 / 6 = 1.0"
   ]
  },
  {
   "cell_type": "markdown",
   "metadata": {},
   "source": [
    "### Integers\n",
    "You may already know a little about how computers perform calculations on numbers. Perhaps you've heard of the binary system, and know that it's the system computers use for storing numbers, and that they can perform any operation upon them.\n",
    "\n",
    "We won't explore the intricacies of positional numeral systems here, but we'll say that the numbers handled by modern computers are of two types:\n",
    "\n",
    "integers, that is, those which are devoid of the fractional part;\n",
    "and floating-point numbers (or simply floats), that contain (or are able to contain) the fractional part.\n",
    "This definition is not entirely accurate, but quite sufficient for now. The distinction is very important, and the boundary between these two types of numbers is very strict. Both of these kinds of numbers differ significantly in how they're stored in a computer memory and in the range of acceptable values.\n",
    "\n",
    "The characteristic of the numeric value which determines its kind, range, and application, is called the type.\n",
    "\n",
    "If you encode a literal and place it inside Python code, the form of the literal determines the representation (type) Python will use to store it in the memory.\n",
    "\n",
    "For now, let's leave the floating-point numbers aside (we'll come back to them soon) and consider the question of how Python recognizes integers.\n",
    "\n",
    "\n",
    "The process is almost like how you would write them with a pencil on paper - it's simply a string of digits that make up the number. But there's a reservation - you must not interject any characters that are not digits inside the number.\n",
    "\n",
    "Take, for example, the number eleven million one hundred and eleven thousand one hundred and eleven. If you took a pencil in your hand right now, you would write the number like this: 11,111,111, or like this: 11.111.111, or even like this: 11 111 111.\n",
    "\n",
    "It's clear that this provision makes it easier to read, especially when the number consists of many digits. However, Python doesn't accept things like these. It's prohibited. What Python does allow, though, is the use of underscores in numeric literals.*\n",
    "\n",
    "Therefore, you can write this number either like this: 11111111, or like that: 11_111_111.\n",
    "\n",
    "NOTE   *Python 3.6 has introduced underscores in numeric literals, allowing for placing single underscores between digits and after base specifiers for improved readability. This feature is not available in older versions of Python.\n",
    "\n",
    "\n",
    "And how do we code negative numbers in Python? As usual - by adding a minus. You can write: -11111111, or -11_111_111.\n",
    "\n",
    "Positive numbers do not need to be preceded by the plus sign, but it's permissible, if you wish to do it. The following lines describe the same number: +11111111 and 11111111.\n",
    "\n"
   ]
  },
  {
   "cell_type": "markdown",
   "metadata": {},
   "source": [
    "Integers: octal and hexadecimal numbers\n",
    "There are two additional conventions in Python that are unknown to the world of mathematics. The first allows us to use numbers in an octal representation.\n",
    "\n",
    "If an integer number is preceded by an 0O or 0o prefix (zero-o), it will be treated as an octal value. This means that the number must contain digits taken from the [0..7] range only.\n",
    "\n",
    "0o123 is an octal number with a (decimal) value equal to 83.\n",
    "\n",
    "The print() function does the conversion automatically. Try this:\n",
    "\n",
    "print(0o123)\n",
    "\n",
    "\n",
    "The second convention allows us to use hexadecimal numbers. Such numbers should be preceded by the prefix 0x or 0X (zero-x).\n",
    "\n",
    "0x123 is a hexadecimal number with a (decimal) value equal to 291. The print() function can manage these values too. Try this:\n",
    "\n",
    "print(0x123)\n"
   ]
  },
  {
   "cell_type": "markdown",
   "metadata": {},
   "source": [
    "## Floats\n",
    "Now it's time to talk about another type, which is designed to represent and to store the numbers that (as a mathematician would say) have a non-empty decimal fraction.\n",
    "\n",
    "They are the numbers that have (or may have) a fractional part after the decimal point, and although such a definition is very poor, it's certainly sufficient for what we wish to discuss.\n",
    "\n",
    "Whenever we use a term like two and a half or minus zero point four, we think of numbers which the computer considers floating-point numbers:\n",
    "\n",
    "2.5\n",
    "-0.4\n",
    "\n",
    "Note: two and a half looks normal when you write it in a program, although if your native language prefers to use a comma instead of a point in the number, you should ensure that your number doesn't contain any commas at all.\n",
    "\n",
    "Python will not accept that, or (in very rare but possible cases) may misunderstand your intentions, as the comma itself has its own reserved meaning in Python.\n",
    "\n",
    "If you want to use just a value of two and a half, you should write it as shown above. Note once again - there is a point between 2 and 5 - not a comma.\n",
    "\n",
    "As you can probably imagine, the value of zero point four could be written in Python as:\n",
    "\n",
    "0.4\n",
    "\n",
    "But don't forget this simple rule - you can omit zero when it is the only digit in front of or after the decimal point.\n",
    "\n",
    "In essence, you can write the value 0.4 as:\n",
    "\n",
    ".4\n",
    "\n",
    "For example: the value of 4.0 could be written as:\n",
    "\n",
    "4.\n",
    "\n",
    "This will change neither its type nor its value."
   ]
  },
  {
   "cell_type": "markdown",
   "metadata": {},
   "source": [
    "Ints vs. floats\n",
    "The decimal point is essentially important in recognizing floating-point numbers in Python.\n",
    "\n",
    "Look at these two numbers:\n",
    "\n",
    "4\n",
    "4.0\n",
    "\n",
    "You may think that they are exactly the same, but Python sees them in a completely different way.\n",
    "\n",
    "4 is an integer number, whereas 4.0 is a floating-point number.\n",
    "\n",
    "The point is what makes a float.\n",
    "\n",
    "\n",
    "On the other hand, it's not only points that make a float. You can also use the letter e.\n",
    "\n",
    "When you want to use any numbers that are very large or very small, you can use scientific notation.\n",
    "\n",
    "\n",
    "Take, for example, the speed of light, expressed in meters per second. Written directly it would look like this: 300000000.\n",
    "\n",
    "To avoid writing out so many zeros, physics textbooks use an abbreviated form, which you have probably already seen: 3 x 108.\n",
    "\n",
    "It reads: three times ten to the power of eight.\n",
    "\n",
    "In Python, the same effect is achieved in a slightly different way - take a look:\n",
    "\n",
    "3E8\n",
    "\n",
    "The letter E (you can also use the lower-case letter e - it comes from the word exponent) is a concise record of the phrase times ten to the power of.\n",
    "\n",
    "Note:\n",
    "\n",
    "the exponent (the value after the E) has to be an integer;\n",
    "the base (the value in front of the E) may be an integer."
   ]
  },
  {
   "cell_type": "markdown",
   "metadata": {},
   "source": [
    "Coding floats\n",
    "Let's see how this convention is used to record numbers that are very small (in the sense of their absolute value, which is close to zero).\n",
    "\n",
    "A physical constant called Planck's constant (and denoted as h), according to the textbooks, has the value of: 6.62607 x 10-34.\n",
    "\n",
    "If you would like to use it in a program, you should write it this way:\n",
    "\n",
    "6.62607E-34\n",
    "\n",
    "Note: the fact that you've chosen one of the possible forms of coding float values doesn't mean that Python will present it the same way.\n",
    "\n",
    "Python may sometimes choose different notation than you.\n",
    "\n",
    "\n",
    "For example, let's say you've decided to use the following float literal:\n",
    "\n",
    "0.0000000000000000000001\n",
    "\n",
    "When you run this literal through Python:\n",
    "\n",
    "print(0.0000000000000000000001)\n",
    "\n",
    "\n",
    "this is the result:\n",
    "\n",
    "1e-22\n",
    "output\n",
    "\n",
    "Python always chooses the more economical form of the number's presentation, and you should take this into consideration when creating literals."
   ]
  },
  {
   "cell_type": "markdown",
   "metadata": {},
   "source": [
    "Strings\n",
    "Strings are used when you need to process text (like names of all kinds, addresses, novels, etc.), not numbers.\n",
    "\n",
    "You already know a bit about them, e.g., that strings need quotes the way floats need points.\n",
    "\n",
    "This is a very typical string: \"I am a string.\"\n",
    "\n",
    "\n",
    "However, there is a catch. The catch is how to encode a quote inside a string which is already delimited by quotes.\n",
    "\n",
    "Let's assume that we want to print a very simple message saying:\n",
    "\n",
    "I like \"Monty Python\"\n",
    "\n",
    "How do we do it without generating an error? There are two possible solutions.\n",
    "\n",
    "\n",
    "The first is based on the concept we already know of the escape character, which you should remember is played by the backslash. The backslash can escape quotes too. A quote preceded by a backslash changes its meaning - it's not a delimiter, but just a quote. This will work as intended:\n",
    "\n",
    "print(\"I like \\\"Monty Python\\\"\")\n",
    "\n",
    "\n",
    "Note: there are two escaped quotes inside the string - can you see them both?\n",
    "\n",
    "The second solution may be a bit surprising. Python can use an apostrophe instead of a quote. Either of these characters may delimit strings, but you must be consistent.\n",
    "\n",
    "If you open a string with a quote, you have to close it with a quote.\n",
    "\n",
    "If you start a string with an apostrophe, you have to end it with an apostrophe.\n",
    "\n",
    "This example will work too:\n",
    "\n",
    "print('I like \"Monty Python\"')\n",
    "\n",
    "\n",
    "Note: you don't need to do any escaping here."
   ]
  },
  {
   "cell_type": "markdown",
   "metadata": {},
   "source": [
    "Coding strings\n",
    "Now, the next question is: how do you embed an apostrophe into a string placed between apostrophes?\n",
    "\n",
    "You should already know the answer, or to be precise, two possible answers.\n",
    "\n",
    "Try to print out a string containing the following message:\n",
    "\n",
    "I'm Monty Python.\n",
    "\n",
    "Do you know how to do it? Click Check below to see if you were right:\n",
    "\n",
    "Check\n",
    "As you can see, the backslash is a very powerful tool - it can escape not only quotes, but also apostrophes.\n",
    "\n",
    "We've shown it already, but we want to emphasize this phenomenon once more - a string can be empty - it may contain no characters at all.\n",
    "\n",
    "An empty string still remains a string:\n",
    "\n",
    "''\n",
    "\"\""
   ]
  },
  {
   "cell_type": "markdown",
   "metadata": {},
   "source": [
    "Boolean values\n",
    "To conclude with Python's literals, there are two additional ones.\n",
    "\n",
    "They're not as obvious as any of the previous ones, as they're used to represent a very abstract value - truthfulness.\n",
    "\n",
    "Each time you ask Python if one number is greater than another, the question results in the creation of some specific data - a Boolean value.\n",
    "\n",
    "The name comes from George Boole (1815-1864), the author of the fundamental work, The Laws of Thought, which contains the definition of Boolean algebra - a part of algebra which makes use of only two distinct values: True and False, denoted as 1 and 0.\n",
    "\n",
    "\n",
    "A programmer writes a program, and the program asks questions. Python executes the program, and provides the answers. The program must be able to react according to the received answers.\n",
    "\n",
    "Fortunately, computers know only two kinds of answers:\n",
    "\n",
    "Yes, this is true;\n",
    "No, this is false.\n",
    "You'll never get a response like: I don't know or Probably yes, but I don't know for sure.\n",
    "\n",
    "\n",
    "Python, then, is a binary reptile.\n",
    "\n",
    "These two Boolean values have strict denotations in Python:\n",
    "\n",
    "True\n",
    "False\n",
    "\n",
    "You cannot change anything - you have to take these symbols as they are, including case-sensitivity.\n",
    "\n",
    "\n",
    "Challenge: What will be the output of the following snippet of code?\n",
    "\n",
    "print(True > False)\n",
    "print(True < False)\n",
    "\n",
    "\n",
    "Run the code in the Sandbox to check. Can you explain the result?\n",
    "\n"
   ]
  },
  {
   "cell_type": "markdown",
   "metadata": {},
   "source": [
    "Estimated time\n",
    "5-10 minutes\n",
    "\n",
    "Level of difficulty\n",
    "Easy\n",
    "\n",
    "Objectives\n",
    "becoming familiar with the print() function and its formatting capabilities;\n",
    "practicing coding strings;\n",
    "experimenting with Python code.\n",
    "Scenario\n",
    "Write a one-line piece of code, using the print() function, as well as the newline and escape characters, to match the expected result outputted on three lines.\n",
    "\n",
    "Expected output\n",
    "\n",
    "\"I'm\"\n",
    "\"\"learning\"\"\n",
    "\"\"\"Python\"\"\""
   ]
  },
  {
   "cell_type": "markdown",
   "metadata": {},
   "source": [
    "Key takeaways\n",
    "1. Literals are notations for representing some fixed values in code. Python has various types of literals - for example, a literal can be a number (numeric literals, e.g., 123), or a string (string literals, e.g., \"I am a literal.\").\n",
    "\n",
    "2. The binary system is a system of numbers that employs 2 as the base. Therefore, a binary number is made up of 0s and 1s only, e.g., 1010 is 10 in decimal.\n",
    "\n",
    "Octal and hexadecimal numeration systems, similarly, employ 8 and 16 as their bases respectively. The hexadecimal system uses the decimal numbers and six extra letters.\n",
    "3. Integers (or simply ints) are one of the numerical types supported by Python. They are numbers written without a fractional component, e.g., 256, or -1 (negative integers).\n",
    "\n",
    "4. Floating-point numbers (or simply floats) are another one of the numerical types supported by Python. They are numbers that contain (or are able to contain) a fractional component, e.g., 1.27.\n",
    "\n",
    "5. To encode an apostrophe or a quote inside a string you can either use the escape character, e.g., 'I\\'m happy.', or open and close the string using an opposite set of symbols to the ones you wish to encode, e.g., \"I'm happy.\" to encode an apostrophe, and 'He said \"Python\", not \"typhoon\"' to encode a (double) quote.\n",
    "\n",
    "6. Boolean values are the two constant objects True and False used to represent truth values (in numeric contexts 1 is True, while 0 is False.\n",
    "\n",
    "EXTRA\n",
    "\n",
    "There is one more, special literal that is used in Python: the None literal. This literal is a so-called NoneType object, and it is used to represent the absence of a value. We'll tell you more about it soon.\n",
    "\n",
    "\n",
    "\n",
    "Exercise 1\n",
    "\n",
    "What types of literals are the following two examples?\n",
    "\n",
    "\"Hello \", \"007\"\n",
    "\n",
    "Check\n",
    "Exercise 2\n",
    "\n",
    "What types of literals are the following four examples?\n",
    "\n",
    "\"1.5\", 2.0, 528, False\n",
    "\n",
    "Check\n",
    "Exercise 3\n",
    "\n",
    "What is the decimal value of the following binary number?\n",
    "\n",
    "1011\n",
    "\n",
    "Check"
   ]
  },
  {
   "cell_type": "markdown",
   "metadata": {},
   "source": [
    "Чтобы узнать тип значения или переменной, которая ссылается на это значение, можно использовать функцию type(). "
   ]
  },
  {
   "cell_type": "code",
   "execution_count": null,
   "metadata": {
    "id": "yYrzQPrrlzrs",
    "outputId": "b2eec04d-3e84-4502-9926-9521694988bd"
   },
   "outputs": [
    {
     "name": "stdout",
     "output_type": "stream",
     "text": [
      "1\n"
     ]
    }
   ],
   "source": [
    "x = 1\n",
    "print(x)"
   ]
  },
  {
   "cell_type": "code",
   "execution_count": null,
   "metadata": {
    "id": "jy3Wg1Jhlzrs"
   },
   "outputs": [],
   "source": [
    "y = \"test\""
   ]
  },
  {
   "cell_type": "code",
   "execution_count": null,
   "metadata": {
    "id": "Y4gJT2MGlzrs",
    "outputId": "2f02b1c2-3862-4a74-e973-7c0cc24d87cd"
   },
   "outputs": [
    {
     "name": "stdout",
     "output_type": "stream",
     "text": [
      "test\n"
     ]
    }
   ],
   "source": [
    "print(y)"
   ]
  },
  {
   "cell_type": "code",
   "execution_count": null,
   "metadata": {
    "id": "SE8rODfqlzrt",
    "outputId": "89e0ef2a-e31e-45f2-df05-96189901133c"
   },
   "outputs": [
    {
     "name": "stdout",
     "output_type": "stream",
     "text": [
      "string\n"
     ]
    }
   ],
   "source": [
    "x = 1\n",
    "x = \"string\"\n",
    "print(x)"
   ]
  },
  {
   "cell_type": "code",
   "execution_count": null,
   "metadata": {
    "id": "7NlmOOsXlzrt",
    "outputId": "f1636930-62d8-4694-eaad-49ea171feef5"
   },
   "outputs": [
    {
     "name": "stdout",
     "output_type": "stream",
     "text": [
      "<class 'int'>\n"
     ]
    }
   ],
   "source": [
    "x = 1\n",
    "print(type(x))"
   ]
  },
  {
   "cell_type": "code",
   "execution_count": null,
   "metadata": {
    "id": "Ty15Z2bklzrt",
    "outputId": "a5dfd533-6da9-4e51-f96c-600fccd31722"
   },
   "outputs": [
    {
     "name": "stdout",
     "output_type": "stream",
     "text": [
      "<class 'str'>\n"
     ]
    }
   ],
   "source": [
    "x = \"string\"\n",
    "print(type(x))"
   ]
  },
  {
   "cell_type": "code",
   "execution_count": null,
   "metadata": {
    "id": "I0NGzGTZlzrt",
    "outputId": "d5375f7c-f696-42ec-b241-24e9ba141f54"
   },
   "outputs": [
    {
     "name": "stdout",
     "output_type": "stream",
     "text": [
      "<class 'float'>\n"
     ]
    }
   ],
   "source": [
    "x = 0.1\n",
    "print(type(x))"
   ]
  },
  {
   "cell_type": "code",
   "execution_count": null,
   "metadata": {
    "id": "e37v97LLlzru",
    "outputId": "d5054b62-5aa8-4601-9784-00f5712b6c75"
   },
   "outputs": [
    {
     "data": {
      "text/plain": [
       "float"
      ]
     },
     "execution_count": 25,
     "metadata": {},
     "output_type": "execute_result"
    }
   ],
   "source": [
    "x = 0.1\n",
    "type(x)"
   ]
  },
  {
   "cell_type": "code",
   "execution_count": null,
   "metadata": {
    "id": "oHFM5o_-lzru"
   },
   "outputs": [],
   "source": [
    "x"
   ]
  },
  {
   "cell_type": "code",
   "execution_count": null,
   "metadata": {
    "id": "1OuB7Qbwlzru",
    "outputId": "66f04a19-87e3-4f11-dbfe-9ca4c1234d77"
   },
   "outputs": [
    {
     "data": {
      "text/plain": [
       "True"
      ]
     },
     "execution_count": 26,
     "metadata": {},
     "output_type": "execute_result"
    }
   ],
   "source": [
    "'a' == \"a\""
   ]
  },
  {
   "cell_type": "markdown",
   "metadata": {},
   "source": [
    "В Python переменная позволяет ссылаться на значение с именем. Для создания переменной используйте , как показано в следующем примере: x = 5\n",
    "Теперь можно использовать имя этой переменной,  вместо фактического значения 5"
   ]
  },
  {
   "cell_type": "markdown",
   "metadata": {},
   "source": [
    "Создайте переменную savings со значением 100.\n",
    "Проверьте эту переменную, введя print(savings)"
   ]
  },
  {
   "cell_type": "code",
   "execution_count": null,
   "metadata": {},
   "outputs": [],
   "source": [
    "# Create a variable savings\n",
    "\n",
    "savings=100\n",
    "# Print out savings\n",
    "print(savings)"
   ]
  },
  {
   "cell_type": "markdown",
   "metadata": {},
   "source": [
    "Помните, как вы рассчитали деньги, которые вы получили после 7 лет инвестирования 100 долларов? Вы сделали что-то вроде этого:\n",
    "\n",
    "100 * 1.1 ** 7\n",
    "Вместо вычисления с фактическими значениями можно использовать переменные. Переменная, созданная в предыдущем упражнении, представляет собой 100 долларов США, с которых вы начали. Вам предстоит создать новую переменную для представления, а затем переделать вычисления!savings1.1"
   ]
  },
  {
   "cell_type": "markdown",
   "metadata": {},
   "source": [
    "Создайте переменную growth_multiplier, равную 1.1\n",
    "Создайте переменную, равную сумме денег, которую вы сэкономили через годы. result7\n",
    "Распечатайте значение .result"
   ]
  },
  {
   "cell_type": "code",
   "execution_count": 4,
   "metadata": {},
   "outputs": [
    {
     "name": "stdout",
     "output_type": "stream",
     "text": [
      "194.87171000000012\n"
     ]
    }
   ],
   "source": [
    "# Create a variable savings\n",
    "savings = 100\n",
    "\n",
    "# Create a variable growth_multiplier\n",
    "\n",
    "growth_multiplier=1.1\n",
    "# Calculate result\n",
    "result=100* growth_multiplier**7\n",
    "\n",
    "# Print out result\n",
    "print(result)"
   ]
  },
  {
   "cell_type": "markdown",
   "metadata": {},
   "source": [
    "Другие типы переменных\n",
    "В предыдущем упражнении вы работали с двумя типами данных Python:\n",
    "\n",
    "int, или целое число: число без дробной части. , со значением , является примером целого числа.savings100\n",
    "float, или с плавающей запятой: число, имеющее как целое число, так и дробную часть, разделенное точкой. , со значением , является примером плавающей точки.growth_multiplier1.1\n",
    "Помимо числовых типов данных, существуют два других очень распространенных типа данных:\n",
    "\n",
    "str, или строка: тип для представления текста. Для построения строки можно использовать одинарные или двойные кавычки.\n",
    "bool, или логический: тип для представления логических значений. Может быть только или (капитализация важна!).TrueFalse\n",
    "Резолюция\n",
    "100 ОПЫТ\n",
    "Создайте новую строку , со значением .desc\"compound interest\"\n",
    "Создайте новую логическую среду, , со значением .profitableTrue"
   ]
  },
  {
   "cell_type": "code",
   "execution_count": null,
   "metadata": {},
   "outputs": [],
   "source": [
    "# Create a variable \n",
    "desc=\"compound interest\"\n",
    "\n",
    "\n",
    "# Create a variable profitable\n",
    "profitable=True"
   ]
  },
  {
   "cell_type": "code",
   "execution_count": null,
   "metadata": {},
   "outputs": [],
   "source": [
    "Операции с другими типами\n",
    "Хьюго упомянул, что разные типы ведут себя по-разному в Python.\n",
    "\n",
    "Например, при суммировании двух строк поведение будет отличаться от при суммировании двух целых чисел или двух логических значений.\n",
    "\n",
    "В скрипте уже созданы некоторые переменные с разными типами. Это зависит от вас, чтобы использовать их.\n",
    "\n",
    "Резолюция\n",
    "100 ОПЫТ\n",
    "Рассчитайте произведение и . Сохраните результат в .savingsgrowth_multiplieryear1\n",
    "Как вы думаете, каким будет результирующий тип? Узнайте, распечатав тип .year1\n",
    "Вычислите сумму и сохраните результат в новой переменной.descdescdoubledesc\n",
    "Распечатать . Вы ожидали этого?doubledesc"
   ]
  },
  {
   "cell_type": "code",
   "execution_count": null,
   "metadata": {},
   "outputs": [],
   "source": [
    "savings = 100\n",
    "growth_multiplier = 1.1\n",
    "desc = \"compound interest\"\n",
    "\n",
    "# Assign product of growth_multiplier and savings to year1\n",
    "\n",
    "\n",
    "# Print the type of year1\n",
    "\n",
    "\n",
    "# Assign sum of desc and desc to doubledesc\n",
    "\n",
    "\n",
    "# Print out doubledesc\n"
   ]
  },
  {
   "cell_type": "code",
   "execution_count": null,
   "metadata": {},
   "outputs": [],
   "source": [
    "savings = 100\n",
    "growth_multiplier = 1.1\n",
    "desc = \"compound interest\"\n",
    "\n",
    "# Assign product of growth_multiplier and savings to year1\n",
    "year1=growth_multiplier*savings\n",
    "\n",
    "# Print the type of year1\n",
    "print(type(year1))\n",
    "\n",
    "# Assign sum of desc and desc to doubledesc\n",
    "doubledesc=desc+desc\n",
    "\n",
    "# Print out doubledesc\n",
    "print( doubledesc)\n"
   ]
  },
  {
   "cell_type": "code",
   "execution_count": null,
   "metadata": {},
   "outputs": [],
   "source": []
  },
  {
   "cell_type": "markdown",
   "metadata": {
    "id": "5mTR8_BFlzru"
   },
   "source": [
    "# Операторы в Python"
   ]
  },
  {
   "cell_type": "markdown",
   "metadata": {
    "id": "AjrHMYSdlzru"
   },
   "source": [
    "<b>Оператор</b> в Python — это символ, который выполняет операцию над одним или несколькими операндами.<br>\n",
    "<b>Операндом </b>выступает переменная или значение, над которыми проводится операция.\n",
    "\n",
    "- Арифметические операторы\n",
    "- Операторы сравнения\n",
    "- Операторы присваивания\n",
    "- Логические операторы\n",
    "- Операторы принадлежности\n",
    "- Операторы тождественности\n",
    "- Битовые операторы"
   ]
  },
  {
   "cell_type": "markdown",
   "metadata": {},
   "source": [
    "Logo\n",
    "2.3.1.1 Operators - data manipulation tools\n",
    "MODULE (48%)\n",
    "SECTION (10%)\n",
    "LIST OF CONTENTS\n",
    "Welcome to PE1 \n",
    "BACK\n",
    "WELCOME TO PE1\n",
    "About the course \n",
    "BACK\n",
    "ABOUT THE COURSE\n",
    "About PE1\n",
    "Syllabus | Why learn Python?\n",
    "Applications for Python\n",
    "Module 1: Introduction to Python and computer programming \n",
    "BACK\n",
    "MODULE 1: INTRODUCTION TO PYTHON AND COMPUTER PROGRAMMING\n",
    "1.1. Introduction to programming with Python \n",
    "BACK\n",
    "1.1. INTRODUCTION TO PROGRAMMING WITH PYTHON\n",
    "Python Essentials 1 - Module 1\n",
    "1.1.1.1 Programming - absolute basics\n",
    "1.1.1.2 Programming - absolute basics\n",
    "1.1.1.3 Programming - absolute basics\n",
    "1.1.1.4 Programming - absolute basics | Compilation vs. interpretation\n",
    "1.1.1.5 Programming - absolute basics | Compilation vs. interpretation\n",
    "1.1.1.6 Programming - absolute basics | Compilation vs. interpretation\n",
    "1.1.2.1 Python - a tool, not a reptile\n",
    "1.1.2.2 Python - a tool, not a reptile\n",
    "1.1.2.3 Python - a tool, not a reptile | Why Python?\n",
    "1.1.2.4 Python - a tool, not a reptile | Why Python, why not?\n",
    "1.1.3.1 Python 2 vs. Python 3\n",
    "1.1.3.2 There is more than one Python: CPython and Cython\n",
    "1.1.3.3 There is more than one Python: Jython, PyPy, and RPython\n",
    "1.2. Downloading and installing Python \n",
    "BACK\n",
    "1.2. DOWNLOADING AND INSTALLING PYTHON\n",
    "1.2.1.1 Begin your Python journey\n",
    "1.2.1.2 Begin your Python journey | Downloading and installing Python\n",
    "1.2.1.3 Begin your Python journey\n",
    "1.2.1.4 Begin your Python journey\n",
    "1.2.1.5 Begin your Python journey\n",
    "1.2.1.6 Begin your Python journey\n",
    "1.2.1.7 Begin your Python journey\n",
    "1.2.1.8 Begin your Python journey\n",
    "1.2.1.9 Module Completion\n",
    "Module 1 Quiz Quiz \n",
    "BACK\n",
    "MODULE 1 QUIZ\n",
    "PE1 -- Module 1 Quiz Quiz\n",
    "Module 2: Data types, variables, basic I/O operations, and basic operators Now \n",
    "BACK\n",
    "MODULE 2: DATA TYPES, VARIABLES, BASIC I/O OPERATIONS, AND BASIC OPERATORS\n",
    "2.1. Hello, world! \n",
    "BACK\n",
    "2.1. HELLO, WORLD!\n",
    "Python Essentials 1: Module 2\n",
    "2.1.1.1 Your very first program\n",
    "2.1.1.2 Your first program\n",
    "2.1.1.3 Your first program\n",
    "2.1.1.4 Your first program\n",
    "2.1.1.5 Your first program\n",
    "2.1.1.6 LAB: The print() function Lab\n",
    "2.1.1.7 Your first program\n",
    "2.1.1.8 Your very first program\n",
    "2.1.1.9 Your very first program\n",
    "2.1.1.10 Your very first program\n",
    "2.1.1.11 Your very first program\n",
    "2.1.1.12 Your very first program\n",
    "2.1.1.13 Your very first program\n",
    "2.1.1.14 Your very first program\n",
    "2.1.1.15 Your very first program\n",
    "2.1.1.16 Your very first program\n",
    "2.1.1.17 Your very first program\n",
    "2.1.1.18 LAB: The print() function Lab\n",
    "2.1.1.19 LAB: Formatting the output Lab\n",
    "2.1.1.20 SECTION SUMMARY\n",
    "2.2. Python literals \n",
    "BACK\n",
    "2.2. PYTHON LITERALS\n",
    "2.2.1.1 Python literals\n",
    "2.2.1.2 Python literals\n",
    "2.2.1.3 Python literals\n",
    "2.2.1.4 Python literals\n",
    "2.2.1.5 Python literals\n",
    "2.2.1.6 Python literals\n",
    "2.2.1.7 Python literals\n",
    "2.2.1.8 Python literals\n",
    "2.2.1.9 Python literals\n",
    "2.2.1.10 Python literals\n",
    "2.2.1.11 LAB: Python literals - strings Lab\n",
    "2.2.1.12 SECTION SUMMARY\n",
    "2.3. Arithmetic operators and the hierarchy of priorities Now \n",
    "BACK\n",
    "2.3. ARITHMETIC OPERATORS AND THE HIERARCHY OF PRIORITIES\n",
    "2.3.1.1 Operators - data manipulation tools Now\n",
    "2.3.1.2 Operators - data manipulation tools\n",
    "2.3.1.3 Operators - data manipulation tools\n",
    "2.3.1.4 Operators - data manipulation tools\n",
    "2.3.1.5 Operators - data manipulation tools\n",
    "2.3.1.6 Operators - data manipulation tools\n",
    "2.3.1.7 Operators - data manipulation tools\n",
    "2.3.1.8 Operators - data manipulation tools\n",
    "2.3.1.9 Operators - data manipulation tools\n",
    "2.3.1.10 SECTION SUMMARY\n",
    "2.4. Variables \n",
    "BACK\n",
    "2.4. VARIABLES\n",
    "2.4.1.1 Variables - data-shaped boxes\n",
    "2.4.1.2 Variables - data-shaped boxes\n",
    "2.4.1.3 Variables - data-shaped boxes\n",
    "2.4.1.4 Variables - data-shaped boxes\n",
    "2.4.1.5 Variables - data-shaped boxes\n",
    "2.4.1.6 Variables - data-shaped boxes\n",
    "2.4.1.7 LAB: Variables Lab\n",
    "2.4.1.8 Variables - data-shaped boxes\n",
    "2.4.1.9 LAB: Variables: a simple converter Lab\n",
    "2.4.1.10 LAB: Operators and expressions Lab\n",
    "2.4.1.11 SECTION SUMMARY\n",
    "2.5. Comments \n",
    "BACK\n",
    "2.5. COMMENTS\n",
    "2.5.1.1 A comment on comments\n",
    "2.5.1.2 LAB: Comments Lab\n",
    "2.5.1.3 SECTION SUMMARY\n",
    "2.6. The input() function and string operators \n",
    "BACK\n",
    "2.6. THE INPUT() FUNCTION AND STRING OPERATORS\n",
    "2.6.1.1 How to talk to a computer\n",
    "2.6.1.2 How to talk to a computer\n",
    "2.6.1.3 How to talk to a computer\n",
    "2.6.1.4 How to talk to a computer\n",
    "2.6.1.5 How to talk to a computer\n",
    "2.6.1.6 How to talk to a computer: string operators\n",
    "2.6.1.7 How to talk to a computer: string operators\n",
    "2.6.1.8 How to talk to a computer: string operators\n",
    "2.6.1.9 LAB: Simple input and output Lab\n",
    "2.6.1.10 LAB: Operators and expressions Lab\n",
    "2.6.1.11 LAB: Operators and expressions Lab\n",
    "2.6.1.12 SECTION SUMMARY\n",
    "2.6.1.13 Module Completion\n",
    "Module 2 Quiz Quiz \n",
    "BACK\n",
    "MODULE 2 QUIZ\n",
    "PE1 -- Module 2 Quiz Quiz\n",
    "Module 3: Boolean values, conditional execution, loops, lists and list processing, logical and bitwise operations \n",
    "BACK\n",
    "MODULE 3: BOOLEAN VALUES, CONDITIONAL EXECUTION, LOOPS, LISTS AND LIST PROCESSING, LOGICAL AND BITWISE OPERATIONS\n",
    "3.1. Comparison operators and conditional execution \n",
    "BACK\n",
    "3.1. COMPARISON OPERATORS AND CONDITIONAL EXECUTION\n",
    "Python Essentials 1: Module 3\n",
    "3.1.1.1 Making decisions in Python\n",
    "3.1.1.2 Making decisions in Python\n",
    "3.1.1.3 Making decisions in Python\n",
    "3.1.1.4 LAB: Questions and answers Lab\n",
    "3.1.1.5 Making decisions in Python\n",
    "3.1.1.6 Making decisions in Python\n",
    "3.1.1.7 Making decisions in Python\n",
    "3.1.1.8 Making decisions in Python\n",
    "3.1.1.9 Making decisions in Python\n",
    "3.1.1.10 LAB: Comparison operators and conditional execution Lab\n",
    "3.1.1.11 LAB: Essentials of the if-else statement Lab\n",
    "3.1.1.12 LAB: Essentials of the if-elif-else statement Lab\n",
    "3.1.1.13 SECTION SUMMARY (1/2)\n",
    "3.1.1.14 SECTION SUMMARY (2/2)\n",
    "3.2. Loops \n",
    "BACK\n",
    "3.2. LOOPS\n",
    "3.2.1.1 Loops in Python | while\n",
    "3.2.1.2 Loops in Python | while\n",
    "3.2.1.3 LAB: Essentials of the while loop - Guess the secret number Lab\n",
    "3.2.1.4 Loops in Python | for\n",
    "3.2.1.5 Loops in Python | for\n",
    "3.2.1.6 LAB: Essentials of the for loop - counting mississippily Lab\n",
    "3.2.1.7 Loop control in Python | break and continue\n",
    "3.2.1.8 Loop control in Python | break and continue\n",
    "3.2.1.9 LAB: The break statement - Stuck in a loop Lab\n",
    "3.2.1.10 LAB: The continue statement - the Ugly Vowel Eater Lab\n",
    "3.2.1.11 LAB: The continue statement - the Pretty Vowel Eater Lab\n",
    "3.2.1.12 Python loops | else\n",
    "3.2.1.13 Python loops | else\n",
    "3.2.1.14 LAB: Essentials of the while loop Lab\n",
    "3.2.1.15 LAB: Collatz's hypothesis Lab\n",
    "3.2.1.16 SECTION SUMMARY (1/2)\n",
    "3.2.1.17 SECTION SUMMARY (2/2)\n",
    "3.3. Logic and bit operations in Python \n",
    "BACK\n",
    "3.3. LOGIC AND BIT OPERATIONS IN PYTHON\n",
    "3.3.1.1 Logic and bit operations in Python | and, or, not\n",
    "3.3.1.2 Logic and bit operations in Python | and, or, not\n",
    "3.3.1.3 Logic and bit operations in Python\n",
    "3.3.1.4 Logic and bit operations in Python | Bitwise operators\n",
    "3.3.1.5 Logic and bit operations in Python | Bit shifting\n",
    "3.3.1.6 SECTION SUMMARY\n",
    "3.4. Lists \n",
    "BACK\n",
    "3.4. LISTS\n",
    "3.4.1.1 Lists - collections of data\n",
    "3.4.1.2 Lists - collections of data | Indexing\n",
    "3.4.1.3 Lists - collections of data | Indexing\n",
    "3.4.1.4 Lists - collections of data | Operations on lists\n",
    "3.4.1.5 Lists - collections of data | Operations on lists\n",
    "3.4.1.6 LAB: The basics of lists Lab\n",
    "3.4.1.7 Lists - collections of data | Functions and methods\n",
    "3.4.1.8 Lists - collections of data | list methods\n",
    "3.4.1.9 Lists - collections of data | list methods\n",
    "3.4.1.10 Lists - collections of data | lists and loops\n",
    "3.4.1.11 Lists - collections of data | lists and loops\n",
    "3.4.1.12 Lists - collections of data | lists and loops\n",
    "3.4.1.13 LAB: The basics of lists - the Beatles Lab\n",
    "3.4.1.14 SECTION SUMMARY\n",
    "3.5. Sorting simple lists \n",
    "BACK\n",
    "3.5. SORTING SIMPLE LISTS\n",
    "3.5.1.1 Sorting simple lists - the bubble sort algorithm\n",
    "3.5.1.2 Sorting simple lists - the bubble sort algorithm\n",
    "3.5.1.3 Sorting simple lists - the bubble sort algorithm\n",
    "3.5.1.4 SECTION SUMMARY\n",
    "3.6. List processing \n",
    "BACK\n",
    "3.6. LIST PROCESSING\n",
    "3.6.1.1 Operations on lists\n",
    "3.6.1.2 Operations on lists | slices\n",
    "3.6.1.3 Operations on lists | slices\n",
    "3.6.1.4 Operations on lists | slices\n",
    "3.6.1.5 Operations on lists | slices, del\n",
    "3.6.1.6 Operations on lists | in, not in\n",
    "3.6.1.7 Lists - more details\n",
    "3.6.1.8 Lists - more details\n",
    "3.6.1.9 LAB: Operating with lists - basics Lab\n",
    "3.6.1.10 SECTION SUMMARY\n",
    "3.7.1 Multidimensional arrays \n",
    "BACK\n",
    "3.7.1 MULTIDIMENSIONAL ARRAYS\n",
    "3.7.1.1 Lists in advanced applications\n",
    "3.7.1.2 Lists in advanced applications | Arrays\n",
    "3.7.1.3 Lists in advanced applications | Arrays\n",
    "3.7.1.4 Lists in advanced applications | Arrays\n",
    "3.7.1.5 Lists in advanced applications | Arrays\n",
    "3.7.1.6 SECTION SUMMARY\n",
    "3.7.1.7 Module Completion\n",
    "Module 3 Quiz Quiz \n",
    "BACK\n",
    "MODULE 3 QUIZ\n",
    "PE1 -- Module 3 Quiz Quiz\n",
    "Module 4: Functions, tuples, dictionaries, and data processing \n",
    "BACK\n",
    "MODULE 4: FUNCTIONS, TUPLES, DICTIONARIES, AND DATA PROCESSING\n",
    "4.1. Functions \n",
    "BACK\n",
    "4.1. FUNCTIONS\n",
    "Python Essentials 1: Module 4\n",
    "4.1.1.1 Functions\n",
    "4.1.1.2 Functions\n",
    "4.1.1.3 Writing functions\n",
    "4.1.1.4 Writing functions\n",
    "4.1.1.5 Functions\n",
    "4.1.1.6 SECTION SUMMARY\n",
    "4.2. Function parameters and argument passing \n",
    "BACK\n",
    "4.2. FUNCTION PARAMETERS AND ARGUMENT PASSING\n",
    "4.2.1.1 How functions communicate with their environment\n",
    "4.2.1.2 How functions communicate with their environment\n",
    "4.2.1.3 How functions communicate with their environment\n",
    "4.2.1.4 How functions communicate with their environment\n",
    "4.2.1.5 How functions communicate with their environment\n",
    "4.2.1.6 How functions communicate with their environment\n",
    "4.2.1.7 How functions communicate with their environment\n",
    "4.2.1.8 SECTION SUMMARY\n",
    "4.3. Returning results from functions \n",
    "BACK\n",
    "4.3. RETURNING RESULTS FROM FUNCTIONS\n",
    "4.3.1.1 Returning a result from a function\n",
    "4.3.1.2 Returning a result from a function\n",
    "4.3.1.3 Returning a result from a function\n",
    "4.3.1.4 Returning a result from a function\n",
    "4.3.1.5 Returning a result from a function\n",
    "4.3.1.6 LAB: A leap year: writing your own functions Lab\n",
    "4.3.1.7 LAB: How many days: writing and using your own functions Lab\n",
    "4.3.1.8 LAB: Day of the year: writing and using your own functions Lab\n",
    "4.3.1.9 LAB: Prime numbers - how to find them Lab\n",
    "4.3.1.10 LAB: Converting fuel consumption Lab\n",
    "4.3.1.11 SECTION SUMMARY\n",
    "4.4. Functions and scopes \n",
    "BACK\n",
    "4.4. FUNCTIONS AND SCOPES\n",
    "4.4.1.1 Scopes in Python\n",
    "4.4.1.2 Scopes in Python\n",
    "4.4.1.3 Scopes in Python | global\n",
    "4.4.1.4 Scopes in Python\n",
    "4.4.1.5 SECTION SUMMARY\n",
    "4.5. Creating simple functions \n",
    "BACK\n",
    "4.5. CREATING SIMPLE FUNCTIONS\n",
    "4.5.1.1 Creating functions | two-parameter functions\n",
    "4.5.1.2 Creating functions | two-parameter functions\n",
    "4.5.1.3 Creating functions | three-parameter functions\n",
    "4.5.1.4 Creating functions | testing triangles\n",
    "4.5.1.5 Creating functions | right-angle triangles\n",
    "4.5.1.6 Creating functions | factorials\n",
    "4.5.1.7 Creating functions | Fibonacci numbers\n",
    "4.5.1.8 Creating functions | recursion\n",
    "4.5.1.9 SECTION SUMMARY\n",
    "4.6. Tuples and dictionaries \n",
    "BACK\n",
    "4.6. TUPLES AND DICTIONARIES\n",
    "4.6.1.1 Tuples and dictionaries\n",
    "4.6.1.2 Tuples and dictionaries\n",
    "4.6.1.3 Tuples and dictionaries\n",
    "4.6.1.4 Tuples and dictionaries\n",
    "4.6.1.5 Tuples and dictionaries\n",
    "4.6.1.6 Tuples and dictionaries | methods\n",
    "4.6.1.7 Tuples and dictionaries | methods\n",
    "4.6.1.8 Tuples and dictionaries\n",
    "4.6.1.9 Tuples and dictionaries\n",
    "4.6.1.10 SECTION SUMMARY (1/3)\n",
    "4.6.1.11 SECTION SUMMARY (2/3)\n",
    "4.6.1.12 SECTION SUMMARY (3/3)\n",
    "4.7.1 Exceptions \n",
    "BACK\n",
    "4.7.1 EXCEPTIONS\n",
    "4.7.1.1 Exceptions\n",
    "4.7.1.2 Exceptions\n",
    "4.7.1.3 Exceptions (try-except)\n",
    "4.7.1.4 Exceptions\n",
    "4.7.1.5 Exceptions (two exceptions)\n",
    "4.7.1.6 Exceptions | Deafult exceptions\n",
    "4.7.1.7 Exceptions\n",
    "4.7.1.8 Testing and debugging\n",
    "4.7.1.9 Testing and debugging\n",
    "4.7.1.10 Testing: bug vs. debug\n",
    "4.7.1.11 print debugging\n",
    "4.7.1.12 Testing and debugging – tips\n",
    "4.7.1.13 SECTION SUMMARY\n",
    "4.7.2.1 PROJECT: Tic-Tac-Toe Lab\n",
    "4.7.2.2 Module Completion\n",
    "Module 4 Quiz Quiz \n",
    "BACK\n",
    "MODULE 4 QUIZ\n",
    "PE1 -- Module 4 Quiz Quiz\n",
    "Course completion \n",
    "BACK\n",
    "COURSE COMPLETION\n",
    "Python Essentials 1 Completed \n",
    "BACK\n",
    "PYTHON ESSENTIALS 1 COMPLETED\n",
    "5.1.1.0 Python Essentials 1 Completed\n",
    "5.1.1.2 Earn PCEP certification\n",
    "5.1.1.3 Earn PCEP certification\n",
    "5.1.1.4 Congratulations\n",
    "Python as a calculator\n",
    "Now, we're going to show you a completely new side of the print() function. You already know that the function is able to show you the values of the literals passed to it by arguments.\n",
    "\n",
    "In fact, it can do something more. Take a look at the snippet:\n",
    "\n",
    "print(2+2)\n",
    "\n",
    "\n",
    "Retype the code in the editor and run it. Can you guess the output?\n",
    "\n",
    "You should see the number four. Feel free to experiment with other operators.\n",
    "\n",
    "Without taking this too seriously, you've just discovered that Python can be used as a calculator. Not a very handy one, and definitely not a pocket one, but a calculator nonetheless.\n",
    "\n",
    "Taking it more seriously, we are now entering the province of operators and expressions.\n",
    "\n",
    "\n",
    "Basic operators\n",
    "An operator is a symbol of the programming language, which is able to operate on the values.\n",
    "\n",
    "For example, just as in arithmetic, the + (plus) sign is the operator which is able to add two numbers, giving the result of the addition.\n",
    "\n",
    "Not all Python operators are as obvious as the plus sign, though, so let's go through some of the operators available in Python, and we'll explain which rules govern their use, and how to interpret the operations they perform.\n",
    "\n",
    "We'll begin with the operators which are associated with the most widely recognizable arithmetic operations:\n",
    "\n",
    "+, -, *, /, //, %, **\n",
    "\n",
    "\n",
    "The order of their appearance is not accidental. We'll talk more about it once we've gone through them all.\n",
    "\n",
    "Remember: Data and operators when connected together form expressions. The simplest expression is a literal itself."
   ]
  },
  {
   "cell_type": "markdown",
   "metadata": {},
   "source": [
    "### арифметические операции"
   ]
  },
  {
   "cell_type": "markdown",
   "metadata": {},
   "source": [
    "В математике\tВ Python\n",
    "\n",
    "Сложение\t     +\n",
    "\n",
    "Вычитание\t     -\n",
    "\n",
    "Умножение        *\n",
    "\n",
    "Деление\t         /"
   ]
  },
  {
   "cell_type": "markdown",
   "metadata": {},
   "source": [
    "Предположим, у вас есть 100 долларов, которые вы можете инвестировать с доходностью 10% каждый год. Через год это <i>100 * 1,1=110</i> долларов, а через два года это <i>100 * 1,1 * 1.1=121</i>. Добавьте код, чтобы рассчитать, сколько денег вы получите через 7 лет, и распечатайте результат."
   ]
  },
  {
   "cell_type": "code",
   "execution_count": null,
   "metadata": {},
   "outputs": [],
   "source": [
    "# Addition, subtraction\n",
    "print(5 + 5)\n",
    "print(5 - 5)\n",
    "\n",
    "# Multiplication, division, modulo, and exponentiation\n",
    "print(3 * 5)\n",
    "print(10 / 2)\n",
    "print(18 % 7)\n",
    "print(4 ** 2)\n",
    "\n",
    "# How much is your $100 worth after 7 years?\n",
    "print(100 * 1.1 ** 7)"
   ]
  },
  {
   "cell_type": "markdown",
   "metadata": {},
   "source": [
    "Другие типы переменных\n",
    "В предыдущем упражнении вы работали с двумя типами данных Python:\n",
    "\n",
    "int, или целое число: число без дробной части. , со значением , является примером целого числа.savings100\n",
    "float, или с плавающей запятой: число, имеющее как целое число, так и дробную часть, разделенное точкой. , со значением , является примером плавающей точки.growth_multiplier1.1\n",
    "Помимо числовых типов данных, существуют два других очень распространенных типа данных:\n",
    "\n",
    "str, или строка: тип для представления текста. Для построения строки можно использовать одинарные или двойные кавычки.\n",
    "bool, или логический: тип для представления логических значений. Может быть только или (капитализация важна!).TrueFalse\n",
    "Резолюция\n",
    "100 ОПЫТ\n",
    "Создайте новую строку , со значением .desc\"compound interest\"\n",
    "Создайте новую логическую среду, , со значением .profitableTrue"
   ]
  },
  {
   "cell_type": "code",
   "execution_count": null,
   "metadata": {},
   "outputs": [],
   "source": [
    "# Create a variable desc\n",
    "\n",
    "\n",
    "# Create a variable profitable"
   ]
  },
  {
   "cell_type": "code",
   "execution_count": 3,
   "metadata": {},
   "outputs": [],
   "source": [
    "# Create a variable \n",
    "desc=\"compound interest\"\n",
    "\n",
    "\n",
    "# Create a variable profitable\n",
    "profitable=True"
   ]
  },
  {
   "cell_type": "markdown",
   "metadata": {},
   "source": [
    "Arithmetic operators: exponentiation\n",
    "A ** (double asterisk) sign is an exponentiation (power) operator. Its left argument is the base, its right, the exponent.\n",
    "\n",
    "Classical mathematics prefers notation with superscripts, just like this: 23. Pure text editors don't accept that, so Python uses ** instead, e.g., 2 ** 3.\n",
    "\n",
    "Take a look at our examples in the editor window.\n",
    "\n",
    "\n",
    "Note: we've surrounded the double asterisks with spaces in our examples. It's not compulsory, but it improves the readability of the code.\n",
    "\n",
    "The examples show a very important feature of virtually all Python numerical operators.\n",
    "\n",
    "Run the code and look carefully at the results it produces. Can you see any regularity here?\n",
    "\n",
    "\n",
    "Remember: It's possible to formulate the following rules based on this result:\n",
    "\n",
    "when both ** arguments are integers, the result is an integer, too;\n",
    "when at least one ** argument is a float, the result is a float, too.\n",
    "This is an important distinction to remember.\n",
    "\n"
   ]
  },
  {
   "cell_type": "code",
   "execution_count": 1,
   "metadata": {},
   "outputs": [
    {
     "name": "stdout",
     "output_type": "stream",
     "text": [
      "8\n",
      "8.0\n",
      "8.0\n",
      "8.0\n"
     ]
    }
   ],
   "source": [
    "print(2 ** 3)\n",
    "print(2 ** 3.)\n",
    "print(2. ** 3)\n",
    "print(2. ** 3.)\n"
   ]
  },
  {
   "cell_type": "markdown",
   "metadata": {},
   "source": [
    "Arithmetic operators: multiplication\n",
    "An * (asterisk) sign is a multiplication operator.\n",
    "\n",
    "Run the code below and check if our integer vs. float rule is still working.\n",
    "\n",
    "print(2 * 3)\n",
    "print(2 * 3.)\n",
    "print(2. * 3)\n",
    "print(2. * 3.)\n",
    "\n",
    "\n",
    "Arithmetic operators: division\n",
    "A / (slash) sign is a divisional operator.\n",
    "\n",
    "The value in front of the slash is a dividend, the value behind the slash, a divisor.\n",
    "\n",
    "Run the code below and analyze the results.\n",
    "\n",
    "print(6 / 3)\n",
    "print(6 / 3.)\n",
    "print(6. / 3)\n",
    "print(6. / 3.)\n",
    "\n",
    "\n",
    "You should see that there is an exception to the rule.\n",
    "\n",
    "The result produced by the division operator is always a float, regardless of whether or not the result seems to be a float at first glance: 1 / 2, or if it looks like a pure integer: 2 / 1.\n",
    "\n",
    "Is this a problem? Yes, it is. It happens sometimes that you really need a division that provides an integer value, not a float.\n",
    "\n",
    "Fortunately, Python can help you with that.\n",
    "\n",
    "\n"
   ]
  },
  {
   "cell_type": "markdown",
   "metadata": {},
   "source": [
    "Arithmetic operators: integer division\n",
    "A // (double slash) sign is an integer divisional operator. It differs from the standard / operator in two details:\n",
    "\n",
    "its result lacks the fractional part - it's absent (for integers), or is always equal to zero (for floats); this means that the results are always rounded;\n",
    "it conforms to the integer vs. float rule.\n",
    "Run the example below and see the results:\n",
    "\n",
    "print(6 // 3)\n",
    "print(6 // 3.)\n",
    "print(6. // 3)\n",
    "print(6. // 3.)\n",
    "\n",
    "\n",
    "As you can see, integer by integer division gives an integer result. All other cases produce floats.\n",
    "\n",
    "\n",
    "Let's do some more advanced tests.\n",
    "\n",
    "Look at the following snippet:\n",
    "\n",
    "print(6 // 4)\n",
    "print(6. // 4)\n",
    "\n",
    "\n",
    "Imagine that we used / instead of // - could you predict the results?\n",
    "\n",
    "Yes, it would be 1.5 in both cases. That's clear.\n",
    "\n",
    "But what results should we expect with // division?\n",
    "\n",
    "Run the code and see for yourself.\n",
    "\n",
    "\n",
    "What we get is two ones - one integer and one float.\n",
    "\n",
    "The result of integer division is always rounded to the nearest integer value that is less than the real (not rounded) result.\n",
    "\n",
    "This is very important: rounding always goes to the lesser integer.\n",
    "\n",
    "\n",
    "Look at the code below and try to predict the results once again:\n",
    "\n",
    "print(-6 // 4)\n",
    "print(6. // -4)\n",
    "\n",
    "\n",
    "Note: some of the values are negative. This will obviously affect the result. But how?\n",
    "\n",
    "The result is two negative twos. The real (not rounded) result is -1.5 in both cases. However, the results are the subjects of rounding. The rounding goes toward the lesser integer value, and the lesser integer value is -2, hence: -2 and -2.0.\n",
    "\n",
    "NOTE\n",
    "\n",
    "Integer division can also be called floor division. You will definitely come across this term in the future.\n",
    "\n"
   ]
  },
  {
   "cell_type": "markdown",
   "metadata": {},
   "source": [
    "Operators: remainder (modulo)\n",
    "The next operator is quite a peculiar one, because it has no equivalent among traditional arithmetic operators.\n",
    "\n",
    "Its graphical representation in Python is the % (percent) sign, which may look a bit confusing.\n",
    "\n",
    "Try to think of it as of a slash (division operator) accompanied by two funny little circles.\n",
    "\n",
    "The result of the operator is a remainder left after the integer division.\n",
    "\n",
    "In other words, it's the value left over after dividing one value by another to produce an integer quotient.\n",
    "\n",
    "Note: the operator is sometimes called modulo in other programming languages.\n",
    "\n",
    "Take a look at the snippet - try to predict its result and then run it:\n",
    "\n",
    "print(14 % 4)\n",
    "\n",
    "\n",
    "As you can see, the result is two. This is why:\n",
    "\n",
    "14 // 4 gives 3 → this is the integer quotient;\n",
    "3 * 4 gives 12 → as a result of quotient and divisor multiplication;\n",
    "14 - 12 gives 2 → this is the remainder.\n",
    "\n",
    "This example is somewhat more complicated:\n",
    "\n",
    "print(12 % 4.5)\n",
    "\n",
    "\n",
    "What is the result?\n",
    "\n",
    "Check\n",
    "\n",
    "Operators: how not to divide\n",
    "As you probably know, division by zero doesn't work.\n",
    "\n",
    "Do not try to:\n",
    "\n",
    "perform a division by zero;\n",
    "perform an integer division by zero;\n",
    "find a remainder of a division by zero.\n"
   ]
  },
  {
   "cell_type": "markdown",
   "metadata": {},
   "source": [
    "Operators: addition\n",
    "The addition operator is the + (plus) sign, which is fully in line with mathematical standards.\n",
    "\n",
    "Again, take a look at the snippet of the program below:\n",
    "\n",
    "print(-4 + 4)\n",
    "print(-4. + 8)\n",
    "\n",
    "\n",
    "The result should be nothing surprising. Run the code to check it.\n",
    "\n",
    "\n",
    "The subtraction operator, unary and binary operators\n",
    "The subtraction operator is obviously the - (minus) sign, although you should note that this operator also has another meaning - it can change the sign of a number.\n",
    "\n",
    "This is a great opportunity to present a very important distinction between unary and binary operators.\n",
    "\n",
    "In subtracting applications, the minus operator expects two arguments: the left (a minuend in arithmetical terms) and right (a subtrahend).\n",
    "\n",
    "For this reason, the subtraction operator is considered to be one of the binary operators, just like the addition, multiplication and division operators.\n",
    "\n",
    "But the minus operator may be used in a different (unary) way - take a look at the last line of the snippet below:\n",
    "\n",
    "print(-4 - 4)\n",
    "print(4. - 8)\n",
    "print(-1.1)\n",
    "\n",
    "\n",
    "By the way: there is also a unary + operator. You can use it like this:\n",
    "\n",
    "print(+2)\n",
    "\n",
    "\n",
    "The operator preserves the sign of its only argument - the right one.\n",
    "\n",
    "Although such a construction is syntactically correct, using it doesn't make much sense, and it would be hard to find a good rationale for doing so.\n",
    "\n",
    "Take a look at the snippet above - can you guess its output?\n",
    "\n",
    "\n",
    " \n",
    " Sandbox\n",
    "Code\n",
    "\n",
    "\n",
    "\n",
    "Console \n"
   ]
  },
  {
   "cell_type": "markdown",
   "metadata": {},
   "source": [
    "Operators and their priorities\n",
    "So far, we've treated each operator as if it had no connection with the others. Obviously, such an ideal and simple situation is a rarity in real programming.\n",
    "\n",
    "Also, you will very often find more than one operator in one expression, and then this presumption is no longer so obvious.\n",
    "\n",
    "Consider the following expression:\n",
    "\n",
    "2 + 3 * 5\n",
    "\n",
    "You probably remember from school that multiplications precede additions.\n",
    "\n",
    "You surely remember that you should first multiply 3 by 5 and, keeping the 15 in your memory, then add it to 2, thus getting the result of 17.\n",
    "\n",
    "The phenomenon that causes some operators to act before others is known as the hierarchy of priorities.\n",
    "\n",
    "Python precisely defines the priorities of all operators, and assumes that operators of a larger (higher) priority perform their operations before the operators of a lower priority.\n",
    "\n",
    "So, if you know that * has a higher priority than +, the computation of the final result should be obvious.\n",
    "\n",
    "\n",
    "Operators and their bindings\n",
    "The binding of the operator determines the order of computations performed by some operators with equal priority, put side by side in one expression.\n",
    "\n",
    "Most of Python's operators have left-sided binding, which means that the calculation of the expression is conducted from left to right.\n",
    "\n",
    "This simple example will show you how it works. Take a look:\n",
    "\n",
    "print(9 % 6 % 2)\n",
    "\n",
    "\n",
    "There are two possible ways of evaluating this expression:\n",
    "\n",
    "from left to right: first 9 % 6 gives 3, and then 3 % 2 gives 1;\n",
    "from right to left: first 6 % 2 gives 0, and then 9 % 0 causes a fatal error.\n",
    "\n",
    "Run the example and see what you get.\n",
    "\n",
    "The result should be 1. This operator has left-sided binding. But there's one interesting exception."
   ]
  },
  {
   "cell_type": "code",
   "execution_count": null,
   "metadata": {},
   "outputs": [],
   "source": []
  },
  {
   "cell_type": "markdown",
   "metadata": {},
   "source": [
    "Operators and their bindings: exponentiation\n",
    "Repeat the experiment, but now with exponentiation.\n",
    "\n",
    "Use this snippet of code:\n",
    "\n",
    "print(2 ** 2 ** 3)\n",
    "\n",
    "\n",
    "The two possible results are:\n",
    "\n",
    "2 ** 2 → 4; 4 ** 3 → 64\n",
    "2 ** 3 → 8; 2 ** 8 → 256\n",
    "\n",
    "Run the code. What do you see?\n",
    "\n",
    "The result clearly shows that the exponentiation operator uses right-sided binding."
   ]
  },
  {
   "cell_type": "markdown",
   "metadata": {},
   "source": [
    "List of priorities\n",
    "Since you're new to Python operators, we don't want to present the complete list of operator priorities right now.\n",
    "\n",
    "Instead, we'll show you its truncated form, and we'll expand it consistently as we introduce new operators.\n",
    "\n",
    "Look at the table below:\n",
    "\n",
    "Priority\tOperator\t\n",
    "1\t+, -\tunary\n",
    "2\t**\t\n",
    "3\t*, /, //, %\t\n",
    "4\t+, -\tbinary\n",
    "\n",
    "Note: we've enumerated the operators in order from the highest (1) to the lowest (4) priorities.\n",
    "\n",
    "\n",
    "Try to work through the following expression:\n",
    "\n",
    "print(2 * 3 % 5)\n",
    "\n",
    "\n",
    "Both operators (* and %) have the same priority, so the result can be guessed only when you know the binding direction. How do you think? What is the result?\n",
    "\n",
    "Check\n",
    "1\n",
    "\n",
    "\n",
    "Operators and parentheses\n",
    "Of course, you're always allowed to use parentheses, which can change the natural order of a calculation.\n",
    "\n",
    "In accordance with the arithmetic rules, subexpressions in parentheses are always calculated first.\n",
    "\n",
    "You can use as many parentheses as you need, and they're often used to improve the readability of an expression, even if they don't change the order of the operations.\n",
    "\n",
    "An example of an expression with multiple parentheses is here:\n",
    "\n",
    "print((5 * ((25 % 13) + 100) / (2 * 13)) // 2)\n",
    "\n",
    "\n",
    "Try to compute the value that's printed to the console. What's the result of the print() function?\n",
    "\n",
    "Check\n",
    "10.0\n",
    "\n"
   ]
  },
  {
   "cell_type": "markdown",
   "metadata": {},
   "source": [
    "Key takeaways\n",
    "1. An expression is a combination of values (or variables, operators, calls to functions - you will learn about them soon) which evaluates to a value, e.g., 1 + 2.\n",
    "\n",
    "2. Operators are special symbols or keywords which are able to operate on the values and perform (mathematical) operations, e.g., the * operator multiplies two values: x * y.\n",
    "\n",
    "3. Arithmetic operators in Python: + (addition), - (subtraction), * (multiplication), / (classic division - always returns a float), % (modulus - divides left operand by right operand and returns the remainder of the operation, e.g., 5 % 2 = 1), ** (exponentiation - left operand raised to the power of right operand, e.g., 2 ** 3 = 2 * 2 * 2 = 8), // (floor/integer division - returns a number resulting from division, but rounded down to the nearest whole number, e.g., 3 // 2.0 = 1.0)\n",
    "\n",
    "4. A unary operator is an operator with only one operand, e.g., -1, or +3.\n",
    "\n",
    "5. A binary operator is an operator with two operands, e.g., 4 + 5, or 12 % 5.\n",
    "\n",
    "6. Some operators act before others - the hierarchy of priorities:\n",
    "\n",
    "unary + and - have the highest priority\n",
    "then: **, then: *, /, and %, and then the lowest priority: binary + and -.\n",
    "7. Subexpressions in parentheses are always calculated first, e.g., 15 - 1 * (5 * (1 + 2)) = 0.\n",
    "\n",
    "8. The exponentiation operator uses right-sided binding, e.g., 2 ** 2 ** 3 = 256.\n",
    "\n",
    "\n",
    "\n",
    "\n",
    "Exercise 1\n",
    "\n",
    "What is the output of the following snippet?\n",
    "\n",
    "print((2 ** 4), (2 * 4.), (2 * 4))\n",
    "\n",
    "\n",
    "Check\n",
    "16 8.0 8\n",
    "\n",
    "Exercise 2\n",
    "\n",
    "What is the output of the following snippet?\n",
    "\n",
    "print((-2 / 4), (2 / 4), (2 // 4), (-2 // 4))\n",
    "\n",
    "\n",
    "Check\n",
    "-0.5 0.5 0 -1\n",
    "\n",
    "Exercise 3\n",
    "\n",
    "What is the output of the following snippet?\n",
    "\n",
    "print((2 % -4), (2 % 4), (2 ** 3 ** 2))\n",
    "\n",
    "\n",
    "Check\n",
    "-2 2 512"
   ]
  },
  {
   "cell_type": "code",
   "execution_count": null,
   "metadata": {},
   "outputs": [],
   "source": []
  },
  {
   "cell_type": "markdown",
   "metadata": {
    "id": "IsU_1lCXlzru"
   },
   "source": [
    "# Базовые операции\n",
    "\n",
    "Для целого типа integers:\n",
    "`+ - * / // % **`\n",
    "\n",
    "для типа  floats:\n",
    "`+ - * / **`\n",
    "\n",
    "Boolean Логические:\n",
    "* keywords: `True` and `False` (note capitalization)\n",
    "* `==` равенство: `5 == 5` выдает `True`\n",
    "* `!=` не равно: `5 != 5` выдает `False`\n",
    "* `>` greater than: `5 > 4` выдает `True`\n",
    "* `>=`меньше: `5 >= 5` дает `True`\n",
    "* Similarly, we have `<` and `<=`.\n",
    "\n",
    "Logical operators:\n",
    "* `and`, `or`, and `not`\n",
    "* `True and False`\n",
    "* `True or False`\n",
    "* `not True`"
   ]
  },
  {
   "cell_type": "code",
   "execution_count": null,
   "metadata": {
    "id": "pBXKKFwFlzru",
    "outputId": "7c53f25b-f30f-46d7-b38d-514c097d82d3"
   },
   "outputs": [
    {
     "data": {
      "text/plain": [
       "False"
      ]
     },
     "execution_count": 34,
     "metadata": {},
     "output_type": "execute_result"
    }
   ],
   "source": [
    "not (5 == 5.0) #equivalent to 5 != 5.0"
   ]
  },
  {
   "cell_type": "code",
   "execution_count": null,
   "metadata": {
    "id": "Fhwbkg3Zlzrv",
    "outputId": "5dd44606-a91a-4ddc-d077-762373cb1078"
   },
   "outputs": [
    {
     "data": {
      "text/plain": [
       "False"
      ]
     },
     "execution_count": 36,
     "metadata": {},
     "output_type": "execute_result"
    }
   ],
   "source": [
    "not (8%2==0)"
   ]
  },
  {
   "cell_type": "code",
   "execution_count": null,
   "metadata": {
    "id": "wMELH3Kylzrv",
    "outputId": "b84191c7-be7f-453c-c4b9-faea251cebd6"
   },
   "outputs": [
    {
     "name": "stdout",
     "output_type": "stream",
     "text": [
      "6\n",
      "yes\n"
     ]
    }
   ],
   "source": [
    "x=int(input())\n",
    "if x>=2 and x<10:\n",
    "    print('yes')\n",
    "else:\n",
    "    print('no')"
   ]
  },
  {
   "cell_type": "code",
   "execution_count": null,
   "metadata": {
    "id": "Vz-2zDJRlzrv"
   },
   "outputs": [],
   "source": [
    "if x%2==0:\n",
    "    x=x*10 # x*=10\n",
    "    print('hkjkk hhjjj')\n",
    "print('end')"
   ]
  },
  {
   "cell_type": "code",
   "execution_count": null,
   "metadata": {
    "id": "eMzsa0RGlzrv"
   },
   "outputs": [],
   "source": [
    "True and True"
   ]
  },
  {
   "cell_type": "code",
   "execution_count": null,
   "metadata": {
    "id": "vsEWsn8Olzrv"
   },
   "outputs": [],
   "source": [
    "type(4/2)"
   ]
  },
  {
   "cell_type": "code",
   "execution_count": null,
   "metadata": {
    "id": "cQWw1UCClzrv"
   },
   "outputs": [],
   "source": [
    "type(4//2)"
   ]
  },
  {
   "cell_type": "code",
   "execution_count": null,
   "metadata": {
    "id": "Tpa3ne8plzrv"
   },
   "outputs": [],
   "source": [
    "4//2"
   ]
  },
  {
   "cell_type": "code",
   "execution_count": null,
   "metadata": {
    "id": "Y_16qJCNlzrw"
   },
   "outputs": [],
   "source": [
    "4.0//2.0"
   ]
  },
  {
   "cell_type": "code",
   "execution_count": null,
   "metadata": {
    "id": "_59gMum1lzrw"
   },
   "outputs": [],
   "source": [
    "5//3 #=1 remainder 2"
   ]
  },
  {
   "cell_type": "code",
   "execution_count": null,
   "metadata": {
    "id": "nockXP0-lzrw"
   },
   "outputs": [],
   "source": [
    "6%3"
   ]
  },
  {
   "cell_type": "code",
   "execution_count": null,
   "metadata": {
    "id": "48yoLO9zlzrw"
   },
   "outputs": [],
   "source": [
    "5%3"
   ]
  },
  {
   "cell_type": "code",
   "execution_count": null,
   "metadata": {
    "id": "c3L0s_tllzrw"
   },
   "outputs": [],
   "source": [
    "4**3"
   ]
  },
  {
   "cell_type": "markdown",
   "metadata": {
    "id": "PXOKnT4qlzrw"
   },
   "source": [
    "### Операторы присваивания\n",
    "<Переменная>= выражение"
   ]
  },
  {
   "cell_type": "code",
   "execution_count": null,
   "metadata": {
    "id": "GqQ5_nY5lzrw"
   },
   "outputs": [],
   "source": [
    "x=2+5"
   ]
  },
  {
   "cell_type": "code",
   "execution_count": null,
   "metadata": {
    "id": "_3wvNEN8lzrw"
   },
   "outputs": [],
   "source": [
    "# Множественное наследование\n",
    "x=y=4"
   ]
  },
  {
   "cell_type": "code",
   "execution_count": null,
   "metadata": {
    "id": "0VPmhTwwlzrw",
    "outputId": "fa3518f1-2482-4ed3-d8e5-33cec84e132b"
   },
   "outputs": [
    {
     "name": "stdout",
     "output_type": "stream",
     "text": [
      "2\n",
      "F\n"
     ]
    }
   ],
   "source": [
    "#Изменение значений переменных\n",
    "x=2\n",
    "print(x)\n",
    "x='F'\n",
    "print(x)"
   ]
  },
  {
   "cell_type": "code",
   "execution_count": null,
   "metadata": {
    "id": "Ya3JO83Tlzrx",
    "outputId": "35740368-cf98-4616-ca0e-acca20bee779"
   },
   "outputs": [
    {
     "name": "stdout",
     "output_type": "stream",
     "text": [
      "x 3\n",
      "y 2\n"
     ]
    }
   ],
   "source": [
    "# Поменять значения переменных\n",
    "x=2\n",
    "y=3\n",
    "x,y=y,x\n",
    "print('x', x)\n",
    "print('y',y)"
   ]
  },
  {
   "cell_type": "markdown",
   "metadata": {
    "id": "WTZ3bkPmlzrx"
   },
   "source": [
    "# Преобразование типов Python и приведение типов"
   ]
  },
  {
   "cell_type": "markdown",
   "metadata": {
    "id": "OS22R2rglzrx"
   },
   "source": [
    "1. Неявное преобразование типов\n",
    "\n",
    "2. Явное преобразование типов"
   ]
  },
  {
   "cell_type": "markdown",
   "metadata": {
    "id": "QGQqIXM9lzrx"
   },
   "source": [
    "![xkcd_python](https://s0.slide-share.ru/s_slide/9d6c5af8802a11bc13585fc38039007e/f7bb40d3-59f0-4e3e-b551-e4fdaf343a34.jpeg)"
   ]
  },
  {
   "cell_type": "markdown",
   "metadata": {},
   "source": [
    "Преобразование типов\n",
    "Использование оператора для вставки двух строк может быть очень полезно при создании пользовательских сообщений.+\n",
    "\n",
    "Предположим, например, что вы рассчитали возврат инвестиций и хотите обобщить результаты в строке. Предполагая, что целое число и плавающая точка определены, вы можете попробовать что-то вроде этого:savingsresult\n",
    "\n",
    "print(\"I started with $\" + savings + \" and now have $\" + result + \". Awesome!\")\n",
    "Однако это не сработает, так как вы не можете просто суммировать строки и целые числа / плавающие числа.\n",
    "\n",
    "Чтобы исправить ошибку, необходимо явно преобразовать типы переменных. В частности, вам понадобится str(), чтобы преобразовать значение в строку. , например, преобразует целое число в строку.str(savings)savings\n",
    "\n",
    "Подобные функции, такие как int(), float() и bool(), помогут вам преобразовать значения Python в любой тип.\n",
    "\n",
    "\n",
    "Исправьте код таким образом, чтобы распечатка выполнялась без ошибок; используйте функцию str() для преобразования переменных в строки.\n",
    "Преобразуйте переменную в float и сохраните эту float как новую переменную, .pi_stringpi_float"
   ]
  },
  {
   "cell_type": "code",
   "execution_count": null,
   "metadata": {},
   "outputs": [],
   "source": [
    "# Definition of savings and result\n",
    "savings = 100\n",
    "result = 100 * 1.10 ** 7\n",
    "\n",
    "# Fix the printout\n",
    "print(\"I started with $\" + savings + \" and now have $\" + result + \". Awesome!\")\n",
    "\n",
    "# Definition of pi_string\n",
    "pi_string = \"3.1415926\"\n",
    "\n",
    "# Convert pi_string into float: pi_float\n"
   ]
  },
  {
   "cell_type": "code",
   "execution_count": null,
   "metadata": {},
   "outputs": [],
   "source": [
    "# Definition of savings and result\n",
    "savings = 100\n",
    "result = 100 * 1.10 ** 7\n",
    "\n",
    "# Fix the printout\n",
    "print(\"I started with $\" + str(savings )+  \" and now have $\" +str( result )+ \". Awesome!\")\n",
    "\n",
    "# Definition of pi_string\n",
    "pi_string = \"3.1415926\"\n",
    "\n",
    "# Convert pi_string into float: pi_float\n",
    "pi_float=float(pi_string)"
   ]
  },
  {
   "cell_type": "markdown",
   "metadata": {
    "id": "0rUvbf6Dlzrx"
   },
   "source": [
    "# Решение задач"
   ]
  },
  {
   "cell_type": "code",
   "execution_count": null,
   "metadata": {
    "id": "S2jGiTLrlzrx"
   },
   "outputs": [],
   "source": [
    "# сложить 2 числа"
   ]
  },
  {
   "cell_type": "code",
   "execution_count": null,
   "metadata": {
    "id": "1DuqpJhSlzry"
   },
   "outputs": [],
   "source": [
    "# сложить 3 числа"
   ]
  },
  {
   "cell_type": "code",
   "execution_count": null,
   "metadata": {
    "id": "wvuCuSjGlzry"
   },
   "outputs": [],
   "source": [
    "# Найти площадь треугольника по значению высоты и основания"
   ]
  },
  {
   "cell_type": "markdown",
   "metadata": {},
   "source": [
    "Какой из кодов  вызовет ошибку?"
   ]
  },
  {
   "cell_type": "markdown",
   "metadata": {},
   "source": [
    "\n",
    "1. \"I can add integers, like \" + str(5) + \" to strings.\"\n",
    "\n",
    "2. \"I said \" + (\"Hey \" * 2) + \"Hey!\"\n",
    "\n",
    "3. **\"The correct answer to this multiple choice exercise is answer number \" + 2\n",
    "\n",
    "4. True + False"
   ]
  },
  {
   "cell_type": "markdown",
   "metadata": {
    "id": "-Wc0_soolzry"
   },
   "source": [
    "# Управление памятью и сборщик мусора"
   ]
  },
  {
   "cell_type": "markdown",
   "metadata": {
    "id": "u17d2VbVlzry"
   },
   "source": [
    "Сборка мусора - технология, позволяющая, с одной стороны, упростить программирование, избавив программиста от необходимости вручную удалять объекты, созданные в динамической памяти, с другой - устранить ошибки, вызванные неправильным ручным управлением памятью.<br> Алгоритм, используемый сборщиком мусора называется подсчетом ссылок. Python хранит журнал ссылок на каждый объект и автоматически уничтожает объект, как только на него больше нет ссылок. "
   ]
  },
  {
   "cell_type": "markdown",
   "metadata": {
    "id": "o5ZcFN4Ilzry"
   },
   "source": [
    "![xkcd_python](https://www.yuripetrov.ru/edu/python/_images/03_01_02.gif)"
   ]
  },
  {
   "cell_type": "markdown",
   "metadata": {},
   "source": [
    "Leaving comments in code: why, how, and when\n",
    "You may want to put in a few words addressed not to Python but to humans, usually to explain to other readers of the code how the tricks used in the code work, or the meanings of the variables, and eventually, in order to keep stored information on who the author is and when the program was written.\n",
    "\n",
    "A remark inserted into the program, which is omitted at runtime, is called a comment.\n",
    "\n",
    "How do you leave this kind of comment in the source code? It has to be done in a way that won't force Python to interpret it as part of the code.\n",
    "\n",
    "Whenever Python encounters a comment in your program, the comment is completely transparent to it - from Python's point of view, this is only one space (regardless of how long the real comment is).\n",
    "\n",
    "In Python, a comment is a piece of text that begins with a # (hash) sign and extends to the end of the line.\n",
    "\n",
    "If you want a comment that spans several lines, you have to put a hash in front of them all.\n",
    "\n",
    "Just like here:\n",
    "\n",
    "# This program evaluates the hypotenuse c.\n",
    "# a and b are the lengths of the legs.\n",
    "a = 3.0\n",
    "b = 4.0\n",
    "c = (a ** 2 + b ** 2) ** 0.5  # We use ** instead of square root.\n",
    "print(\"c =\", c)\n",
    "\n",
    "\n",
    "Good, responsible developers describe each important piece of code, e.g., explaining the role of the variables; although it must be stated that the best way of commenting variables is to name them in an unambiguous manner.\n",
    "\n",
    "\n",
    "\n",
    "For example, if a particular variable is designed to store an area of some unique square, the name square_area will obviously be better than aunt_jane.\n",
    "\n",
    "We say that the first name is self-commenting.\n",
    "\n",
    "Comments may be useful in another respect - you can use them to mark a piece of code that currently isn't needed for whatever reason. Look at the example below, if you uncomment the highlighted line, this will affect the output of the code:\n",
    "\n",
    "# This is a test program.\n",
    "x = 1\n",
    "y = 2\n",
    "# y = y + x\n",
    "print(x + y)\n",
    "\n",
    "\n",
    "This is often done during the testing of a program, in order to isolate the place where an error might be hidden.\n",
    "\n",
    "TIP\n",
    "\n",
    "If you'd like to quickly comment or uncomment multiple lines of code, select the line(s) you wish to modify and use the following keyboard shortcut: CTRL + / (Windows) or CMD + / (Mac OS). It's a very useful trick, isn't it? Try this code in Sandbox.\n",
    "\n"
   ]
  },
  {
   "cell_type": "markdown",
   "metadata": {},
   "source": [
    "LAB\n",
    "\n",
    "Estimated time\n",
    "5 minutes\n",
    "\n",
    "Level of difficulty\n",
    "Very Easy\n",
    "\n",
    "Objectives\n",
    "becoming familiar with the concept of comments in Python;\n",
    "using and not using comments;\n",
    "replacing comments with code;\n",
    "experimenting with Python code.\n",
    "Scenario\n",
    "The code in the editor contains comments. Try to improve it: add or remove comments where you find it appropriate (yes, sometimes removing a comment can make the code more readable), and change variable names where you think this will improve code comprehension.\n",
    "\n",
    "NOTE\n",
    "\n",
    "Comments are very important. They are used not only to make your programs easier to understand, but also to disable those pieces of code that are currently not needed (e.g., when you need to test some parts of your code only, and ignore other). Good programmers describe each important piece of code, and give self-commenting names to variables, as sometimes it is simply much better to leave information in the code.\n",
    "\n",
    "It's good to use readable variable names, and sometimes it's better to divide your code into named pieces (e.g., functions). In some situations, it's a good idea to write the steps of computations in a clearer way.\n",
    "\n",
    "One more thing: it may happen that a comment contains a wrong or incorrect piece of information - you should never do that on purpose!\n",
    "\n"
   ]
  },
  {
   "cell_type": "code",
   "execution_count": 4,
   "metadata": {},
   "outputs": [
    {
     "name": "stdout",
     "output_type": "stream",
     "text": [
      "Hours:  2\n"
     ]
    }
   ],
   "source": [
    "#this program computes the number of seconds in a given number of hours\n",
    "# this program has been written two days ago\n",
    "\n",
    "a = 2 # number of hours\n",
    "seconds = 3600 # number of seconds in 1 hour\n",
    "\n",
    "print(\"Hours: \", a) #printing the number of hours\n",
    "# print(\"Seconds in Hours: \", a * seconds) # printing the number of seconds in a given number of hours\n",
    "\n",
    "#here we should also print \"Goodbye\", but a programmer didn't have time to write any code\n",
    "#this is the end of the program that computes the number of seconds in 3 hour\n"
   ]
  },
  {
   "cell_type": "markdown",
   "metadata": {},
   "source": [
    "Key takeaways\n",
    "\n",
    "1. Comments can be used to leave additional information in code. They are omitted at runtime. The information left in source code is addressed to human readers. In Python, a comment is a piece of text that begins with #. The comment extends to the end of line.\n",
    "\n",
    "2. If you want to place a comment that spans several lines, you need to place # in front of them all. Moreover, you can use a comment to mark a piece of code that is not needed at the moment (see the last line of the snippet below), e.g.:\n",
    "\n",
    "# This program prints\n",
    "# an introduction to the screen.\n",
    "print(\"Hello!\")  # Invoking the print() function\n",
    "# print(\"I'm Python.\")\n",
    "\n",
    "\n",
    "3. Whenever possible and justified, you should give self-commenting names to variables, e.g., if you're using two variables to store a length and width of something, the variable names length and width may be a better choice than myvar1 and myvar2.\n",
    "\n",
    "4. It's important to use comments to make programs easier to understand, and to use readable and meaningful variable names in code. However, it's equally important not to use variable names that are confusing, or leave comments that contain wrong or incorrect information!\n",
    "\n",
    "5. Comments can be important when you are reading your own code after some time (trust us, developers do forget what their own code does), and when others are reading your code (can help them understand what your programs do and how they do it more quickly).\n",
    "\n",
    "\n",
    "\n",
    "\n",
    "Exercise 1\n",
    "\n",
    "What is the output of the following snippet?\n",
    "\n",
    "# print(\"String #1\")\n",
    "print(\"String #2\")\n",
    "\n",
    "\n",
    "Check\n",
    "String #2\n",
    "\n",
    "Exercise 2\n",
    "\n",
    "What will happen when you run the following code?\n",
    "\n",
    "# This is\n",
    "a multiline\n",
    "comment. #\n",
    "\n",
    "print(\"Hello!\")\n",
    "\n",
    "\n",
    "Check\n",
    "SyntaxError: invalid syntax"
   ]
  },
  {
   "cell_type": "markdown",
   "metadata": {},
   "source": [
    "The input() function\n",
    "We're now going to introduce you to a completely new function, which seems to be a mirror reflection of the good old print() function.\n",
    "\n",
    "Why? Well, print() sends data to the console.\n",
    "\n",
    "The new function gets data from it.\n",
    "\n",
    "print() has no usable result. The meaning of the new function is to return a very usable result.\n",
    "\n",
    "The function is named input(). The name of the function says everything.\n",
    "\n",
    "The input() function is able to read data entered by the user and to return the same data to the running program.\n",
    "\n",
    "The program can manipulate the data, making the code truly interactive.\n",
    "\n",
    "Virtually all programs read and process data. A program which doesn't get a user's input is a deaf program.\n",
    "\n",
    "Take a look at our example:\n",
    "\n",
    "print(\"Tell me anything...\")\n",
    "anything = input()\n",
    "print(\"Hmm...\", anything, \"... Really?\")\n",
    "\n",
    "\n",
    "It shows a very simple case of using the input() function.\n",
    "\n",
    "Note:\n",
    "\n",
    "The program prompts the user to input some data from the console (most likely using a keyboard, although it is also possible to input data using voice or image);\n",
    "the input() function is invoked without arguments (this is the simplest way of using the function); the function will switch the console to input mode; you'll see a blinking cursor, and you'll be able to input some keystrokes, finishing off by hitting the Enter key; all the inputted data will be sent to your program through the function's result;\n",
    "note: you need to assign the result to a variable; this is crucial - missing out this step will cause the entered data to be lost;\n",
    "then we use the print() function to output the data we get, with some additional remarks.\n",
    "Try to run the code and let the function show you what it can do for you."
   ]
  },
  {
   "cell_type": "markdown",
   "metadata": {},
   "source": [
    "The input() function with an argument\n",
    "The input() function can do something else: it can prompt the user without any help from print().\n",
    "\n",
    "We've modified our example a bit, look at the code:\n",
    "\n",
    "anything = input(\"Tell me anything...\")\n",
    "print(\"Hmm...\", anything, \"...Really?\")\n",
    "\n",
    "\n",
    "Note:\n",
    "\n",
    "the input() function is invoked with one argument - it's a string containing a message;\n",
    "the message will be displayed on the console before the user is given an opportunity to enter anything;\n",
    "input() will then do its job.\n",
    "This variant of the input() invocation simplifies the code and makes it clearer.\n",
    "\n",
    "The result of the input() function\n",
    "We've said it already, but it must be unambiguously stated once again: the result of the input() function is a string.\n",
    "\n",
    "A string containing all the characters the user enters from the keyboard. It is not an integer or a float.\n",
    "\n",
    "This means that you mustn't use it as an argument of any arithmetic operation, e.g., you can't use this data to square it, divide it by anything, or divide anything by it.\n",
    "\n",
    "anything = input(\"Enter a number: \")\n",
    "something = anything ** 2.0\n",
    "print(anything, \"to the power of 2 is\", something)\n"
   ]
  },
  {
   "cell_type": "markdown",
   "metadata": {},
   "source": [
    "\n",
    "The input() function - prohibited operations\n",
    "Look at the code in the editor. Run it, enter any number, and press Enter.\n",
    "\n",
    "What happens?\n",
    "\n",
    "Python should have given you the following output:\n",
    "\n",
    "Traceback (most recent call last):\n",
    "File \".main.py\", line 4, in <module>\n",
    "something = anything ** 2.0\n",
    "TypeError: unsupported operand type(s) for ** or pow(): 'str' and 'float'\n",
    "output\n",
    "\n",
    "\n",
    "The last line of the sentence explains everything - you tried to apply the ** operator to 'str' (string) accompanied with 'float'.\n",
    "\n",
    "This is prohibited.\n",
    "\n",
    "This should be obvious - can you predict the value of \"to be or not to be\" raised to the power of 2?\n",
    "\n",
    "We can't. Python can't either.\n",
    "\n",
    "Have we fallen into a deadlock? Is there a solution to this issue? Of course there is."
   ]
  },
  {
   "cell_type": "code",
   "execution_count": null,
   "metadata": {},
   "outputs": [],
   "source": [
    "# Testing TypeError message.\n",
    "\n",
    "anything = input(\"Enter a number: \")\n",
    "something = anything ** 2.0\n",
    "print(anything, \"to the power of 2 is\", something)"
   ]
  },
  {
   "cell_type": "markdown",
   "metadata": {},
   "source": [
    "Type casting\n",
    "Python offers two simple functions to specify a type of data and solve this problem - here they are: int() and float().\n",
    "\n",
    "Their names are self-commenting:\n",
    "\n",
    "the int() function takes one argument (e.g., a string: int(string)) and tries to convert it into an integer; if it fails, the whole program will fail too (there is a workaround for this situation, but we'll show you this a little later);\n",
    "the float() function takes one argument (e.g., a string: float(string)) and tries to convert it into a float (the rest is the same).\n",
    "\n",
    "This is very simple and very effective. Moreover, you can invoke any of the functions by passing the input() results directly to them. There's no need to use any variable as an intermediate storage.\n",
    "\n",
    "We've implemented the idea in the editor - take a look at the code.\n",
    "\n",
    "Can you imagine how the string entered by the user flows from input() into print()?\n",
    "\n",
    "Try to run the modified code. Don't forget to enter a valid number.\n",
    "\n",
    "Check some different values, small and big, negative and positive. Zero is a good input, too."
   ]
  },
  {
   "cell_type": "code",
   "execution_count": null,
   "metadata": {},
   "outputs": [],
   "source": [
    "anything = float(input(\"Enter a number: \"))\n",
    "something = anything ** 2.0\n",
    "print(anything, \"to the power of 2 is\", something)\n"
   ]
  },
  {
   "cell_type": "markdown",
   "metadata": {},
   "source": [
    "More about input() and type casting\n",
    "Having a team consisting of the trio input()-int()-float() opens up lots of new possibilities.\n",
    "\n",
    "You'll eventually be able to write complete programs, accepting data in the form of numbers, processing them and displaying the results.\n",
    "\n",
    "Of course, these programs will be very primitive and not very usable, as they cannot make decisions, and consequently are not able to react differently to different situations.\n",
    "\n",
    "This is not really a problem, though; we'll show you how to overcome it soon.\n",
    "\n",
    "Our next example refers to the earlier program to find the length of a hypotenuse. Let's rewrite it and make it able to read the lengths of the legs from the console.\n",
    "\n",
    "Check out the editor window - this is how it looks now.\n",
    "\n",
    "The program asks the user twice for both legs' lengths, evaluates the hypotenuse and prints the result.\n",
    "\n",
    "Run it and try to input some negative values.\n",
    "\n",
    "The program - unfortunately - doesn't react to this obvious error.\n",
    "\n",
    "Let's ignore this weakness for now. We'll come back to it soon.\n",
    "\n",
    "Note that in the program that you can see in the editor, the hypo variable is used for only one purpose - to save the calculated value between the execution of the adjoining line of code.\n",
    "\n",
    "As the print() function accepts an expression as its argument, you can remove the variable from the code.\n",
    "\n",
    "Just like this:\n",
    "\n",
    "leg_a = float(input(\"Input first leg length: \"))\n",
    "leg_b = float(input(\"Input second leg length: \"))\n",
    "print(\"Hypotenuse length is\", (leg_a**2 + leg_b**2) ** .5)\n",
    "\n",
    "\n",
    "\n"
   ]
  },
  {
   "cell_type": "code",
   "execution_count": null,
   "metadata": {},
   "outputs": [],
   "source": [
    "leg_a = float(input(\"Input first leg length: \"))\n",
    "leg_b = float(input(\"Input second leg length: \"))\n",
    "hypo = (leg_a**2 + leg_b**2) ** .5\n",
    "print(\"Hypotenuse length is\", hypo)"
   ]
  },
  {
   "cell_type": "markdown",
   "metadata": {},
   "source": [
    "String operators - introduction\n",
    "It's time to return to these two arithmetic operators: + and *.\n",
    "\n",
    "We want to show you that they have a second function. They are able to do something more than just add and multiply.\n",
    "\n",
    "We've seen them in action where their arguments are numbers (floats or integers, it doesn't matter).\n",
    "\n",
    "Now we're going to show you that they can handle strings, too, albeit in a very specific way.\n",
    "\n",
    "\n",
    "Concatenation\n",
    "The + (plus) sign, when applied to two strings, becomes a concatenation operator:\n",
    "\n",
    "string + string\n",
    "\n",
    "It simply concatenates (glues) two strings into one. Of course, like its arithmetic sibling, it can be used more than once in one expression, and in such a context it behaves according to left-sided binding.\n",
    "\n",
    "In contrast to its arithmetic sibling, the concatenation operator is not commutative, i.e., \"ab\" + \"ba\" is not the same as \"ba\" + \"ab\".\n",
    "\n",
    "Don't forget - if you want the + sign to be a concatenator, not an adder, you must ensure that both its arguments are strings.\n",
    "\n",
    "You cannot mix types here.\n",
    "\n",
    "This simple program shows the + sign in its second use:\n",
    "\n",
    "fnam = input(\"May I have your first name, please? \")\n",
    "lnam = input(\"May I have your last name, please? \")\n",
    "print(\"Thank you.\")\n",
    "print(\"\\nYour name is \" + fnam + \" \" + lnam + \".\")\n",
    "\n",
    "\n",
    "Note: using + to concatenate strings lets you construct the output in a more precise way than with a pure print() function, even if enriched with the end= and sep= keyword arguments.\n",
    "\n",
    "Run the code and see if the output matches your predictions."
   ]
  },
  {
   "cell_type": "markdown",
   "metadata": {},
   "source": [
    "Replication\n",
    "The * (asterisk) sign, when applied to a string and number (or a number and string, as it remains commutative in this position) becomes a replication operator:\n",
    "\n",
    "string * number\n",
    "number * string\n",
    "\n",
    "\n",
    "It replicates the string the same number of times specified by the number.\n",
    "\n",
    "For example:\n",
    "\n",
    "\"James\" * 3 gives \"JamesJamesJames\"\n",
    "3 * \"an\" gives \"ananan\"\n",
    "5 * \"2\" (or \"2\" * 5) gives \"22222\" (not 10!)\n",
    "\n",
    "REMEMBER\n",
    "\n",
    "A number less than or equal to zero produces an empty string.\n",
    "\n",
    "\n",
    "This simple program \"draws\" a rectangle, making use of an old operator (+) in a new role:\n",
    "\n",
    "print(\"+\" + 10 * \"-\" + \"+\")\n",
    "print((\"|\" + \" \" * 10 + \"|\\n\") * 5, end=\"\")\n",
    "print(\"+\" + 10 * \"-\" + \"+\")\n",
    "\n",
    "\n",
    "Note the way in which we've used the parentheses in the second line of the code.\n",
    "\n",
    "Try practicing to create other shapes or your own artwork!"
   ]
  },
  {
   "cell_type": "markdown",
   "metadata": {},
   "source": [
    "Type conversion: str()\n",
    "You already know how to use the int() and float() functions to convert a string into a number.\n",
    "\n",
    "This type of conversion is not a one-way street. You can also convert a number into a string, which is way easier and safer - this operation is always possible.\n",
    "\n",
    "A function capable of doing that is called str():\n",
    "\n",
    "str(number)\n",
    "\n",
    "\n",
    "To be honest, it can do much more than just transform numbers into strings, but that can wait for later.\n",
    "\n",
    "\n",
    "The \"right-angle triangle\" again\n",
    "Here is our \"right-angle triangle\" program again:\n",
    "\n",
    "leg_a = float(input(\"Input first leg length: \"))\n",
    "leg_b = float(input(\"Input second leg length: \"))\n",
    "print(\"Hypotenuse length is \" + str((leg_a**2 + leg_b**2) ** .5))\n",
    "\n",
    "\n",
    "We've modified it a bit to show you how the str() function works. Thanks to this, we can pass the whole result to the print() function as one string, forgetting about the commas.\n",
    "\n",
    "\n",
    "You've made some serious strides on your way to Python programming.\n",
    "\n",
    "You already know the basic data types, and a set of fundamental operators. You know how to organize the output and how to get data from the user. These are very strong foundations for Module 3. But before we move on to the next module, let's do a few labs, and recap all that you've learned in this section.\n",
    "\n"
   ]
  },
  {
   "cell_type": "markdown",
   "metadata": {},
   "source": [
    "LAB\n",
    "\n",
    "Estimated time\n",
    "5-10 minutes\n",
    "\n",
    "Level of difficulty\n",
    "Easy\n",
    "\n",
    "Objectives\n",
    "becoming familiar with the inputting and outputting of data in Python;\n",
    "evaluating simple expressions.\n",
    "Scenario\n",
    "Your task is to complete the code in order to evaluate the results of four basic arithmetic operations.\n",
    "\n",
    "The results have to be printed to the console.\n",
    "\n",
    "You may not be able to protect the code from a user who wants to divide by zero. That's okay, don't worry about it for now.\n",
    "\n",
    "Test your code - does it produce the results you expect?\n",
    "\n",
    "We won't show you any test data - that would be too simple.\n",
    "\n",
    "\n"
   ]
  },
  {
   "cell_type": "code",
   "execution_count": null,
   "metadata": {},
   "outputs": [],
   "source": [
    "# input a float value for variable a here\n",
    "# input a float value for variable b here\n",
    "\n",
    "# output the result of addition here\n",
    "# output the result of subtraction here\n",
    "# output the result of multiplication here\n",
    "# output the result of division here\n",
    "\n",
    "print(\"\\nThat's all, folks!\")\n"
   ]
  },
  {
   "cell_type": "markdown",
   "metadata": {},
   "source": [
    "LAB\n",
    "\n",
    "Estimated time\n",
    "20 minutes\n",
    "\n",
    "Level of difficulty\n",
    "Intermediate\n",
    "\n",
    "Objectives\n",
    "becoming familiar with the concept of numbers, operators and arithmetic operations in Python;\n",
    "understanding the precedence and associativity of Python operators, as well as the proper use of parentheses.\n",
    "Scenario\n",
    "Your task is to complete the code in order to evaluate the following expression:\n",
    "\n",
    "\n",
    "The result should be assigned to y. Be careful - watch the operators and keep their priorities in mind. Don't hesitate to use as many parentheses as you need.\n",
    "\n",
    "You can use additional variables to shorten the expression (but it's not necessary). Test your code carefully.\n",
    "\n",
    "\n",
    "Test Data\n",
    "Sample input: 1\n",
    "\n",
    "Expected output:\n",
    "\n",
    "y = 0.6000000000000001\n",
    "\n",
    "Sample input: 10\n",
    "\n",
    "Expected output:\n",
    "\n",
    "y = 0.09901951266867294\n",
    "\n",
    "Sample input: 100\n",
    "\n",
    "Expected output:\n",
    "\n",
    "y = 0.009999000199950014\n",
    "\n",
    "Sample input: -5\n",
    "\n",
    "Expected output:\n",
    "\n",
    "y = -0.19258202567760344\n",
    "\n"
   ]
  },
  {
   "cell_type": "code",
   "execution_count": null,
   "metadata": {},
   "outputs": [],
   "source": [
    "x = float(input(\"Enter value for x: \"))\n",
    "\n",
    "# Write your code here.\n",
    "\n",
    "print(\"y =\", y)\n"
   ]
  },
  {
   "cell_type": "markdown",
   "metadata": {},
   "source": [
    "Estimated time\n",
    "15-20 minutes\n",
    "\n",
    "Level of difficulty\n",
    "Easy\n",
    "\n",
    "Objectives\n",
    "improving the ability to use numbers, operators, and arithmetic operations in Python;\n",
    "using the print() function's formatting capabilities;\n",
    "learning to express everyday-life phenomena in terms of programming language.\n",
    "Scenario\n",
    "Your task is to prepare a simple code able to evaluate the end time of a period of time, given as a number of minutes (it could be arbitrarily large). The start time is given as a pair of hours (0..23) and minutes (0..59). The result has to be printed to the console.\n",
    "\n",
    "For example, if an event starts at 12:17 and lasts 59 minutes, it will end at 13:16.\n",
    "\n",
    "Don't worry about any imperfections in your code - it's okay if it accepts an invalid time - the most important thing is that the code produce valid results for valid input data.\n",
    "\n",
    "Test your code carefully. Hint: using the % operator may be the key to success.\n",
    "\n",
    "Test Data\n",
    "Sample input:\n",
    "12\n",
    "17\n",
    "59\n",
    "\n",
    "Expected output: 13:16\n",
    "\n",
    "\n",
    "Sample input:\n",
    "23\n",
    "58\n",
    "642\n",
    "\n",
    "Expected output: 10:40\n",
    "\n",
    "\n",
    "Sample input:\n",
    "0\n",
    "1\n",
    "2939\n",
    "\n",
    "Expected output: 1:0\n",
    "\n",
    "\n"
   ]
  },
  {
   "cell_type": "code",
   "execution_count": null,
   "metadata": {},
   "outputs": [],
   "source": [
    "hour = int(input(\"Starting time (hours): \"))\n",
    "mins = int(input(\"Starting time (minutes): \"))\n",
    "dura = int(input(\"Event duration (minutes): \"))\n",
    "\n",
    "# Write your code here.\n"
   ]
  },
  {
   "cell_type": "markdown",
   "metadata": {},
   "source": [
    "Key takeaways\n",
    "\n",
    "1. The print() function sends data to the console, while the input() function gets data from the console.\n",
    "\n",
    "2. The input() function comes with an optional parameter: the prompt string. It allows you to write a message before the user input, e.g.:\n",
    "\n",
    "name = input(\"Enter your name: \")\n",
    "print(\"Hello, \" + name + \". Nice to meet you!\")\n",
    "\n",
    "\n",
    "3. When the input() function is called, the program's flow is stopped, the prompt symbol keeps blinking (it prompts the user to take action when the console is switched to input mode) until the user has entered an input and/or pressed the Enter key.\n",
    "\n",
    "NOTE\n",
    "\n",
    "You can test the functionality of the input() function in its full scope locally on your machine. For resource optimization reasons, we have limited the maximum program execution time in Edube to a few seconds. Go to Sandbox, copy-paste the above snippet, run the program, and do nothing - just wait a few seconds to see what happens. Your program should be stopped automatically after a short moment. Now open IDLE, and run the same program there - can you see the difference?\n",
    "\n",
    "Tip: the above-mentioned feature of the input() function can be used to prompt the user to end a program. Look at the code below:\n",
    "\n",
    "name = input(\"Enter your name: \")\n",
    "print(\"Hello, \" + name + \". Nice to meet you!\")\n",
    "\n",
    "print(\"\\nPress Enter to end the program.\")\n",
    "input()\n",
    "print(\"THE END.\")\n",
    "\n",
    "\n",
    "3. The result of the input() function is a string. You can add strings to each other using the concatenation (+) operator. Check out this code:\n",
    "\n",
    "num_1 = input(\"Enter the first number: \") # Enter 12\n",
    "num_2 = input(\"Enter the second number: \") # Enter 21\n",
    "\n",
    "print(num_1 + num_2) # the program returns 1221\n",
    "\n",
    "\n",
    "4. You can also multiply (* - replication) strings, e.g.:\n",
    "\n",
    "my_input = input(\"Enter something: \") # Example input: hello\n",
    "print(my_input * 3) # Expected output: hellohellohello\n",
    "\n",
    "\n",
    "\n",
    "\n",
    "\n",
    "Exercise 1\n",
    "\n",
    "What is the output of the following snippet?\n",
    "\n",
    "x = int(input(\"Enter a number: \")) # The user enters 2\n",
    "print(x * \"5\")\n",
    "\n",
    "\n",
    "Check\n",
    "55\n",
    "\n",
    "Exercise 2\n",
    "\n",
    "What is the expected output of the following snippet?\n",
    "\n",
    "x = input(\"Enter a number: \") # The user enters 2\n",
    "print(type(x))\n",
    "\n",
    "\n",
    "Check\n",
    "<class 'str'>"
   ]
  },
  {
   "cell_type": "markdown",
   "metadata": {
    "id": "_kVzTKAxlzr0"
   },
   "source": [
    "# if\n",
    "\n",
    "If statements:"
   ]
  },
  {
   "cell_type": "code",
   "execution_count": null,
   "metadata": {
    "id": "NsHmJvhClzr0",
    "outputId": "a5923170-f1b6-4797-d0ba-facefe2a0d6c"
   },
   "outputs": [
    {
     "name": "stdout",
     "output_type": "stream",
     "text": [
      "8\n",
      "pol\n"
     ]
    }
   ],
   "source": [
    "x=int(input())\n",
    "if x>0:\n",
    "    print('pol')"
   ]
  },
  {
   "cell_type": "code",
   "execution_count": null,
   "metadata": {
    "id": "2_NC0BD7lzr0",
    "outputId": "c47833ca-1b40-4ad2-d613-36954c9a136b"
   },
   "outputs": [
    {
     "name": "stdout",
     "output_type": "stream",
     "text": [
      "x is 3\n"
     ]
    }
   ],
   "source": [
    "x = 3\n",
    "y = 2\n",
    "z = 1\n",
    "if x == y:\n",
    "    print(\"Hello\")\n",
    "elif x == z:\n",
    "    print(\"Goodbye\")\n",
    "elif x == 3:\n",
    "    print(\"x is 3\")\n",
    "else:\n",
    "    print(\"???\")"
   ]
  },
  {
   "cell_type": "code",
   "execution_count": null,
   "metadata": {
    "id": "V965CsTilzr0"
   },
   "outputs": [],
   "source": [
    "if 1 == 2:\n",
    "    print(\"this runs\")\n",
    "print(\"this runs too\")"
   ]
  },
  {
   "cell_type": "markdown",
   "metadata": {
    "id": "13ywLuoPlzr0"
   },
   "source": [
    "**For loops**\n"
   ]
  },
  {
   "cell_type": "code",
   "execution_count": null,
   "metadata": {
    "id": "eg_wxuHLlzr1"
   },
   "outputs": [],
   "source": [
    "print(\"loop 1\")\n",
    "for i in range(5): # default - start at 0, increment by 1\n",
    "    print(i)\n",
    "    \n",
    "print(\"\\nloop 2\")\n",
    "for i in range(10, 2, -2): # inputs are start, stop, step\n",
    "    print(i)\n"
   ]
  },
  {
   "cell_type": "markdown",
   "metadata": {
    "id": "qgsUIBV6lzr1"
   },
   "source": [
    "**while loops**"
   ]
  },
  {
   "cell_type": "code",
   "execution_count": null,
   "metadata": {
    "id": "nePdeQ7rlzr1"
   },
   "outputs": [],
   "source": [
    "i = 1\n",
    "while i < 100:\n",
    "    print(i**2)\n",
    "    i += i**2  # a += b is short for a = a + b\n"
   ]
  },
  {
   "cell_type": "markdown",
   "metadata": {
    "id": "VR-Orkv7lzr1"
   },
   "source": [
    "**continue** - skip the rest of a loop\n",
    "\n",
    "**break** - exit from the loop"
   ]
  },
  {
   "cell_type": "code",
   "execution_count": null,
   "metadata": {
    "id": "eeHB8Ep8lzr1"
   },
   "outputs": [],
   "source": [
    "for num in range(2, 10):\n",
    "    if num % 2 == 0:\n",
    "        continue # this jumps us back to the top\n",
    "    print(f\"Found {num}, an odd number\")"
   ]
  },
  {
   "cell_type": "code",
   "execution_count": null,
   "metadata": {
    "id": "9XIJ-syrlzr1"
   },
   "outputs": [],
   "source": [
    "n = 64\n",
    "for x in range(2, n):\n",
    "    if n % x == 0: # if n divisible by x\n",
    "        print(f'{n} equals {x} * {n // x}')\n",
    "        break"
   ]
  },
  {
   "cell_type": "code",
   "execution_count": null,
   "metadata": {
    "id": "-MYOLcJhlzr1"
   },
   "outputs": [],
   "source": [
    "for i in range(5):\n",
    "    for j in range(5*i):\n",
    "        if j == 10:\n",
    "            print(j)\n",
    "            break   \n",
    "    #break exits to here"
   ]
  },
  {
   "cell_type": "markdown",
   "metadata": {
    "id": "AHgQZ5G3lzr2"
   },
   "source": [
    "**pass** does nothing"
   ]
  },
  {
   "cell_type": "code",
   "execution_count": null,
   "metadata": {
    "id": "gQp2TuUglzr2"
   },
   "outputs": [],
   "source": [
    "if False:\n",
    "    pass #do nothing\n",
    "else:\n",
    "    print('True!')"
   ]
  }
 ],
 "metadata": {
  "colab": {
   "name": "Первая лекция Python.ipynb",
   "provenance": []
  },
  "kernelspec": {
   "display_name": "Python 3",
   "language": "python",
   "name": "python3"
  },
  "language_info": {
   "codemirror_mode": {
    "name": "ipython",
    "version": 3
   },
   "file_extension": ".py",
   "mimetype": "text/x-python",
   "name": "python",
   "nbconvert_exporter": "python",
   "pygments_lexer": "ipython3",
   "version": "3.8.3"
  }
 },
 "nbformat": 4,
 "nbformat_minor": 1
}

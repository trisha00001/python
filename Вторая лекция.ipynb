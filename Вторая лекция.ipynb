{
 "cells": [
  {
   "cell_type": "markdown",
   "metadata": {},
   "source": [
    "https://us02web.zoom.us/rec/share/IzSwwQKlgwA1l2YZ8pa5ziE_oEmVjlD3S4dM-C5TwiJRNlBElaE2djKg0-Nad9du.kwyX5fbRlvTTJDHx\n",
    "(Код доступа: r!$+LSX2)"
   ]
  },
  {
   "cell_type": "markdown",
   "metadata": {},
   "source": [
    "https://sites.google.com/d/1GU1J4RHEc7LCD7e40oDWEh15vLYz6MTk/p/1K_i7eeVRPAt4oCI5w97XWOklqTEZlaJO/edit"
   ]
  },
  {
   "cell_type": "markdown",
   "metadata": {},
   "source": [
    "- [Повторение](#t1)\n",
    "    - [Типы данных](#p1)\n",
    "- [Функции](#p0)\n",
    "    - [Встроенные функции](#t2)\n",
    "    - [input()](#t22)\n",
    "    - [print()](#p1)\n",
    "    - [String](#p2)\n",
    "    - [Стиль C](#p10)\n",
    "    - [format()](#p9)\n",
    "    - [f- строки](#p11)\n",
    "- [Условный оператор](#t3)\n",
    "    - [Логические выражения](#p3)\n",
    "    - [if else](#p4)\n",
    "- [Циклы](#t4)"
   ]
  },
  {
   "cell_type": "markdown",
   "metadata": {},
   "source": [
    "<a id='t1'></a>\n",
    "# Повторение"
   ]
  },
  {
   "cell_type": "markdown",
   "metadata": {},
   "source": [
    "Для подготовки к экзамену Рон каждый день учит x заклинаний, а Гермиона на y заклинаний больше. Сколько заклинаний они выучат вместе через n дней.\n",
    "\n",
    "В первой строке вводится x – количество заклинаний, которые учит Рон.\n",
    "\n",
    "Во второй строке y – на сколько заклинаний больше учит Гермиона.\n",
    "\n",
    "Для примера:\n",
    "<pre>\n",
    "Ввод\tРезультат \n",
    "<pre>5     220 \n",
    "12\n",
    "10\n"
   ]
  },
  {
   "cell_type": "code",
   "execution_count": 2,
   "metadata": {},
   "outputs": [
    {
     "name": "stdout",
     "output_type": "stream",
     "text": [
      "5\n",
      "12\n",
      "10\n",
      "220\n"
     ]
    }
   ],
   "source": [
    "# ваш код здесь\n",
    "x=int(input())\n",
    "y=int(input())\n",
    "n=int(input())\n",
    "print(x*n+(y+x)*n)"
   ]
  },
  {
   "cell_type": "markdown",
   "metadata": {},
   "source": [
    "<a id='p1'></a>\n",
    "### Типы данных"
   ]
  },
  {
   "cell_type": "code",
   "execution_count": 4,
   "metadata": {},
   "outputs": [
    {
     "data": {
      "text/plain": [
       "int"
      ]
     },
     "execution_count": 4,
     "metadata": {},
     "output_type": "execute_result"
    }
   ],
   "source": [
    "x = 10        # integer.\n",
    "\n",
    "type(x)"
   ]
  },
  {
   "cell_type": "code",
   "execution_count": 5,
   "metadata": {},
   "outputs": [
    {
     "data": {
      "text/plain": [
       "float"
      ]
     },
     "execution_count": 5,
     "metadata": {},
     "output_type": "execute_result"
    }
   ],
   "source": [
    "x = 10.5        #  float.\n",
    "\n",
    "type(x)"
   ]
  },
  {
   "cell_type": "code",
   "execution_count": 8,
   "metadata": {},
   "outputs": [
    {
     "data": {
      "text/plain": [
       "str"
      ]
     },
     "execution_count": 8,
     "metadata": {},
     "output_type": "execute_result"
    }
   ],
   "source": [
    "x = \"Buck\"    # string.\n",
    "\n",
    "type(x)"
   ]
  },
  {
   "cell_type": "markdown",
   "metadata": {},
   "source": [
    "<a id='p0'></a>\n",
    "# Функции"
   ]
  },
  {
   "cell_type": "markdown",
   "metadata": {},
   "source": [
    "Функция (в данном контексте) — это отдельная часть компьютерного кода, способная:\n",
    "\n",
    "- вызвать какой-либо эффект (например, отправить текст на терминал, создать файл, нарисовать изображение, воспроизвести звук и т. д.)\n",
    "- вычислить значение (модуль, квадратный корень);"
   ]
  },
  {
   "cell_type": "markdown",
   "metadata": {},
   "source": [
    "function_name(argument)"
   ]
  },
  {
   "cell_type": "markdown",
   "metadata": {},
   "source": [
    "Если вы хотите передать функции один или несколько аргументов, вы помещаете их в круглые скобки. "
   ]
  },
  {
   "cell_type": "markdown",
   "metadata": {},
   "source": [
    "Несмотря на количество необходимых/предоставленных аргументов, функции Python настоятельно требуют наличия пары круглых скобок — открывающей и закрывающей соответственно.\n"
   ]
  },
  {
   "cell_type": "markdown",
   "metadata": {},
   "source": [
    "Если вы собираетесь использовать функцию, которая не принимает никаких аргументов, вам все равно понадобятся круглые скобки."
   ]
  },
  {
   "cell_type": "markdown",
   "metadata": {},
   "source": [
    "<a id='t2'></a>\n",
    "# Встроенные функции"
   ]
  },
  {
   "cell_type": "markdown",
   "metadata": {},
   "source": [
    "1. Функции преобразования типов и классы: coerce, str, repr, int, list, tuple,\n",
    "long, float, complex, dict, super, file, bool, object\n",
    "2. Числовые и строковые функции: abs, divmod, ord, pow, len, chr, unichr, hex,\n",
    "oct, cmp, round, unicode\n",
    "3. Функции обработки данных: apply, map, filter, reduce, zip, range, xrange, max,\n",
    "min, iter, enumerate, sum\n",
    "4. Функции определения свойств: hash, id, callable, issubclass, isinstance,\n",
    "type\n",
    "5. Функции для доступа к внутренним структурам: locals, globals, vars, intern,\n",
    "dir\n",
    "6. Функции компиляции и исполнения: eval, execfile, reload, __import__,\n",
    "compile\n",
    "7. Функции ввода-вывода: input, raw_input, open\n",
    "8. Функции для работы с атрибутами: getattr, setattr, delattr, hasattr\n",
    "9. Функции-\"украшатели\" методов классов: staticmethod, classmethod, property\n",
    "10. Прочие функции: buffer, slice"
   ]
  },
  {
   "cell_type": "code",
   "execution_count": 3,
   "metadata": {},
   "outputs": [
    {
     "data": {
      "text/plain": [
       "23"
      ]
     },
     "execution_count": 3,
     "metadata": {},
     "output_type": "execute_result"
    }
   ],
   "source": [
    "int(23.5)\n"
   ]
  },
  {
   "cell_type": "code",
   "execution_count": 4,
   "metadata": {},
   "outputs": [
    {
     "data": {
      "text/plain": [
       "12.345"
      ]
     },
     "execution_count": 4,
     "metadata": {},
     "output_type": "execute_result"
    }
   ],
   "source": [
    "float('12.345')"
   ]
  },
  {
   "cell_type": "markdown",
   "metadata": {},
   "source": [
    "<a id='t22'></a>\n",
    "# input() "
   ]
  },
  {
   "cell_type": "markdown",
   "metadata": {},
   "source": [
    "Функция input() способна считывать данные, введенные пользователем, и возвращать те же данные запущенной программе."
   ]
  },
  {
   "cell_type": "code",
   "execution_count": 5,
   "metadata": {},
   "outputs": [
    {
     "name": "stdout",
     "output_type": "stream",
     "text": [
      "Скажите мне что- нибудь...\n",
      "uoiuoiu\n",
      "Hmm... uoiuoiu ... Правда?\n"
     ]
    }
   ],
   "source": [
    "print(\"Скажите мне что- нибудь...\")\n",
    "anything = input()\n",
    "print(\"Hmm...\", anything, \"... Правда?\")"
   ]
  },
  {
   "cell_type": "code",
   "execution_count": 6,
   "metadata": {},
   "outputs": [
    {
     "name": "stdout",
     "output_type": "stream",
     "text": [
      "Введите число: 5\n"
     ]
    },
    {
     "ename": "TypeError",
     "evalue": "unsupported operand type(s) for ** or pow(): 'str' and 'float'",
     "output_type": "error",
     "traceback": [
      "\u001b[1;31m---------------------------------------------------------------------------\u001b[0m",
      "\u001b[1;31mTypeError\u001b[0m                                 Traceback (most recent call last)",
      "\u001b[1;32m<ipython-input-6-6967c36b6454>\u001b[0m in \u001b[0;36m<module>\u001b[1;34m\u001b[0m\n\u001b[0;32m      1\u001b[0m \u001b[0manything\u001b[0m \u001b[1;33m=\u001b[0m \u001b[0minput\u001b[0m\u001b[1;33m(\u001b[0m\u001b[1;34m\"Введите число: \"\u001b[0m\u001b[1;33m)\u001b[0m\u001b[1;33m\u001b[0m\u001b[1;33m\u001b[0m\u001b[0m\n\u001b[1;32m----> 2\u001b[1;33m \u001b[0msomething\u001b[0m \u001b[1;33m=\u001b[0m \u001b[0manything\u001b[0m \u001b[1;33m**\u001b[0m \u001b[1;36m2.0\u001b[0m\u001b[1;33m\u001b[0m\u001b[1;33m\u001b[0m\u001b[0m\n\u001b[0m\u001b[0;32m      3\u001b[0m \u001b[0mprint\u001b[0m\u001b[1;33m(\u001b[0m\u001b[0manything\u001b[0m\u001b[1;33m,\u001b[0m \u001b[1;34m\"во второй степени\"\u001b[0m\u001b[1;33m,\u001b[0m \u001b[0msomething\u001b[0m\u001b[1;33m)\u001b[0m\u001b[1;33m\u001b[0m\u001b[1;33m\u001b[0m\u001b[0m\n",
      "\u001b[1;31mTypeError\u001b[0m: unsupported operand type(s) for ** or pow(): 'str' and 'float'"
     ]
    }
   ],
   "source": [
    "anything = input(\"Введите число: \")\n",
    "something = anything ** 2.0\n",
    "print(anything, \"во второй степени\", something)"
   ]
  },
  {
   "cell_type": "code",
   "execution_count": 7,
   "metadata": {},
   "outputs": [
    {
     "name": "stdout",
     "output_type": "stream",
     "text": [
      "Enter a number: 5\n",
      "5.0 во второй степени 25.0\n"
     ]
    }
   ],
   "source": [
    "anything = float(input(\"Enter a number: \"))\n",
    "something = anything ** 2.0\n",
    "print(anything, \"во второй степени\", something)\n"
   ]
  },
  {
   "cell_type": "markdown",
   "metadata": {},
   "source": [
    "<a id='p1'></a>\n",
    "# print()"
   ]
  },
  {
   "cell_type": "code",
   "execution_count": 8,
   "metadata": {},
   "outputs": [
    {
     "name": "stdout",
     "output_type": "stream",
     "text": [
      "Hello, World!\n"
     ]
    }
   ],
   "source": [
    "# print с одним параметром\n",
    "print(\"Hello, World!\")"
   ]
  },
  {
   "cell_type": "code",
   "execution_count": 9,
   "metadata": {},
   "outputs": [
    {
     "name": "stdout",
     "output_type": "stream",
     "text": [
      "The itsy bitsy spider climbed up the waterspout.\n",
      "Down came the rain and washed the spider out.\n"
     ]
    }
   ],
   "source": [
    "print(\"The itsy bitsy spider climbed up the waterspout.\")\n",
    "print(\"Down came the rain and washed the spider out.\")"
   ]
  },
  {
   "cell_type": "code",
   "execution_count": 10,
   "metadata": {},
   "outputs": [
    {
     "name": "stdout",
     "output_type": "stream",
     "text": [
      "The itsy bitsy spider climbed up the waterspout.\n",
      "\n",
      "Down came the rain and washed the spider out.\n"
     ]
    }
   ],
   "source": [
    "# пустая строка\n",
    "print(\"The itsy bitsy spider climbed up the waterspout.\")\n",
    "print()\n",
    "print(\"Down came the rain and washed the spider out.\")\n"
   ]
  },
  {
   "cell_type": "markdown",
   "metadata": {},
   "source": [
    "Обратная косая черта (\\) имеет особое значение при использовании внутри строк — это называется escape-символом."
   ]
  },
  {
   "cell_type": "code",
   "execution_count": 11,
   "metadata": {},
   "outputs": [
    {
     "name": "stdout",
     "output_type": "stream",
     "text": [
      "The itsy bitsy spider\n",
      "climbed up the waterspout.\n",
      "\n",
      "Down came the rain\n",
      "and washed the spider out.\n"
     ]
    }
   ],
   "source": [
    "# переход на новую стороку\n",
    "print(\"The itsy bitsy spider\\nclimbed up the waterspout.\")\n",
    "print()\n",
    "print(\"Down came the rain\\nand washed the spider out.\")\n"
   ]
  },
  {
   "cell_type": "markdown",
   "metadata": {},
   "source": [
    "Соглашение :\n",
    "\n",
    "1. Если вы хотите поставить внутри строки только одну обратную косую черту, не забывайте о ее экранирующей природе — вам придется удвоить ее, например, такой вызов вызовет ошибку:\n",
    "\n",
    "Распечатать(\"\\\")\n",
    "\n",
    "\n",
    "в то время как этот не будет:\n",
    "\n",
    "Распечатать(\"\\\\\")\n",
    "\n",
    "\n",
    "2. Не все escape-пары (обратная косая черта в сочетании с другим символом) что-то значат."
   ]
  },
  {
   "cell_type": "code",
   "execution_count": 12,
   "metadata": {},
   "outputs": [
    {
     "ename": "SyntaxError",
     "evalue": "EOL while scanning string literal (<ipython-input-12-dff1232de400>, line 1)",
     "output_type": "error",
     "traceback": [
      "\u001b[1;36m  File \u001b[1;32m\"<ipython-input-12-dff1232de400>\"\u001b[1;36m, line \u001b[1;32m1\u001b[0m\n\u001b[1;33m    print(\"\\\")\u001b[0m\n\u001b[1;37m              ^\u001b[0m\n\u001b[1;31mSyntaxError\u001b[0m\u001b[1;31m:\u001b[0m EOL while scanning string literal\n"
     ]
    }
   ],
   "source": [
    "print(\"\\\")"
   ]
  },
  {
   "cell_type": "code",
   "execution_count": 4,
   "metadata": {},
   "outputs": [
    {
     "name": "stdout",
     "output_type": "stream",
     "text": [
      "\\\n"
     ]
    }
   ],
   "source": [
    "print(\"\\\\\")"
   ]
  },
  {
   "cell_type": "code",
   "execution_count": 13,
   "metadata": {},
   "outputs": [
    {
     "name": "stdout",
     "output_type": "stream",
     "text": [
      "C:\\Python32\\Lib\n"
     ]
    }
   ],
   "source": [
    "print(\"C:\\\\Python32\\\\Lib\")"
   ]
  },
  {
   "cell_type": "code",
   "execution_count": 14,
   "metadata": {},
   "outputs": [
    {
     "name": "stdout",
     "output_type": "stream",
     "text": [
      "g\n"
     ]
    }
   ],
   "source": [
    "print('g')"
   ]
  },
  {
   "cell_type": "code",
   "execution_count": 15,
   "metadata": {},
   "outputs": [
    {
     "name": "stdout",
     "output_type": "stream",
     "text": [
      "h\n"
     ]
    }
   ],
   "source": [
    "print(\"h\")"
   ]
  },
  {
   "cell_type": "code",
   "execution_count": 16,
   "metadata": {},
   "outputs": [
    {
     "name": "stdout",
     "output_type": "stream",
     "text": [
      "h\n"
     ]
    }
   ],
   "source": [
    "print('''h''')"
   ]
  },
  {
   "cell_type": "code",
   "execution_count": 11,
   "metadata": {},
   "outputs": [
    {
     "name": "stdout",
     "output_type": "stream",
     "text": [
      "Привет, \" мне нужна двойная кавычка\n"
     ]
    }
   ],
   "source": [
    "print('Привет, \" мне нужна двойная кавычка')"
   ]
  },
  {
   "cell_type": "code",
   "execution_count": 18,
   "metadata": {},
   "outputs": [
    {
     "ename": "SyntaxError",
     "evalue": "invalid syntax (<ipython-input-18-ee6493601c22>, line 1)",
     "output_type": "error",
     "traceback": [
      "\u001b[1;36m  File \u001b[1;32m\"<ipython-input-18-ee6493601c22>\"\u001b[1;36m, line \u001b[1;32m1\u001b[0m\n\u001b[1;33m    print(\"Привет, \" мне нужна двойная кавычка\")\u001b[0m\n\u001b[1;37m                     ^\u001b[0m\n\u001b[1;31mSyntaxError\u001b[0m\u001b[1;31m:\u001b[0m invalid syntax\n"
     ]
    }
   ],
   "source": [
    "print(\"Привет, \" мне нужна двойная кавычка\")"
   ]
  },
  {
   "cell_type": "code",
   "execution_count": 9,
   "metadata": {},
   "outputs": [
    {
     "name": "stdout",
     "output_type": "stream",
     "text": [
      "Привет, \" мне нужен слэш \n"
     ]
    }
   ],
   "source": [
    "print(\"Привет, \\\" мне нужна двойная кавычка\")"
   ]
  },
  {
   "cell_type": "markdown",
   "metadata": {},
   "source": [
    "Передача нескольких аргументов"
   ]
  },
  {
   "cell_type": "markdown",
   "metadata": {},
   "source": [
    "- позиционный способом ( значение аргумента определяется его положением)"
   ]
  },
  {
   "cell_type": "code",
   "execution_count": 19,
   "metadata": {},
   "outputs": [
    {
     "name": "stdout",
     "output_type": "stream",
     "text": [
      "T c t.\n"
     ]
    }
   ],
   "source": [
    "print(\"T\" , \"c\" , \"t.\")\n"
   ]
  },
  {
   "cell_type": "code",
   "execution_count": 20,
   "metadata": {},
   "outputs": [
    {
     "name": "stdout",
     "output_type": "stream",
     "text": [
      "This is HEX representation\n"
     ]
    }
   ],
   "source": [
    "print(\"This is \\x48\\x45\\x58 representation\")\n"
   ]
  },
  {
   "cell_type": "code",
   "execution_count": 21,
   "metadata": {},
   "outputs": [
    {
     "name": "stdout",
     "output_type": "stream",
     "text": [
      "My name is Python. Monty Python.\n"
     ]
    }
   ],
   "source": [
    "print(\"My name is\", \"Python.\", end=\" \")\n",
    "print(\"Monty Python.\")"
   ]
  },
  {
   "cell_type": "code",
   "execution_count": 23,
   "metadata": {},
   "outputs": [
    {
     "name": "stdout",
     "output_type": "stream",
     "text": [
      "My name isMonty Python.\n"
     ]
    }
   ],
   "source": [
    "print(\"My name is\", end=\"\")\n",
    "print(\"Monty Python.\")"
   ]
  },
  {
   "cell_type": "code",
   "execution_count": 15,
   "metadata": {},
   "outputs": [
    {
     "name": "stdout",
     "output_type": "stream",
     "text": [
      "My-name-is-Monty-Python.\n"
     ]
    }
   ],
   "source": [
    "print(\"My\", \"name\", \"is\", \"Monty\", \"Python.\", sep=\"-\")\n"
   ]
  },
  {
   "cell_type": "code",
   "execution_count": 24,
   "metadata": {},
   "outputs": [
    {
     "name": "stdout",
     "output_type": "stream",
     "text": [
      "1 2 3 4\n",
      "1*2*3*4\n",
      "1#2#3#4&"
     ]
    }
   ],
   "source": [
    "print(1, 2, 3, 4)\n",
    "print(1, 2, 3, 4, sep='*')\n",
    "print(1, 2, 3, 4, sep='#', end='&')\n"
   ]
  },
  {
   "cell_type": "code",
   "execution_count": 25,
   "metadata": {},
   "outputs": [
    {
     "name": "stdout",
     "output_type": "stream",
     "text": [
      "My_name_is*Monty*Python.*\n"
     ]
    }
   ],
   "source": [
    "print(\"My\", \"name\", \"is\", sep=\"_\", end=\"*\")\n",
    "print(\"Monty\", \"Python.\", sep=\"*\", end=\"*\\n\")\n"
   ]
  },
  {
   "cell_type": "markdown",
   "metadata": {},
   "source": [
    "### Задание "
   ]
  },
  {
   "cell_type": "code",
   "execution_count": null,
   "metadata": {},
   "outputs": [],
   "source": [
    "#Поправьте код так, чтоб вывело \n",
    "#Programming***Essentials***in...Python\n",
    "print(\"Programming\",\"Essentials\",\"in\")\n",
    "print(\"Python\")\n"
   ]
  },
  {
   "cell_type": "code",
   "execution_count": 26,
   "metadata": {},
   "outputs": [
    {
     "name": "stdout",
     "output_type": "stream",
     "text": [
      "Programming***Essentials***in...Python\n"
     ]
    }
   ],
   "source": [
    "print(\"Programming\",\"Essentials\",\"in\", sep = \"***\" , end = \"...\")\n",
    "\n",
    "print(\"Python\")\n"
   ]
  },
  {
   "cell_type": "code",
   "execution_count": 27,
   "metadata": {
    "scrolled": true
   },
   "outputs": [
    {
     "name": "stdout",
     "output_type": "stream",
     "text": [
      "gk\n"
     ]
    }
   ],
   "source": [
    "print('g'+'k')"
   ]
  },
  {
   "cell_type": "code",
   "execution_count": 28,
   "metadata": {},
   "outputs": [
    {
     "name": "stdout",
     "output_type": "stream",
     "text": [
      "hhhh\n"
     ]
    }
   ],
   "source": [
    "print(2*'hh')"
   ]
  },
  {
   "cell_type": "markdown",
   "metadata": {},
   "source": [
    "### Задание \n",
    "Вывести строку\n",
    "I'm Monty Python."
   ]
  },
  {
   "cell_type": "code",
   "execution_count": 30,
   "metadata": {},
   "outputs": [
    {
     "name": "stdout",
     "output_type": "stream",
     "text": [
      "I'm Monty Python.\n"
     ]
    }
   ],
   "source": [
    "# ваш код\n",
    "print(\"I'm Monty Python.\")"
   ]
  },
  {
   "cell_type": "markdown",
   "metadata": {},
   "source": [
    "### Задание \n",
    "Вывести строку\n",
    "\n",
    "\"I'm\" <br>\n",
    "\"\"learning\"\" <br>\n",
    "\"\"\"Python\"\"\"<br>"
   ]
  },
  {
   "cell_type": "code",
   "execution_count": 35,
   "metadata": {},
   "outputs": [
    {
     "name": "stdout",
     "output_type": "stream",
     "text": [
      "\"I'm\"\n",
      "\"learning\"\" \n",
      "\"\"\"Python\"\"\"\n"
     ]
    }
   ],
   "source": [
    "print(\"\\\"I'm\\\"\")\n",
    "print(\"\\\"learning\\\"\\\" \")\n",
    "print(\"\\\"\\\"\\\"Python\\\"\\\"\\\"\")"
   ]
  },
  {
   "cell_type": "code",
   "execution_count": null,
   "metadata": {},
   "outputs": [],
   "source": [
    "# ваш код\n"
   ]
  },
  {
   "cell_type": "markdown",
   "metadata": {},
   "source": [
    "<a id='p2'></a>\n",
    "#  String"
   ]
  },
  {
   "cell_type": "markdown",
   "metadata": {},
   "source": [
    " Операторы + и *"
   ]
  },
  {
   "cell_type": "code",
   "execution_count": 36,
   "metadata": {},
   "outputs": [
    {
     "name": "stdout",
     "output_type": "stream",
     "text": [
      "ab\n",
      "aaa\n"
     ]
    }
   ],
   "source": [
    "print('a'+'b')\n",
    "print(3*'a')"
   ]
  },
  {
   "cell_type": "code",
   "execution_count": 37,
   "metadata": {},
   "outputs": [
    {
     "name": "stdout",
     "output_type": "stream",
     "text": [
      "May I have your first name, please? jh\n",
      "May I have your last name, please? jhk\n",
      "Thank you.\n",
      "\n",
      "Your name is jh jhk.\n"
     ]
    }
   ],
   "source": [
    "fnam = input(\"May I have your first name, please? \")\n",
    "lnam = input(\"May I have your last name, please? \")\n",
    "print(\"Thank you.\")\n",
    "print(\"\\nYour name is \" + fnam + \" \" + lnam + \".\")"
   ]
  },
  {
   "cell_type": "code",
   "execution_count": 38,
   "metadata": {},
   "outputs": [
    {
     "name": "stdout",
     "output_type": "stream",
     "text": [
      "+----------+\n",
      "|          |\n",
      "|          |\n",
      "|          |\n",
      "|          |\n",
      "|          |\n",
      "+----------+\n"
     ]
    }
   ],
   "source": [
    "print(\"+\" + 10 * \"-\" + \"+\")\n",
    "print((\"|\" + \" \" * 10 + \"|\\n\") * 5, end=\"\")\n",
    "print(\"+\" + 10 * \"-\" + \"+\")"
   ]
  },
  {
   "cell_type": "markdown",
   "metadata": {},
   "source": [
    "str(number) - перевод в строку"
   ]
  },
  {
   "cell_type": "code",
   "execution_count": null,
   "metadata": {},
   "outputs": [],
   "source": [
    "leg_a = float(input(\"Input first leg length: \"))\n",
    "leg_b = float(input(\"Input second leg length: \"))\n",
    "print(\"Hypotenuse length is \" + str((leg_a**2 + leg_b**2) ** .5))"
   ]
  },
  {
   "cell_type": "markdown",
   "metadata": {},
   "source": [
    "Напишите программу Python для ввода двух целых чисел в одну строку. И вывода произведения этих чисел\n",
    "\n",
    "- Входные числа: 2 5\n",
    "\n",
    "- Результат:  10 "
   ]
  },
  {
   "cell_type": "markdown",
   "metadata": {},
   "source": [
    "### Задача \n",
    "завершить код, чтобы вычислить следующее выражение:\n",
    "$\\frac{1}{х+\\frac{1}{x+\\frac{1}{1+\\frac{1}{х}}}}$"
   ]
  },
  {
   "cell_type": "markdown",
   "metadata": {},
   "source": [
    "Тестовые данные\n",
    "\n",
    "Пример ввода: 1\n",
    "\n",
    "Ожидаемый результат:\n",
    "\n",
    "у = 0,60000000000000001\n",
    "\n",
    "Пример ввода: 10\n",
    "\n",
    "Ожидаемый результат:\n",
    "\n",
    "у = 0,09901951266867294\n",
    "\n",
    "Пример ввода: 100\n",
    "\n",
    "Ожидаемый результат:\n",
    "\n",
    "у = 0,009999000199950014\n",
    "\n",
    "Пример ввода: -5\n",
    "\n",
    "Ожидаемый результат:\n",
    "\n",
    "у = -0,19258202567760344"
   ]
  },
  {
   "cell_type": "code",
   "execution_count": 1,
   "metadata": {},
   "outputs": [
    {
     "name": "stdout",
     "output_type": "stream",
     "text": [
      "Enter value for x: 0.6\n",
      "y = 0.6153846153846154\n"
     ]
    }
   ],
   "source": [
    "x = float(input(\"Enter value for x: \"))\n",
    "y=1/(1+1/(1+x))\n",
    "\n",
    "print(\"y =\", y)"
   ]
  },
  {
   "cell_type": "markdown",
   "metadata": {},
   "source": [
    "### Задание\n",
    "Определить время окончания периода времени, заданного в виде количества минут (оно может быть сколь угодно большим). Время начала задается в виде пары часов (0..23) и минут (0..59). Результат должен быть выведен на консоль.\n",
    "\n",
    "Например, если событие начинается в 12:17 и длится 59 минут, оно закончится в 13:16"
   ]
  },
  {
   "cell_type": "markdown",
   "metadata": {},
   "source": [
    "Test <br>\n",
    "Sample input: <br>\n",
    "12 <br>\n",
    "17 <br>\n",
    "59 <br>\n",
    "\n",
    "Вывод: 13:16 <br>\n",
    "\n",
    "\n",
    "Sample input: <br>\n",
    "23 <br>\n",
    "58  <br>\n",
    "642  <br>\n",
    "\n",
    "Вывод: 10:40\n",
    " <br>\n",
    "\n",
    "Sample input: <br>\n",
    "0  <br>\n",
    "1  <br>\n",
    "2939 <br>\n",
    " <br>\n",
    "Вывод: 1:0\n",
    "\n"
   ]
  },
  {
   "cell_type": "code",
   "execution_count": null,
   "metadata": {},
   "outputs": [],
   "source": [
    "hour = int(input(\"Starting time (hours): \"))\n",
    "mins = int(input(\"Starting time (minutes): \"))\n",
    "dura = int(input(\"Event duration (minutes): \"))\n",
    "\n",
    "# Write your code here.\n"
   ]
  },
  {
   "cell_type": "code",
   "execution_count": 16,
   "metadata": {},
   "outputs": [
    {
     "name": "stdout",
     "output_type": "stream",
     "text": [
      "    *\n",
      "   * *\n",
      "  *   *\n",
      " *     *\n",
      "***   ***\n",
      "  *   *\n",
      "  *   *\n",
      "  *****\n"
     ]
    }
   ],
   "source": [
    "# минимизируйте количество вызовов функции print(), вставив последовательность \n",
    "#\\n в строки сделать стрелку в два раза больше (но сохранить пропорции)\n",
    "# продублируйте стрелку, поместив обе стрелки рядом; \n",
    "print(\"    *\")\n",
    "print(\"   * *\")\n",
    "print(\"  *   *\")\n",
    "print(\" *     *\")\n",
    "print(\"***   ***\")\n",
    "print(\"  *   *\")\n",
    "print(\"  *   *\")\n",
    "print(\"  *****\")"
   ]
  },
  {
   "cell_type": "code",
   "execution_count": 2,
   "metadata": {},
   "outputs": [
    {
     "name": "stdout",
     "output_type": "stream",
     "text": [
      "60\n",
      "2\n",
      "11\n"
     ]
    }
   ],
   "source": [
    "# Мкад\n",
    "v = int(input())\n",
    "t = int(input())\n",
    "s=v*t\n",
    "print(s%109)"
   ]
  },
  {
   "cell_type": "code",
   "execution_count": null,
   "metadata": {},
   "outputs": [],
   "source": [
    "print(\"Python is very simple language\")\n",
    "print('Hello')\n",
    "print('''Python is very popular language.\n",
    "It is also friendly language.''')\n",
    "str1 = 'Wel'\n",
    "print(str1,'come') \n",
    "str1 = 'Welcome'\n",
    "str2 = 'Python'\n",
    "print(str1, str2)\n",
    "str1 = 'Python'\n",
    "str2 = ':'\n",
    "print('Welcome' + str1 + str2)"
   ]
  },
  {
   "cell_type": "markdown",
   "metadata": {},
   "source": [
    "<a id='p10'></a>\n",
    "# Стиль C"
   ]
  },
  {
   "cell_type": "code",
   "execution_count": 4,
   "metadata": {},
   "outputs": [
    {
     "name": "stdout",
     "output_type": "stream",
     "text": [
      "The value of x is 12.35\n",
      "The value of x is 12.3457\n"
     ]
    }
   ],
   "source": [
    "x = 12.3456789\n",
    "print('The value of x is %3.2f' %x)\n",
    "print('The value of x is %3.4f' %x)\n"
   ]
  },
  {
   "cell_type": "code",
   "execution_count": null,
   "metadata": {},
   "outputs": [],
   "source": [
    "str1 = 'Python'\n",
    "print(\"Welcome %s\" % str1)\n",
    "print(\"Actual Number = %d\" %15)\n",
    "print(\"Exponential equivalent of the number = %e\" %15)\n",
    "print(\"Float of the number = %f\" %15)\n",
    "print(\"Octal equivalent of the number = %o\" %15)\n",
    "print(\"Hexadecimal equivalent of the number = %x\" %15)\n",
    "str1 = 'World'\n",
    "str2 = ':'\n",
    "print(\"Python %s %s\" %(str1,str2))\n",
    "print(\"Welcome to %%Python %s\" %'language')\n",
    "print(\"Sunday\\nMonday\\nTuesday\\nWednesday\\nThursday\\nFriday\\nSaturday\")\n",
    "print(\"\"\"\n",
    "Language:\n",
    "\\t1 Python\n",
    "\\t2 Java\\n\\t3 JavaScript\n",
    "\"\"\")"
   ]
  },
  {
   "cell_type": "code",
   "execution_count": null,
   "metadata": {},
   "outputs": [],
   "source": [
    "print(\"%f\" % 5.1234567890)\n",
    "print(\"%.5f\" % 5.1234567890)\n",
    "print(\"%9.5f\" % 5.1234567890)\n",
    "print(\"%015.5f\" % 5.1234567890)\n",
    "print(\"% 9f\" % 5.1234567890)\n",
    "print(\"% 9f\" % -5.1234567890)\n",
    "print(\"%-9.4f\" % 5.1234567890)"
   ]
  },
  {
   "cell_type": "markdown",
   "metadata": {},
   "source": [
    "<a id='p9'></a>\n",
    "# format()"
   ]
  },
  {
   "cell_type": "markdown",
   "metadata": {},
   "source": [
    "### Параметры format()\n",
    "Метод format() принимает любое количество параметров. Но они делятся на два вида:\n",
    "\n",
    "- Позиционные аргументы — список параметров, доступ к которым можно получить по индексу параметра в фигурных скобках {индекс}.\n",
    "- Параметры — ключевые слова — список параметров типа ключ=значение, доступ к которым можно получить с помощью ключа параметра в фигурных скобках {ключ}.\n"
   ]
  },
  {
   "cell_type": "markdown",
   "metadata": {},
   "source": [
    "### Для позиционных аргументов"
   ]
  },
  {
   "cell_type": "markdown",
   "metadata": {},
   "source": [
    "![xkcd_python](https://pythonru.com/wp-content/uploads/2020/01/format-dlya-pozicionnyh-argumentov.jpg)"
   ]
  },
  {
   "cell_type": "code",
   "execution_count": null,
   "metadata": {},
   "outputs": [],
   "source": [
    "# Python string format() method\n",
    "\n",
    "# default(implicit) order\n",
    "default_order = \"{}, {} and {}\".format('John','Bill','Sean')\n",
    "print('\\n--- Default Order ---')\n",
    "print(default_order)\n",
    "\n",
    "# order using positional argument\n",
    "positional_order = \"{1}, {0} and {2}\".format('John','Bill','Sean')\n",
    "print('\\n--- Positional Order ---')\n",
    "print(positional_order)\n",
    "\n"
   ]
  },
  {
   "cell_type": "markdown",
   "metadata": {},
   "source": [
    "### Для аргументов-ключевых слов"
   ]
  },
  {
   "cell_type": "code",
   "execution_count": null,
   "metadata": {},
   "outputs": [],
   "source": [
    "# order using keyword argument\n",
    "keyword_order = \"{s}, {b} and {j}\".format(j='John',b='Bill',s='Sean')\n",
    "print('\\n--- Keyword Order ---')\n",
    "print(keyword_order)"
   ]
  },
  {
   "cell_type": "markdown",
   "metadata": {},
   "source": [
    "![xkcd_python](https://pythonru.com/wp-content/uploads/2020/01/format-dlya-argumentov-klyuchevyh-slov.jpg)"
   ]
  },
  {
   "cell_type": "code",
   "execution_count": null,
   "metadata": {},
   "outputs": [],
   "source": [
    "foo = 1  # Задаем значения переменных\n",
    "bar = 'bar'  # Задаем значения переменных\n",
    "baz = 3.14  # Задаем значения переменных\n",
    "print('{}, {} and {}'.format(foo, bar, baz)) # Пары в скобках заменяются аргументами в порядке их передачи \"1, bar and 3.14\"\n",
    "print('{0}, {1}, {2}, and {1}'.format(foo, bar, baz)) # Номера соответствуют индексам аргументов : \"1, bar, 3.14, and bar\" \n",
    "print('{2}, {0}, {2}, and {1}'.format(foo, bar, baz)) # Номера соответствуют индексам аргументов \n",
    "#print('{0}, {1}, {2}, and {3}'.format(foo, bar, baz))  выдает ошибку так как индекс 3 не существует\n",
    "print(\"X value is: {xx}. Y value is: {yyl}.\".format(xx=2, yyl=3)) # Можно использовать именованные аргументы \n",
    "# аргументы по умолчанию                                                                                                                                                                                 print(\"Hello {}, your balance is {}.\".format(\"Adam\", 230.2346)) \n",
    " # позиционные аргументы                                                                                                                                                                                      print(\"Hello {0}, your balance is {1}.\".format(\"Adam\", 230.2346)) \n",
    " # аргументы ключевые слова                                                                                                                                                                                print(\"Hello {name}, your balance is {blc}.\".format(name=\"Adam\", blc=230.2346)) \n",
    " # смешанные аргументы                                                                                                                                                                                       print(\"Hello {0}, your balance is {blc}.\".format(\"Adam\", blc=230.2346))\n",
    "print('{:~^20}'.format('centered')) #вы можете также включать в спецификацию формата внутри фигурных скобок.                                                                                           #Это выражение , которое следует , и особые правила должны предшествовать двоеточие ( : ).                                                                      # :~^20 ( ^ означает выравнивание по центру, общая ширина 20, подстановка символа ~ )\n",
    "\n",
    "# целочисленные аргументы\n",
    "print(\"The number is:{:d}\".format(123))\n",
    "\n",
    " # аргументы с плавающей точкой\n",
    "print(\"The float number is:{:f}\".format(123.4567898))\n",
    "\n",
    " # восьмеричный, двоичный и шестнадцатеричный формат\n",
    "print(\"bin: {0:b}, oct: {0:o}, hex: {0:x}\".format(12))\n",
    "\n",
    "# целые числа с выравниванием по правому краю\n",
    "print(\"{:5d}\".format(12))\n",
    "\n",
    " # числа с плавающей точкой с выравниванием по центру\n",
    "print(\"{:^10.3f}\".format(12.2346))\n",
    "\n",
    " # выравнивание целого числа по левому краю заполнено нулями\n",
    "print(\"{:<05d}\".format(12))\n",
    "\n",
    " # числа с плавающей точкой с выравниванием по центру\n",
    "print(\"{:=8.3f}\".format(-12.2346))\n",
    "\n",
    "# показать знак +\n",
    "print(\"{:+f} {:+f}\".format(12.23, -12.23))\n",
    "\n",
    " # показать знак -\n",
    "print(\"{:-f} {:-f}\".format(12.23, -12.23))\n",
    " # показать место для знака +\n",
    "print(\"{: f} {: f}\".format(12.23, -12.23))\n",
    "# отступ строки с выравниванием по левому краю\n",
    "print(\"{:5}\".format(\"cat\"))\n",
    " # отступ строки с выравниванием по правому краю\n",
    "print(\"{:>5}\".format(\"cat\"))\n",
    " # заполнение строк с выравниванием по центру\n",
    "print(\"{:^5}\".format(\"cat\"))\n",
    " # заполнение строк с выравниванием по центру # и '*' - символ заполнения\n",
    "print(\"{:*^5}\".format(\"cat\"))"
   ]
  },
  {
   "cell_type": "markdown",
   "metadata": {},
   "source": [
    "<a id='p11'></a>\n",
    "# f - строки"
   ]
  },
  {
   "cell_type": "markdown",
   "metadata": {},
   "source": [
    "Каждая инструкция f-строки состоит из двух частей: символа f (или F) и строки, которую нужно форматировать. Строка должна быть в одинарных, двойных или тройных кавычках."
   ]
  },
  {
   "cell_type": "code",
   "execution_count": null,
   "metadata": {},
   "outputs": [],
   "source": [
    "print(f\"{name} это {type_of_site}.\")"
   ]
  },
  {
   "cell_type": "markdown",
   "metadata": {},
   "source": [
    "Напишите программу, которая возводит введенное число в степень 10.\n",
    "\n",
    "Входные данные\n",
    "\n",
    "Входная строка содержит единственное вещественное число в диапазоне от 0 до 8.\n",
    "\n",
    "Выходные данные\n",
    "\n",
    "Нужно вывести 10-ю степень полученного числа с тремя знаками в дробной части. "
   ]
  },
  {
   "cell_type": "code",
   "execution_count": 6,
   "metadata": {},
   "outputs": [
    {
     "name": "stdout",
     "output_type": "stream",
     "text": [
      "5.667\n",
      "   34161122.003\n"
     ]
    }
   ],
   "source": [
    "a = float(input())\n",
    "print(f\"{a**10:.3f}\")"
   ]
  },
  {
   "cell_type": "markdown",
   "metadata": {},
   "source": [
    "Напишите программу, которая вводит трёхзначное число и разбивает его на цифры. Например, при вводе числа 123 программа должна вывести «1 2 3». \n",
    "\n",
    "Входные данные\n",
    "\n",
    "Входная строка содержит одно трёхзначное число.\n",
    "\n",
    "Выходные данные\n",
    "\n",
    "Программа должна вывести три цифры переданного ей числа, начиная с первой, разделённые пробелами."
   ]
  },
  {
   "cell_type": "code",
   "execution_count": 8,
   "metadata": {},
   "outputs": [
    {
     "name": "stdout",
     "output_type": "stream",
     "text": [
      "uyuuu\n",
      "u*y*u*u*u\n"
     ]
    }
   ],
   "source": [
    "a = input()\n",
    "print('*'.join(a))"
   ]
  },
  {
   "cell_type": "markdown",
   "metadata": {},
   "source": [
    "Напишите программу, которая находит сумму, произведение и среднее арифметическое трёх целых чисел, введённых с клавиатуры.\n",
    "\n",
    "Входные данные\n",
    "\n",
    "Три целых числа вводятся c новой строчки.\n",
    "\n",
    "Выходные данные\n",
    "\n",
    "Программа должна вывести сумму, произведение и среднее арифметическое введенных чисел. Среднее арифметическое нужно вывести с точностью 3 знака после десятичной"
   ]
  },
  {
   "cell_type": "markdown",
   "metadata": {},
   "source": [
    "4\n",
    "5\n",
    "7\n",
    "\n",
    "Выходные значения\n",
    "\n",
    "4+5+7=16\n",
    "4*5*7=140\n",
    "(4+5+7)/3=5.333"
   ]
  },
  {
   "cell_type": "code",
   "execution_count": 13,
   "metadata": {},
   "outputs": [
    {
     "name": "stdout",
     "output_type": "stream",
     "text": [
      "5\n",
      "6\n",
      "5\n",
      "5+6+5=16\n",
      "5*6*5=150\n",
      "(5+6+5)/3=5.333\n"
     ]
    }
   ],
   "source": [
    "x=int(input())\n",
    "y=int(input())\n",
    "z=int(input())\n",
    "print(\"{}+{}+{}={}\".format(x, y, z, (x+y+z)))\n",
    "print(f\"{x}*{y}*{z}={x*y*z}\")\n",
    "print(\"(%d+%d+%d)/3=%.3f\" % (x, y, z, (x+y+z)/3))"
   ]
  },
  {
   "cell_type": "markdown",
   "metadata": {},
   "source": [
    "Напишите программу, которая вводит радиус круга и вычисляет его площадь и длину окружности.\n",
    "\n",
    "Входные данные\n",
    "Входная строка содержит одно число - радиус круга.\n",
    "\n",
    "Выходные данные\n",
    "В первой строке должно быть выведена площадь круга, а во второй строке - длина окружности. Оба значения выводятся с тремя знаками в дробной части."
   ]
  },
  {
   "cell_type": "code",
   "execution_count": 14,
   "metadata": {},
   "outputs": [
    {
     "name": "stdout",
     "output_type": "stream",
     "text": [
      "5\n",
      "Площадь круга 78.540\n",
      "31.416\n"
     ]
    }
   ],
   "source": [
    "from math import pi\n",
    "r = float(input())\n",
    "S = pi*r*r\n",
    "print('Площадь круга %.3f' %S)\n",
    "l=2*pi*r\n",
    "print(f\"{:.3f}\")\n",
    "\n"
   ]
  },
  {
   "cell_type": "code",
   "execution_count": 10,
   "metadata": {},
   "outputs": [
    {
     "name": "stdout",
     "output_type": "stream",
     "text": [
      "3.141592653589793\n"
     ]
    }
   ],
   "source": [
    "import math\n",
    "print(math.pi)"
   ]
  },
  {
   "cell_type": "code",
   "execution_count": 12,
   "metadata": {},
   "outputs": [
    {
     "name": "stdout",
     "output_type": "stream",
     "text": [
      "3.141592653589793\n"
     ]
    }
   ],
   "source": [
    "from math import pi\n",
    "print(pi)"
   ]
  },
  {
   "cell_type": "markdown",
   "metadata": {},
   "source": [
    "<a id='t3'></a>\n",
    "# Условный оператор"
   ]
  },
  {
   "cell_type": "markdown",
   "metadata": {},
   "source": [
    "<a id='p3'></a>\n",
    "# Логические выражения"
   ]
  },
  {
   "cell_type": "markdown",
   "metadata": {},
   "source": [
    "<pre>\n",
    "\n",
    "    !=                  ==                  >=                  <=  \n",
    "    <                   >                   or                  and\n",
    "    not()\n",
    "\n",
    "</pre>"
   ]
  },
  {
   "cell_type": "code",
   "execution_count": 15,
   "metadata": {},
   "outputs": [
    {
     "name": "stdout",
     "output_type": "stream",
     "text": [
      "True\n",
      "False\n"
     ]
    }
   ],
   "source": [
    "var = 0  # Assigning 0 to var\n",
    "print(var == 0)\n",
    "\n",
    "var = 1  # Assigning 1 to var\n",
    "print(var == 0)"
   ]
  },
  {
   "cell_type": "code",
   "execution_count": 16,
   "metadata": {},
   "outputs": [
    {
     "name": "stdout",
     "output_type": "stream",
     "text": [
      "False\n",
      "True\n"
     ]
    }
   ],
   "source": [
    "var = 0  # Assigning 0 to var\n",
    "print(var != 0)\n",
    "\n",
    "var = 1  # Assigning 1 to var\n",
    "print(var != 0)"
   ]
  },
  {
   "cell_type": "markdown",
   "metadata": {},
   "source": [
    "Используя один из операторов сравнения в Python, напишите простую двухстрочную программу, которая принимает в качестве входных данных параметр n, являющийся целым числом, и выводит False, если n меньше 100, и True, если n больше или равно 100."
   ]
  },
  {
   "cell_type": "markdown",
   "metadata": {},
   "source": [
    "<pre>\n",
    "Sample input: 55\n",
    "\n",
    "Expected output: False\n",
    "\n",
    "Sample input: 99\n",
    "\n",
    "Expected output: False\n",
    "\n",
    "Sample input: 100\n",
    "\n",
    "Expected output: True\n",
    "\n",
    "Sample input: 101\n",
    "\n",
    "Expected output: True\n",
    "\n",
    "Sample input: -5\n",
    "\n",
    "Expected output: False\n",
    "\n",
    "Sample input: +123\n",
    "\n",
    "Expected output: True\n",
    "\n",
    "</pre>"
   ]
  },
  {
   "cell_type": "code",
   "execution_count": 17,
   "metadata": {},
   "outputs": [
    {
     "name": "stdout",
     "output_type": "stream",
     "text": [
      "55\n",
      "False\n"
     ]
    }
   ],
   "source": [
    "n=int(input())\n",
    "print(n>=100)"
   ]
  },
  {
   "cell_type": "markdown",
   "metadata": {},
   "source": [
    "<a id='p3'></a>\n",
    "# if-else"
   ]
  },
  {
   "cell_type": "markdown",
   "metadata": {},
   "source": [
    "![xkcd_python](https://cdn.techbeamers.com/wp-content/uploads/2018/08/Python-Decision-Making-If-Elif-Else-Statements.png)"
   ]
  },
  {
   "cell_type": "markdown",
   "metadata": {},
   "source": [
    " if Условие:\n",
    " \n",
    "     Блок инструкций 1\n",
    "     \n",
    " else:\n",
    " \n",
    "     Блок инструкций 2"
   ]
  },
  {
   "cell_type": "code",
   "execution_count": 18,
   "metadata": {},
   "outputs": [
    {
     "name": "stdout",
     "output_type": "stream",
     "text": [
      "-9\n",
      "9\n"
     ]
    }
   ],
   "source": [
    "x = int(input())\n",
    "if x < 0:\n",
    "    x = (-1)*x\n",
    "print(x)"
   ]
  },
  {
   "cell_type": "code",
   "execution_count": 20,
   "metadata": {},
   "outputs": [
    {
     "name": "stdout",
     "output_type": "stream",
     "text": [
      "go_for_a_walk\n",
      "have_lunch\n"
     ]
    }
   ],
   "source": [
    "the_weather_is_good=1\n",
    "if the_weather_is_good==1:\n",
    "    print('go_for_a_walk')\n",
    "else:\n",
    "    print('go_to_a_theater')\n",
    "print('have_lunch')\n"
   ]
  },
  {
   "cell_type": "code",
   "execution_count": null,
   "metadata": {},
   "outputs": [],
   "source": [
    "if the_weather_is_good:\n",
    "    print('go_for_a_walk')\n",
    "    print('have_fun')\n",
    "else:\n",
    "    print('go_to_a_theater')\n",
    "    print('enjoy_the_movie')\n",
    "print('have_lunch')"
   ]
  },
  {
   "cell_type": "code",
   "execution_count": null,
   "metadata": {},
   "outputs": [],
   "source": [
    "#Вложенные условные инструкции\n",
    "x = int(input())\n",
    "y = int(input())\n",
    "if x > 0:\n",
    "    if y > 0:               # x > 0, y > 0\n",
    "        print(\"Первая четверть\")\n",
    "    else:                   # x > 0, y < 0\n",
    "        print(\"Четвертая четверть\")\n",
    "else:\n",
    "    if y > 0:               # x < 0, y > 0\n",
    "        print(\"Вторая четверть\")\n",
    "    else:                   # x < 0, y < 0\n",
    "        print(\"Третья четверть\")"
   ]
  },
  {
   "cell_type": "code",
   "execution_count": null,
   "metadata": {},
   "outputs": [],
   "source": [
    "# Каскадные условные инструкции\n",
    "x = int(input())\n",
    "y = int(input())\n",
    "if x > 0 and y > 0:\n",
    "    print(\"Первая четверть\")\n",
    "elif x > 0 and y < 0:\n",
    "    print(\"Четвертая четверть\")\n",
    "elif y > 0:\n",
    "    print(\"Вторая четверть\")\n",
    "else:\n",
    "    print(\"Третья четверть\")"
   ]
  },
  {
   "cell_type": "markdown",
   "metadata": {},
   "source": [
    "Рассмотрим примеры.Все примеры решают одну и ту же задачу — находят наибольшее из нескольких чисел и выводят его на печать."
   ]
  },
  {
   "cell_type": "code",
   "execution_count": null,
   "metadata": {},
   "outputs": [],
   "source": [
    "# Read two numbers\n",
    "number1 = int(input(\"Enter the first number: \"))\n",
    "number2 = int(input(\"Enter the second number: \"))\n",
    "\n",
    "# Choose the larger number\n",
    "if number1 > number2:\n",
    "    larger_number = number1\n",
    "else:\n",
    "    larger_number = number2\n",
    "\n",
    "# Print the result\n",
    "print(\"The larger number is:\", larger_number)\n",
    "\n"
   ]
  },
  {
   "cell_type": "markdown",
   "metadata": {},
   "source": [
    "Этот стиль, однако, может вводить в заблуждение, и мы не собираемся использовать его в наших будущих программах, но его определенно стоит знать, если вы хотите читать и понимать чужие программы.\n",
    "\n",
    "Других отличий в коде нет."
   ]
  },
  {
   "cell_type": "code",
   "execution_count": null,
   "metadata": {},
   "outputs": [],
   "source": [
    "# Read two numbers\n",
    "number1 = int(input(\"Enter the first number: \"))\n",
    "number2 = int(input(\"Enter the second number: \"))\n",
    "\n",
    "# Choose the larger number\n",
    "if number1 > number2: larger_number = number1\n",
    "else: larger_number = number2\n",
    "\n",
    "# Print the result\n",
    "print(\"The larger number is:\", larger_number)\n",
    "\n"
   ]
  },
  {
   "cell_type": "code",
   "execution_count": null,
   "metadata": {},
   "outputs": [],
   "source": []
  },
  {
   "cell_type": "code",
   "execution_count": null,
   "metadata": {},
   "outputs": [],
   "source": [
    "# Read three numbers\n",
    "number1 = int(input(\"Enter the first number: \"))\n",
    "number2 = int(input(\"Enter the second number: \"))\n",
    "number3 = int(input(\"Enter the third number: \"))\n",
    "\n",
    "# We temporarily assume that the first number\n",
    "# is the largest one.\n",
    "# We will verify this soon.\n",
    "largest_number = number1\n",
    "\n",
    "# We check if the second number is larger than current largest_number\n",
    "# and update largest_number if needed.\n",
    "if number2 > largest_number:\n",
    "    largest_number = number2\n",
    "\n",
    "# We check if the third number is larger than current largest_number\n",
    "# and update largest_number if needed.\n",
    "if number3 > largest_number:\n",
    "    largest_number = number3\n",
    "\n",
    "# Print the result\n",
    "print(\"The largest number is:\", largest_number)\n",
    "\n"
   ]
  },
  {
   "cell_type": "code",
   "execution_count": null,
   "metadata": {},
   "outputs": [],
   "source": [
    "# Read three numbers\n",
    "number1 = int(input(\"Enter the first number: \"))\n",
    "number2 = int(input(\"Enter the second number: \"))\n",
    "number3 = int(input(\"Enter the third number: \"))\n",
    "\n",
    "# We temporarily assume that the first number\n",
    "# is the largest one.\n",
    "# We will verify this soon.\n",
    "largest_number = number1\n",
    "\n",
    "# We check if the second number is larger than current largest_number\n",
    "# and update largest_number if needed.\n",
    "if number2 > largest_number:\n",
    "    largest_number = number2\n",
    "\n",
    "# We check if the third number is larger than current largest_number\n",
    "# and update largest_number if needed.\n",
    "if number3 > largest_number:\n",
    "    largest_number = number3\n",
    "\n",
    "# Print the result\n",
    "print(\"The largest number is:\", largest_number)\n",
    "\n"
   ]
  },
  {
   "cell_type": "markdown",
   "metadata": {},
   "source": [
    "Требуется определить, является ли данный год високосным. (Напомним, что год является високосным, если его номер кратен 4, но не кратен 100, а также если он кратен 400.)\n",
    "\n",
    "Входные данные\n",
    "Вводится единственное число - номер года (целое, положительное, не превышает 30000).\n",
    "\n",
    "Выходные данные\n",
    "Требуется вывести слово YES, если год является високосным и NO - в противном случае.<br>\n",
    "2007<br>\n",
    "NO<br>\n",
    "2000<br>\n",
    "YES"
   ]
  },
  {
   "cell_type": "markdown",
   "metadata": {},
   "source": [
    "В математике функция sign(x) (знак числа) определена так:\n",
    "\n",
    "sign(x) = 1, если x > 0,\n",
    "\n",
    "sign(x) = -1, если x < 0,\n",
    "\n",
    "sign(x) = 0, если x = 0."
   ]
  },
  {
   "cell_type": "code",
   "execution_count": null,
   "metadata": {},
   "outputs": [],
   "source": []
  },
  {
   "cell_type": "markdown",
   "metadata": {},
   "source": [
    "Даны три целых числа. Определите, сколько среди них совпадающих. Программа должна вывести одно из чисел: 3 (если все совпадают), 2 (если два совпадает) или 0 (если все числа различны)."
   ]
  },
  {
   "cell_type": "code",
   "execution_count": null,
   "metadata": {},
   "outputs": [],
   "source": []
  },
  {
   "cell_type": "markdown",
   "metadata": {},
   "source": [
    "Напишите программу, которая вводит номер месяца и выводит название времени года на английском языке. При вводе неверного номера месяца должно быть выведено слово 'NO'.\n",
    "\n",
    "Входные данные\n",
    "\n",
    "Входная строка содержит единственное число – номер месяца (возможно, неверный).\n",
    "\n",
    "Выходные данные\n",
    "\n",
    "Нужно вывести название времени года (на английском языке), соответствующее введённому номеру месяца ('winter' – зима, 'spring' – весна, 'summer' – лето, 'autumn' – осень). Если введён неверный номер месяца, программы должна вывести слово 'NO'."
   ]
  },
  {
   "cell_type": "code",
   "execution_count": null,
   "metadata": {},
   "outputs": [],
   "source": []
  },
  {
   "cell_type": "markdown",
   "metadata": {},
   "source": [
    "Спатифиллум, более известный как мирная лилия или белый парус, является одним из самых популярных комнатных растений, отфильтровывающих вредные токсины из воздуха. Некоторые из токсинов, которые он нейтрализует, включают бензол, формальдегид и аммиак.\n",
    "\n",
    "Представьте, что ваша компьютерная программа любит эти растения. Всякий раз, когда он получает ввод в виде слова спатифиллум, он невольно выкрикивает в консоль следующую строку: «Спатифиллум — лучшее растение на свете!»\n"
   ]
  },
  {
   "cell_type": "code",
   "execution_count": null,
   "metadata": {},
   "outputs": [],
   "source": []
  },
  {
   "cell_type": "markdown",
   "metadata": {},
   "source": [
    "Можно расширить оператор на несколько строк с помощью символа продолжения строки (\\)"
   ]
  },
  {
   "cell_type": "code",
   "execution_count": 6,
   "metadata": {},
   "outputs": [
    {
     "data": {
      "text/plain": [
       "45"
      ]
     },
     "execution_count": 6,
     "metadata": {},
     "output_type": "execute_result"
    }
   ],
   "source": [
    "a = 1 + 2 + 3 + \\\n",
    "    4 + 5 + 6 + \\\n",
    "    7 + 8 + 9\n",
    "a"
   ]
  },
  {
   "cell_type": "code",
   "execution_count": 8,
   "metadata": {},
   "outputs": [
    {
     "data": {
      "text/plain": [
       "45"
      ]
     },
     "execution_count": 8,
     "metadata": {},
     "output_type": "execute_result"
    }
   ],
   "source": [
    "a = (1 + 2 + 3 +\n",
    "    4 + 5 + 6 +\n",
    "    7 + 8 + 9)\n",
    "a"
   ]
  },
  {
   "cell_type": "markdown",
   "metadata": {},
   "source": [
    "<a id='t4'></a>\n",
    "#  Циклы"
   ]
  },
  {
   "cell_type": "markdown",
   "metadata": {},
   "source": [
    "![xkcd_python](https://cdn.programiz.com/sites/tutorial2program/files/forLoop.jpg)"
   ]
  },
  {
   "cell_type": "code",
   "execution_count": null,
   "metadata": {},
   "outputs": [],
   "source": [
    "for i in range(5):\n",
    "    print(i)"
   ]
  },
  {
   "cell_type": "code",
   "execution_count": null,
   "metadata": {},
   "outputs": [],
   "source": [
    "for i in range(1,5):\n",
    "    print(i)"
   ]
  },
  {
   "cell_type": "code",
   "execution_count": null,
   "metadata": {},
   "outputs": [],
   "source": [
    "for i in range(1,5,2):\n",
    "    print(i)"
   ]
  },
  {
   "cell_type": "code",
   "execution_count": null,
   "metadata": {},
   "outputs": [],
   "source": [
    "i = 1\n",
    "while i < 5:\n",
    "    print(i)\n",
    "    i += 1"
   ]
  },
  {
   "cell_type": "code",
   "execution_count": null,
   "metadata": {},
   "outputs": [],
   "source": [
    "i = 1\n",
    "while i < 100:\n",
    "    print(i**2)\n",
    "    i += i**2  # a += b is short for a = a + b"
   ]
  },
  {
   "cell_type": "markdown",
   "metadata": {},
   "source": [
    "break - немедленно выходит из цикла и безоговорочно завершает работу цикла; программа начинает выполнение инструкции, ближайшей после тела цикла;\n",
    "\n",
    "continue — ведет себя так, как будто программа внезапно достигла конца тела; начинается следующий ход, и немедленно проверяется выражение условия."
   ]
  },
  {
   "cell_type": "code",
   "execution_count": null,
   "metadata": {},
   "outputs": [],
   "source": [
    "i = 1\n",
    "while i < 5:\n",
    "    print(i)\n",
    "    i += 1\n",
    "else:\n",
    "    print(\"else:\", i)\n"
   ]
  },
  {
   "cell_type": "code",
   "execution_count": null,
   "metadata": {},
   "outputs": [],
   "source": [
    "for i in range(5):\n",
    "    print(i)\n",
    "else:\n",
    "    print(\"else:\", i)\n"
   ]
  },
  {
   "cell_type": "code",
   "execution_count": null,
   "metadata": {},
   "outputs": [],
   "source": [
    "# break - example\n",
    "\n",
    "print(\"The break instruction:\")\n",
    "for i in range(1, 6):\n",
    "    if i == 3:\n",
    "        break\n",
    "    print(\"Inside the loop.\", i)\n",
    "print(\"Outside the loop.\")"
   ]
  },
  {
   "cell_type": "code",
   "execution_count": null,
   "metadata": {},
   "outputs": [],
   "source": [
    "# continue - example\n",
    "\n",
    "print(\"\\nThe continue instruction:\")\n",
    "for i in range(1, 6):\n",
    "    if i == 3:\n",
    "        continue\n",
    "    print(\"Inside the loop.\", i)\n",
    "print(\"Outside the loop.\")"
   ]
  },
  {
   "cell_type": "code",
   "execution_count": null,
   "metadata": {},
   "outputs": [],
   "source": [
    "for num in range(2, 10):\n",
    "    if num % 2 == 0:\n",
    "        continue # this jumps us back to the top\n",
    "    print(f\"Found {num}, an odd number\")"
   ]
  },
  {
   "cell_type": "code",
   "execution_count": null,
   "metadata": {},
   "outputs": [],
   "source": [
    "n = 64\n",
    "for x in range(2, n):\n",
    "    if n % x == 0: # if n divisible by x\n",
    "        print(f'{n} equals {x} * {n // x}')\n",
    "        break"
   ]
  },
  {
   "cell_type": "code",
   "execution_count": null,
   "metadata": {},
   "outputs": [],
   "source": [
    "for i in range(5):\n",
    "    for j in range(5*i):\n",
    "        if j == 10:\n",
    "            print(j)\n",
    "            break   \n",
    "    #break exits to here"
   ]
  },
  {
   "cell_type": "code",
   "execution_count": null,
   "metadata": {},
   "outputs": [],
   "source": [
    "if False:\n",
    "    pass #do nothing\n",
    "else:\n",
    "    print('True!')"
   ]
  },
  {
   "cell_type": "markdown",
   "metadata": {},
   "source": [
    "https://informatics.msk.ru/mod/statements/view.php?id=11145#1"
   ]
  },
  {
   "cell_type": "markdown",
   "metadata": {},
   "source": [
    "# Вложенные циклы"
   ]
  },
  {
   "cell_type": "code",
   "execution_count": null,
   "metadata": {},
   "outputs": [],
   "source": [
    "#Выведите на экран таблицу умножения чисел от 1 до 9."
   ]
  },
  {
   "cell_type": "code",
   "execution_count": null,
   "metadata": {},
   "outputs": [],
   "source": [
    "# Выведите на экран таблицу сложения чисел от 1 до 9, т.е. каждый элемент таблицы это значение суммы индекса строки и столбца."
   ]
  },
  {
   "cell_type": "code",
   "execution_count": null,
   "metadata": {},
   "outputs": [],
   "source": [
    "# Выведите на экран таблицу степеней числа a в степени b, где a и b - числа от 1 до 5, т.е. каждый элемент таблицы это значение индекса строки, возведенное в степень равное индексу столбца"
   ]
  },
  {
   "cell_type": "code",
   "execution_count": null,
   "metadata": {},
   "outputs": [],
   "source": [
    "# Выведите на экран таблицу деления числа a на число b, где a и b - числа от 1 до 5, т.е. каждый элемент таблицы это значение частного от деления индекса строки на индекс столбца с точностью 2 знака после запятой. Для форматирования вывода дробного числа используйте функцию round(x, 2) Эта функция принимает на вход число x и количество знаков после запятой, которые нужно оставить при выводе. В данном случае это 2."
   ]
  },
  {
   "cell_type": "markdown",
   "metadata": {},
   "source": [
    "Программа получает на вход натуральное число N (1 ≤ N ≤100). Выведите на экран таблицу размером NxN, заполненную по следующему правилу: строка с индексом 0 и N-1 заполнена 1, все остальные строки 0.\n",
    "\n",
    "Пример\n",
    "\n",
    "Входные значения \n",
    "\n",
    "4 \n",
    "\n",
    "Выходные данные\n",
    "\n",
    "1 1 1 1 \n",
    "\n",
    "0 0 0 0\n",
    "\n",
    "0 0 0 0\n",
    "\n",
    "1 1 1 1"
   ]
  },
  {
   "cell_type": "code",
   "execution_count": null,
   "metadata": {},
   "outputs": [],
   "source": []
  },
  {
   "cell_type": "markdown",
   "metadata": {},
   "source": [
    "№10. Программа получает на вход натуральное число N (1 ≤ N ≤100). Выведите на экран таблицу размером NxN, заполненную по следующему правилу: ко краям таблицы стоят 1, а в середине 0.\n",
    "\n",
    "Пример\n",
    "\n",
    "Входные значения\n",
    "\n",
    "4 \n",
    "\n",
    " Выходные значения\n",
    " \n",
    " 1 1 1 1 \n",
    " \n",
    " 1 0 0 1 \n",
    " \n",
    " 1 0 0 1 \n",
    " \n",
    " 1 1 1 1"
   ]
  },
  {
   "cell_type": "code",
   "execution_count": null,
   "metadata": {},
   "outputs": [],
   "source": []
  },
  {
   "cell_type": "code",
   "execution_count": null,
   "metadata": {},
   "outputs": [],
   "source": [
    "Программа получает на вход натуральное число N (1 ≤ N ≤100). Выведите на экран таблицу размером NxN, по углам которой стоят 1, все остальные элементы 0.\n",
    "\n",
    "Пример\n",
    "\n",
    "Входные значения \n",
    "4 \n",
    "Выходные значения\n",
    "\n",
    "1 0 0 1 \n",
    "\n",
    "0 0 0 0 \n",
    "\n",
    "0 0 0 0 \n",
    "\n",
    "1 0 0 1"
   ]
  },
  {
   "cell_type": "code",
   "execution_count": null,
   "metadata": {},
   "outputs": [],
   "source": []
  },
  {
   "cell_type": "code",
   "execution_count": null,
   "metadata": {},
   "outputs": [],
   "source": [
    "Программа получает на вход натуральное число N (2 ≤ N ≤100, N - четное). Выведите на экран таблицу размером NxN, верхняя половина которой заполнена 1, а нижняя 0.\n",
    "\n",
    "Пример\n",
    "\n",
    "Входные значения \n",
    "\n",
    "4 \n",
    "Выходные значения\n",
    "\n",
    "1 1 1 1\n",
    "\n",
    "1 1 1 1 \n",
    "\n",
    "0 0 0 0 \n",
    "\n",
    "0 0 0 0"
   ]
  },
  {
   "cell_type": "code",
   "execution_count": null,
   "metadata": {},
   "outputs": [],
   "source": []
  },
  {
   "cell_type": "markdown",
   "metadata": {},
   "source": [
    "Программа получает на вход натуральное число N (2 ≤ N ≤100, N - четное). Выведите на экран таблицу размером NxN, верхняя четверть заполнена 1, а все остальные элементы 0.\n",
    "\n",
    "Пример\n",
    "\n",
    "Входные значения\n",
    "\n",
    "4  \n",
    "Выходные значения\n",
    "1 1 0 0 \n",
    "\n",
    "1 1 0 0 \n",
    "\n",
    "0 0 0 0 \n",
    "\n",
    "0 0 0 0"
   ]
  },
  {
   "cell_type": "code",
   "execution_count": null,
   "metadata": {},
   "outputs": [],
   "source": []
  },
  {
   "cell_type": "markdown",
   "metadata": {},
   "source": [
    "Программа получает на вход натуральное число N (3 ≤ N ≤100, N - нечетное). Выведите на экран таблицу размером NxN, средний столбец и средняя строка которой заполнены единицами, все остальные элементы нули.\n",
    "\n",
    "Пример\n",
    "\n",
    "Входные значения \n",
    "\n",
    "5 \n",
    "Выходные значения\n",
    "0 0 1 0 0 \n",
    "\n",
    "0 0 1 0 0 \n",
    "\n",
    "1 1 1 1 1\n",
    "\n",
    "0 0 1 0 0 \n",
    "\n",
    "0 0 1 0 0"
   ]
  },
  {
   "cell_type": "code",
   "execution_count": null,
   "metadata": {},
   "outputs": [],
   "source": []
  },
  {
   "cell_type": "code",
   "execution_count": null,
   "metadata": {},
   "outputs": [],
   "source": [
    "Программа получает на вход натуральное число N (1 ≤ N ≤100). Выведите на экран таблицу размером NxN, в которой на главной диагонали стоят 1, а все остальные места заполнен 0.\n",
    "\n",
    "Пример\n",
    "\n",
    "Входные значения \n",
    "\n",
    "4 \n",
    "Выходные значения\n",
    "\n",
    "1 0 0 0 \n",
    "\n",
    "0 1 0 0 \n",
    "\n",
    "0 0 1 0 \n",
    "\n",
    "0 0 0 1"
   ]
  },
  {
   "cell_type": "code",
   "execution_count": null,
   "metadata": {},
   "outputs": [],
   "source": []
  },
  {
   "cell_type": "code",
   "execution_count": null,
   "metadata": {},
   "outputs": [],
   "source": [
    "Программа получает на вход натуральное число N (1 ≤ N ≤100). Выведите на экран таблицу размером NxN, в которой на главной диагонали и ниже стоят 1, а все остальные места заполнен 0.\n",
    "\n",
    "Пример\n",
    "\n",
    "Входные значения \n",
    "\n",
    "4 \n",
    "\n",
    "Выходные значения\n",
    "\n",
    "1 0 0 0\n",
    "\n",
    "1 1 0 0 \n",
    "\n",
    "1 1 1 0 \n",
    "\n",
    "1 1 1 1"
   ]
  },
  {
   "cell_type": "code",
   "execution_count": null,
   "metadata": {},
   "outputs": [],
   "source": []
  },
  {
   "cell_type": "code",
   "execution_count": null,
   "metadata": {},
   "outputs": [],
   "source": [
    "Программа получает на вход натуральное число N (2 ≤ N ≤100, N - четное). Выведите на экран таблицу размером NxN, нижний угол первой четверти которой заполнен единицами, а все остальные элементы нулями.\n",
    "\n",
    "Пример\n",
    "\n",
    "Входные значения \n",
    "\n",
    "6 \n",
    "\n",
    "Выходные значения\n",
    "1 0 0 0 0 0 \n",
    "\n",
    "1 1 0 0 0 0 \n",
    "\n",
    "1 1 1 0 0 0 \n",
    "\n",
    "0 0 0 0 0 0 \n",
    "\n",
    "0 0 0 0 0 0 \n",
    "\n",
    "0 0 0 0 0 0"
   ]
  },
  {
   "cell_type": "code",
   "execution_count": null,
   "metadata": {},
   "outputs": [],
   "source": []
  },
  {
   "cell_type": "code",
   "execution_count": null,
   "metadata": {},
   "outputs": [],
   "source": []
  },
  {
   "cell_type": "code",
   "execution_count": null,
   "metadata": {},
   "outputs": [],
   "source": []
  }
 ],
 "metadata": {
  "kernelspec": {
   "display_name": "Python 3",
   "language": "python",
   "name": "python3"
  },
  "language_info": {
   "codemirror_mode": {
    "name": "ipython",
    "version": 3
   },
   "file_extension": ".py",
   "mimetype": "text/x-python",
   "name": "python",
   "nbconvert_exporter": "python",
   "pygments_lexer": "ipython3",
   "version": "3.8.3"
  }
 },
 "nbformat": 4,
 "nbformat_minor": 4
}
